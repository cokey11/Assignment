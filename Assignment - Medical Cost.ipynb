{
 "cells": [
  {
   "cell_type": "code",
   "execution_count": null,
   "metadata": {},
   "outputs": [],
   "source": []
  },
  {
   "cell_type": "markdown",
   "metadata": {},
   "source": [
    "## Importing Essentials"
   ]
  },
  {
   "cell_type": "code",
   "execution_count": 1,
   "metadata": {},
   "outputs": [],
   "source": [
    "#pip install -U seaborn"
   ]
  },
  {
   "cell_type": "code",
   "execution_count": 2,
   "metadata": {
    "execution": {
     "iopub.execute_input": "2022-01-02T16:31:36.674502Z",
     "iopub.status.busy": "2022-01-02T16:31:36.673784Z",
     "iopub.status.idle": "2022-01-02T16:31:37.745148Z",
     "shell.execute_reply": "2022-01-02T16:31:37.744418Z",
     "shell.execute_reply.started": "2022-01-02T16:31:36.674407Z"
    }
   },
   "outputs": [
    {
     "data": {
      "text/html": [
       "        <script type=\"text/javascript\">\n",
       "        window.PlotlyConfig = {MathJaxConfig: 'local'};\n",
       "        if (window.MathJax) {MathJax.Hub.Config({SVG: {font: \"STIX-Web\"}});}\n",
       "        if (typeof require !== 'undefined') {\n",
       "        require.undef(\"plotly\");\n",
       "        requirejs.config({\n",
       "            paths: {\n",
       "                'plotly': ['https://cdn.plot.ly/plotly-2.2.0.min']\n",
       "            }\n",
       "        });\n",
       "        require(['plotly'], function(Plotly) {\n",
       "            window._Plotly = Plotly;\n",
       "        });\n",
       "        }\n",
       "        </script>\n",
       "        "
      ]
     },
     "metadata": {},
     "output_type": "display_data"
    }
   ],
   "source": [
    "# Python ≥3.5 is required\n",
    "import sys\n",
    "assert sys.version_info >= (3, 5)\n",
    "\n",
    "# Scikit-Learn ≥0.20 is required\n",
    "import sklearn\n",
    "assert sklearn.__version__ >= \"0.20\"\n",
    "\n",
    "import pandas as pd\n",
    "import numpy as np\n",
    "import seaborn as sns\n",
    "import matplotlib.pyplot as plt\n",
    "import plotly.graph_objs as go\n",
    "import plotly.express as px\n",
    "from plotly.offline import download_plotlyjs, init_notebook_mode, plot, iplot\n",
    "init_notebook_mode(connected=True)\n",
    "from plotly import tools\n",
    "from string import ascii_letters\n",
    "\n",
    "\n",
    "\n",
    "from sklearn.linear_model import LinearRegression\n",
    "from sklearn.model_selection import train_test_split\n",
    "from sklearn.preprocessing import PolynomialFeatures\n",
    "from sklearn.metrics import classification_report, r2_score, mean_squared_error\n",
    "from sklearn.ensemble import RandomForestRegressor\n",
    "\n",
    "\n",
    "from sklearn.model_selection import train_test_split as holdout\n",
    "from sklearn.linear_model import LinearRegression\n",
    "from sklearn import metrics\n",
    "\n",
    "\n",
    "# Regression Modeling\n",
    "import statsmodels.api as sm\n",
    "from statsmodels.stats.anova import anova_lm\n",
    "from statsmodels.sandbox.regression.predstd import wls_prediction_std\n",
    "from statsmodels.formula.api import ols\n",
    "\n",
    "from sklearn.svm import SVC\n",
    "from sklearn.tree import DecisionTreeClassifier as dtc\n",
    "\n",
    "from sklearn.pipeline import make_pipeline,Pipeline\n",
    "from sklearn.model_selection import GridSearchCV,cross_val_score"
   ]
  },
  {
   "cell_type": "code",
   "execution_count": 3,
   "metadata": {},
   "outputs": [],
   "source": [
    "import warnings\n",
    "\n",
    "warnings.filterwarnings('ignore')"
   ]
  },
  {
   "cell_type": "code",
   "execution_count": 4,
   "metadata": {
    "execution": {
     "iopub.execute_input": "2022-01-02T16:31:37.748439Z",
     "iopub.status.busy": "2022-01-02T16:31:37.748245Z",
     "iopub.status.idle": "2022-01-02T16:31:37.767786Z",
     "shell.execute_reply": "2022-01-02T16:31:37.76715Z",
     "shell.execute_reply.started": "2022-01-02T16:31:37.748415Z"
    }
   },
   "outputs": [],
   "source": [
    "df = pd.read_csv('insurance.csv')"
   ]
  },
  {
   "cell_type": "markdown",
   "metadata": {},
   "source": [
    "## Exploratory Data Analysis"
   ]
  },
  {
   "cell_type": "code",
   "execution_count": 5,
   "metadata": {
    "execution": {
     "iopub.execute_input": "2022-01-02T16:31:37.769142Z",
     "iopub.status.busy": "2022-01-02T16:31:37.768865Z",
     "iopub.status.idle": "2022-01-02T16:31:37.788013Z",
     "shell.execute_reply": "2022-01-02T16:31:37.787299Z",
     "shell.execute_reply.started": "2022-01-02T16:31:37.769104Z"
    }
   },
   "outputs": [
    {
     "data": {
      "text/html": [
       "<div>\n",
       "<style scoped>\n",
       "    .dataframe tbody tr th:only-of-type {\n",
       "        vertical-align: middle;\n",
       "    }\n",
       "\n",
       "    .dataframe tbody tr th {\n",
       "        vertical-align: top;\n",
       "    }\n",
       "\n",
       "    .dataframe thead th {\n",
       "        text-align: right;\n",
       "    }\n",
       "</style>\n",
       "<table border=\"1\" class=\"dataframe\">\n",
       "  <thead>\n",
       "    <tr style=\"text-align: right;\">\n",
       "      <th></th>\n",
       "      <th>age</th>\n",
       "      <th>sex</th>\n",
       "      <th>bmi</th>\n",
       "      <th>children</th>\n",
       "      <th>smoker</th>\n",
       "      <th>region</th>\n",
       "      <th>charges</th>\n",
       "    </tr>\n",
       "  </thead>\n",
       "  <tbody>\n",
       "    <tr>\n",
       "      <th>0</th>\n",
       "      <td>19</td>\n",
       "      <td>female</td>\n",
       "      <td>27.900</td>\n",
       "      <td>0</td>\n",
       "      <td>yes</td>\n",
       "      <td>southwest</td>\n",
       "      <td>16884.92400</td>\n",
       "    </tr>\n",
       "    <tr>\n",
       "      <th>1</th>\n",
       "      <td>18</td>\n",
       "      <td>male</td>\n",
       "      <td>33.770</td>\n",
       "      <td>1</td>\n",
       "      <td>no</td>\n",
       "      <td>southeast</td>\n",
       "      <td>1725.55230</td>\n",
       "    </tr>\n",
       "    <tr>\n",
       "      <th>2</th>\n",
       "      <td>28</td>\n",
       "      <td>male</td>\n",
       "      <td>33.000</td>\n",
       "      <td>3</td>\n",
       "      <td>no</td>\n",
       "      <td>southeast</td>\n",
       "      <td>4449.46200</td>\n",
       "    </tr>\n",
       "    <tr>\n",
       "      <th>3</th>\n",
       "      <td>33</td>\n",
       "      <td>male</td>\n",
       "      <td>22.705</td>\n",
       "      <td>0</td>\n",
       "      <td>no</td>\n",
       "      <td>northwest</td>\n",
       "      <td>21984.47061</td>\n",
       "    </tr>\n",
       "    <tr>\n",
       "      <th>4</th>\n",
       "      <td>32</td>\n",
       "      <td>male</td>\n",
       "      <td>28.880</td>\n",
       "      <td>0</td>\n",
       "      <td>no</td>\n",
       "      <td>northwest</td>\n",
       "      <td>3866.85520</td>\n",
       "    </tr>\n",
       "  </tbody>\n",
       "</table>\n",
       "</div>"
      ],
      "text/plain": [
       "   age     sex     bmi  children smoker     region      charges\n",
       "0   19  female  27.900         0    yes  southwest  16884.92400\n",
       "1   18    male  33.770         1     no  southeast   1725.55230\n",
       "2   28    male  33.000         3     no  southeast   4449.46200\n",
       "3   33    male  22.705         0     no  northwest  21984.47061\n",
       "4   32    male  28.880         0     no  northwest   3866.85520"
      ]
     },
     "execution_count": 5,
     "metadata": {},
     "output_type": "execute_result"
    }
   ],
   "source": [
    "df.head()"
   ]
  },
  {
   "cell_type": "code",
   "execution_count": 6,
   "metadata": {
    "execution": {
     "iopub.execute_input": "2022-01-02T16:31:37.789483Z",
     "iopub.status.busy": "2022-01-02T16:31:37.789121Z",
     "iopub.status.idle": "2022-01-02T16:31:37.794806Z",
     "shell.execute_reply": "2022-01-02T16:31:37.794114Z",
     "shell.execute_reply.started": "2022-01-02T16:31:37.789447Z"
    }
   },
   "outputs": [
    {
     "data": {
      "text/plain": [
       "(1338, 7)"
      ]
     },
     "execution_count": 6,
     "metadata": {},
     "output_type": "execute_result"
    }
   ],
   "source": [
    "df.shape"
   ]
  },
  {
   "cell_type": "code",
   "execution_count": 7,
   "metadata": {},
   "outputs": [
    {
     "name": "stdout",
     "output_type": "stream",
     "text": [
      "<class 'pandas.core.frame.DataFrame'>\n",
      "RangeIndex: 1338 entries, 0 to 1337\n",
      "Data columns (total 7 columns):\n",
      " #   Column    Non-Null Count  Dtype  \n",
      "---  ------    --------------  -----  \n",
      " 0   age       1338 non-null   int64  \n",
      " 1   sex       1338 non-null   object \n",
      " 2   bmi       1338 non-null   float64\n",
      " 3   children  1338 non-null   int64  \n",
      " 4   smoker    1338 non-null   object \n",
      " 5   region    1338 non-null   object \n",
      " 6   charges   1338 non-null   float64\n",
      "dtypes: float64(2), int64(2), object(3)\n",
      "memory usage: 73.3+ KB\n"
     ]
    }
   ],
   "source": [
    "df.info()"
   ]
  },
  {
   "cell_type": "code",
   "execution_count": 8,
   "metadata": {
    "execution": {
     "iopub.execute_input": "2022-01-02T16:31:37.859433Z",
     "iopub.status.busy": "2022-01-02T16:31:37.859011Z",
     "iopub.status.idle": "2022-01-02T16:31:37.869263Z",
     "shell.execute_reply": "2022-01-02T16:31:37.868596Z",
     "shell.execute_reply.started": "2022-01-02T16:31:37.859394Z"
    }
   },
   "outputs": [
    {
     "data": {
      "text/plain": [
       "age         0\n",
       "sex         0\n",
       "bmi         0\n",
       "children    0\n",
       "smoker      0\n",
       "region      0\n",
       "charges     0\n",
       "dtype: int64"
      ]
     },
     "execution_count": 8,
     "metadata": {},
     "output_type": "execute_result"
    }
   ],
   "source": [
    "df.isnull().sum()"
   ]
  },
  {
   "cell_type": "code",
   "execution_count": 9,
   "metadata": {
    "execution": {
     "iopub.execute_input": "2022-01-02T16:31:37.870863Z",
     "iopub.status.busy": "2022-01-02T16:31:37.870456Z",
     "iopub.status.idle": "2022-01-02T16:31:37.88559Z",
     "shell.execute_reply": "2022-01-02T16:31:37.8846Z",
     "shell.execute_reply.started": "2022-01-02T16:31:37.87081Z"
    }
   },
   "outputs": [
    {
     "name": "stdout",
     "output_type": "stream",
     "text": [
      "<class 'pandas.core.frame.DataFrame'>\n",
      "RangeIndex: 1338 entries, 0 to 1337\n",
      "Data columns (total 7 columns):\n",
      " #   Column    Non-Null Count  Dtype  \n",
      "---  ------    --------------  -----  \n",
      " 0   age       1338 non-null   int64  \n",
      " 1   sex       1338 non-null   object \n",
      " 2   bmi       1338 non-null   float64\n",
      " 3   children  1338 non-null   int64  \n",
      " 4   smoker    1338 non-null   object \n",
      " 5   region    1338 non-null   object \n",
      " 6   charges   1338 non-null   float64\n",
      "dtypes: float64(2), int64(2), object(3)\n",
      "memory usage: 73.3+ KB\n"
     ]
    }
   ],
   "source": [
    "df.info()"
   ]
  },
  {
   "cell_type": "code",
   "execution_count": 10,
   "metadata": {
    "execution": {
     "iopub.execute_input": "2022-01-02T16:31:37.887098Z",
     "iopub.status.busy": "2022-01-02T16:31:37.88682Z",
     "iopub.status.idle": "2022-01-02T16:31:37.913885Z",
     "shell.execute_reply": "2022-01-02T16:31:37.91324Z",
     "shell.execute_reply.started": "2022-01-02T16:31:37.887065Z"
    }
   },
   "outputs": [
    {
     "data": {
      "text/html": [
       "<div>\n",
       "<style scoped>\n",
       "    .dataframe tbody tr th:only-of-type {\n",
       "        vertical-align: middle;\n",
       "    }\n",
       "\n",
       "    .dataframe tbody tr th {\n",
       "        vertical-align: top;\n",
       "    }\n",
       "\n",
       "    .dataframe thead th {\n",
       "        text-align: right;\n",
       "    }\n",
       "</style>\n",
       "<table border=\"1\" class=\"dataframe\">\n",
       "  <thead>\n",
       "    <tr style=\"text-align: right;\">\n",
       "      <th></th>\n",
       "      <th>bmi</th>\n",
       "      <th>children</th>\n",
       "      <th>charges</th>\n",
       "    </tr>\n",
       "    <tr>\n",
       "      <th>age</th>\n",
       "      <th></th>\n",
       "      <th></th>\n",
       "      <th></th>\n",
       "    </tr>\n",
       "  </thead>\n",
       "  <tbody>\n",
       "    <tr>\n",
       "      <th>18</th>\n",
       "      <td>31.326159</td>\n",
       "      <td>0.449275</td>\n",
       "      <td>7086.217556</td>\n",
       "    </tr>\n",
       "    <tr>\n",
       "      <th>19</th>\n",
       "      <td>28.596912</td>\n",
       "      <td>0.426471</td>\n",
       "      <td>9747.909335</td>\n",
       "    </tr>\n",
       "    <tr>\n",
       "      <th>20</th>\n",
       "      <td>30.632759</td>\n",
       "      <td>0.862069</td>\n",
       "      <td>10159.697736</td>\n",
       "    </tr>\n",
       "    <tr>\n",
       "      <th>21</th>\n",
       "      <td>28.185714</td>\n",
       "      <td>0.785714</td>\n",
       "      <td>4730.464330</td>\n",
       "    </tr>\n",
       "    <tr>\n",
       "      <th>22</th>\n",
       "      <td>31.087679</td>\n",
       "      <td>0.714286</td>\n",
       "      <td>10012.932802</td>\n",
       "    </tr>\n",
       "    <tr>\n",
       "      <th>23</th>\n",
       "      <td>31.454464</td>\n",
       "      <td>1.000000</td>\n",
       "      <td>12419.820040</td>\n",
       "    </tr>\n",
       "    <tr>\n",
       "      <th>24</th>\n",
       "      <td>29.142679</td>\n",
       "      <td>0.464286</td>\n",
       "      <td>10648.015962</td>\n",
       "    </tr>\n",
       "    <tr>\n",
       "      <th>25</th>\n",
       "      <td>29.693929</td>\n",
       "      <td>1.285714</td>\n",
       "      <td>9838.365311</td>\n",
       "    </tr>\n",
       "    <tr>\n",
       "      <th>26</th>\n",
       "      <td>29.428929</td>\n",
       "      <td>1.071429</td>\n",
       "      <td>6133.825309</td>\n",
       "    </tr>\n",
       "    <tr>\n",
       "      <th>27</th>\n",
       "      <td>29.333571</td>\n",
       "      <td>0.964286</td>\n",
       "      <td>12184.701721</td>\n",
       "    </tr>\n",
       "    <tr>\n",
       "      <th>28</th>\n",
       "      <td>29.482143</td>\n",
       "      <td>1.285714</td>\n",
       "      <td>9069.187564</td>\n",
       "    </tr>\n",
       "    <tr>\n",
       "      <th>29</th>\n",
       "      <td>29.383148</td>\n",
       "      <td>1.259259</td>\n",
       "      <td>10430.158727</td>\n",
       "    </tr>\n",
       "    <tr>\n",
       "      <th>30</th>\n",
       "      <td>30.557593</td>\n",
       "      <td>1.555556</td>\n",
       "      <td>12719.110358</td>\n",
       "    </tr>\n",
       "    <tr>\n",
       "      <th>31</th>\n",
       "      <td>29.918333</td>\n",
       "      <td>1.407407</td>\n",
       "      <td>10196.980573</td>\n",
       "    </tr>\n",
       "    <tr>\n",
       "      <th>32</th>\n",
       "      <td>31.597692</td>\n",
       "      <td>1.269231</td>\n",
       "      <td>9220.300291</td>\n",
       "    </tr>\n",
       "    <tr>\n",
       "      <th>33</th>\n",
       "      <td>31.163077</td>\n",
       "      <td>1.538462</td>\n",
       "      <td>12351.532987</td>\n",
       "    </tr>\n",
       "    <tr>\n",
       "      <th>34</th>\n",
       "      <td>30.274038</td>\n",
       "      <td>1.153846</td>\n",
       "      <td>11613.528121</td>\n",
       "    </tr>\n",
       "    <tr>\n",
       "      <th>35</th>\n",
       "      <td>31.394800</td>\n",
       "      <td>1.680000</td>\n",
       "      <td>11307.182031</td>\n",
       "    </tr>\n",
       "    <tr>\n",
       "      <th>36</th>\n",
       "      <td>29.374200</td>\n",
       "      <td>1.240000</td>\n",
       "      <td>12204.476138</td>\n",
       "    </tr>\n",
       "    <tr>\n",
       "      <th>37</th>\n",
       "      <td>31.216600</td>\n",
       "      <td>1.520000</td>\n",
       "      <td>18019.911877</td>\n",
       "    </tr>\n",
       "    <tr>\n",
       "      <th>38</th>\n",
       "      <td>28.996600</td>\n",
       "      <td>1.480000</td>\n",
       "      <td>8102.733674</td>\n",
       "    </tr>\n",
       "    <tr>\n",
       "      <th>39</th>\n",
       "      <td>29.910200</td>\n",
       "      <td>2.200000</td>\n",
       "      <td>11778.242945</td>\n",
       "    </tr>\n",
       "    <tr>\n",
       "      <th>40</th>\n",
       "      <td>30.139074</td>\n",
       "      <td>1.592593</td>\n",
       "      <td>11772.251310</td>\n",
       "    </tr>\n",
       "    <tr>\n",
       "      <th>41</th>\n",
       "      <td>31.506852</td>\n",
       "      <td>1.407407</td>\n",
       "      <td>9653.745650</td>\n",
       "    </tr>\n",
       "    <tr>\n",
       "      <th>42</th>\n",
       "      <td>30.328148</td>\n",
       "      <td>1.000000</td>\n",
       "      <td>13061.038669</td>\n",
       "    </tr>\n",
       "    <tr>\n",
       "      <th>43</th>\n",
       "      <td>30.204444</td>\n",
       "      <td>1.629630</td>\n",
       "      <td>19267.278653</td>\n",
       "    </tr>\n",
       "    <tr>\n",
       "      <th>44</th>\n",
       "      <td>30.844259</td>\n",
       "      <td>1.222222</td>\n",
       "      <td>15859.396587</td>\n",
       "    </tr>\n",
       "    <tr>\n",
       "      <th>45</th>\n",
       "      <td>29.778966</td>\n",
       "      <td>1.482759</td>\n",
       "      <td>14830.199856</td>\n",
       "    </tr>\n",
       "    <tr>\n",
       "      <th>46</th>\n",
       "      <td>31.340862</td>\n",
       "      <td>1.620690</td>\n",
       "      <td>14342.590639</td>\n",
       "    </tr>\n",
       "    <tr>\n",
       "      <th>47</th>\n",
       "      <td>30.664310</td>\n",
       "      <td>1.379310</td>\n",
       "      <td>17653.999593</td>\n",
       "    </tr>\n",
       "    <tr>\n",
       "      <th>48</th>\n",
       "      <td>31.925690</td>\n",
       "      <td>1.310345</td>\n",
       "      <td>14632.500445</td>\n",
       "    </tr>\n",
       "    <tr>\n",
       "      <th>49</th>\n",
       "      <td>30.313929</td>\n",
       "      <td>1.500000</td>\n",
       "      <td>12696.006264</td>\n",
       "    </tr>\n",
       "    <tr>\n",
       "      <th>50</th>\n",
       "      <td>31.132241</td>\n",
       "      <td>1.310345</td>\n",
       "      <td>15663.003301</td>\n",
       "    </tr>\n",
       "    <tr>\n",
       "      <th>51</th>\n",
       "      <td>31.727069</td>\n",
       "      <td>1.103448</td>\n",
       "      <td>15682.255867</td>\n",
       "    </tr>\n",
       "    <tr>\n",
       "      <th>52</th>\n",
       "      <td>32.936034</td>\n",
       "      <td>1.482759</td>\n",
       "      <td>18256.269719</td>\n",
       "    </tr>\n",
       "    <tr>\n",
       "      <th>53</th>\n",
       "      <td>30.360893</td>\n",
       "      <td>1.250000</td>\n",
       "      <td>16020.930755</td>\n",
       "    </tr>\n",
       "    <tr>\n",
       "      <th>54</th>\n",
       "      <td>31.234286</td>\n",
       "      <td>1.428571</td>\n",
       "      <td>18758.546475</td>\n",
       "    </tr>\n",
       "    <tr>\n",
       "      <th>55</th>\n",
       "      <td>31.950000</td>\n",
       "      <td>0.961538</td>\n",
       "      <td>16164.545488</td>\n",
       "    </tr>\n",
       "    <tr>\n",
       "      <th>56</th>\n",
       "      <td>31.600962</td>\n",
       "      <td>0.769231</td>\n",
       "      <td>15025.515837</td>\n",
       "    </tr>\n",
       "    <tr>\n",
       "      <th>57</th>\n",
       "      <td>30.844423</td>\n",
       "      <td>0.615385</td>\n",
       "      <td>16447.185250</td>\n",
       "    </tr>\n",
       "    <tr>\n",
       "      <th>58</th>\n",
       "      <td>32.718200</td>\n",
       "      <td>0.240000</td>\n",
       "      <td>13878.928112</td>\n",
       "    </tr>\n",
       "    <tr>\n",
       "      <th>59</th>\n",
       "      <td>30.572000</td>\n",
       "      <td>1.200000</td>\n",
       "      <td>18895.869532</td>\n",
       "    </tr>\n",
       "    <tr>\n",
       "      <th>60</th>\n",
       "      <td>30.332826</td>\n",
       "      <td>0.347826</td>\n",
       "      <td>21979.418507</td>\n",
       "    </tr>\n",
       "    <tr>\n",
       "      <th>61</th>\n",
       "      <td>32.548261</td>\n",
       "      <td>0.739130</td>\n",
       "      <td>22024.457609</td>\n",
       "    </tr>\n",
       "    <tr>\n",
       "      <th>62</th>\n",
       "      <td>32.342609</td>\n",
       "      <td>0.565217</td>\n",
       "      <td>19163.856573</td>\n",
       "    </tr>\n",
       "    <tr>\n",
       "      <th>63</th>\n",
       "      <td>31.923478</td>\n",
       "      <td>0.565217</td>\n",
       "      <td>19884.998461</td>\n",
       "    </tr>\n",
       "    <tr>\n",
       "      <th>64</th>\n",
       "      <td>32.976136</td>\n",
       "      <td>0.772727</td>\n",
       "      <td>23275.530837</td>\n",
       "    </tr>\n",
       "  </tbody>\n",
       "</table>\n",
       "</div>"
      ],
      "text/plain": [
       "           bmi  children       charges\n",
       "age                                   \n",
       "18   31.326159  0.449275   7086.217556\n",
       "19   28.596912  0.426471   9747.909335\n",
       "20   30.632759  0.862069  10159.697736\n",
       "21   28.185714  0.785714   4730.464330\n",
       "22   31.087679  0.714286  10012.932802\n",
       "23   31.454464  1.000000  12419.820040\n",
       "24   29.142679  0.464286  10648.015962\n",
       "25   29.693929  1.285714   9838.365311\n",
       "26   29.428929  1.071429   6133.825309\n",
       "27   29.333571  0.964286  12184.701721\n",
       "28   29.482143  1.285714   9069.187564\n",
       "29   29.383148  1.259259  10430.158727\n",
       "30   30.557593  1.555556  12719.110358\n",
       "31   29.918333  1.407407  10196.980573\n",
       "32   31.597692  1.269231   9220.300291\n",
       "33   31.163077  1.538462  12351.532987\n",
       "34   30.274038  1.153846  11613.528121\n",
       "35   31.394800  1.680000  11307.182031\n",
       "36   29.374200  1.240000  12204.476138\n",
       "37   31.216600  1.520000  18019.911877\n",
       "38   28.996600  1.480000   8102.733674\n",
       "39   29.910200  2.200000  11778.242945\n",
       "40   30.139074  1.592593  11772.251310\n",
       "41   31.506852  1.407407   9653.745650\n",
       "42   30.328148  1.000000  13061.038669\n",
       "43   30.204444  1.629630  19267.278653\n",
       "44   30.844259  1.222222  15859.396587\n",
       "45   29.778966  1.482759  14830.199856\n",
       "46   31.340862  1.620690  14342.590639\n",
       "47   30.664310  1.379310  17653.999593\n",
       "48   31.925690  1.310345  14632.500445\n",
       "49   30.313929  1.500000  12696.006264\n",
       "50   31.132241  1.310345  15663.003301\n",
       "51   31.727069  1.103448  15682.255867\n",
       "52   32.936034  1.482759  18256.269719\n",
       "53   30.360893  1.250000  16020.930755\n",
       "54   31.234286  1.428571  18758.546475\n",
       "55   31.950000  0.961538  16164.545488\n",
       "56   31.600962  0.769231  15025.515837\n",
       "57   30.844423  0.615385  16447.185250\n",
       "58   32.718200  0.240000  13878.928112\n",
       "59   30.572000  1.200000  18895.869532\n",
       "60   30.332826  0.347826  21979.418507\n",
       "61   32.548261  0.739130  22024.457609\n",
       "62   32.342609  0.565217  19163.856573\n",
       "63   31.923478  0.565217  19884.998461\n",
       "64   32.976136  0.772727  23275.530837"
      ]
     },
     "execution_count": 10,
     "metadata": {},
     "output_type": "execute_result"
    }
   ],
   "source": [
    "df_age = df.groupby(by='age').mean()\n",
    "df_age"
   ]
  },
  {
   "cell_type": "code",
   "execution_count": 11,
   "metadata": {
    "execution": {
     "iopub.execute_input": "2022-01-02T16:31:37.915766Z",
     "iopub.status.busy": "2022-01-02T16:31:37.915256Z",
     "iopub.status.idle": "2022-01-02T16:31:37.943017Z",
     "shell.execute_reply": "2022-01-02T16:31:37.942345Z",
     "shell.execute_reply.started": "2022-01-02T16:31:37.915729Z"
    }
   },
   "outputs": [
    {
     "data": {
      "text/html": [
       "<div>\n",
       "<style scoped>\n",
       "    .dataframe tbody tr th:only-of-type {\n",
       "        vertical-align: middle;\n",
       "    }\n",
       "\n",
       "    .dataframe tbody tr th {\n",
       "        vertical-align: top;\n",
       "    }\n",
       "\n",
       "    .dataframe thead th {\n",
       "        text-align: right;\n",
       "    }\n",
       "</style>\n",
       "<table border=\"1\" class=\"dataframe\">\n",
       "  <thead>\n",
       "    <tr style=\"text-align: right;\">\n",
       "      <th></th>\n",
       "      <th>age</th>\n",
       "      <th>bmi</th>\n",
       "      <th>children</th>\n",
       "      <th>charges</th>\n",
       "    </tr>\n",
       "  </thead>\n",
       "  <tbody>\n",
       "    <tr>\n",
       "      <th>count</th>\n",
       "      <td>1338.000000</td>\n",
       "      <td>1338.000000</td>\n",
       "      <td>1338.000000</td>\n",
       "      <td>1338.000000</td>\n",
       "    </tr>\n",
       "    <tr>\n",
       "      <th>mean</th>\n",
       "      <td>39.207025</td>\n",
       "      <td>30.663397</td>\n",
       "      <td>1.094918</td>\n",
       "      <td>13270.422265</td>\n",
       "    </tr>\n",
       "    <tr>\n",
       "      <th>std</th>\n",
       "      <td>14.049960</td>\n",
       "      <td>6.098187</td>\n",
       "      <td>1.205493</td>\n",
       "      <td>12110.011237</td>\n",
       "    </tr>\n",
       "    <tr>\n",
       "      <th>min</th>\n",
       "      <td>18.000000</td>\n",
       "      <td>15.960000</td>\n",
       "      <td>0.000000</td>\n",
       "      <td>1121.873900</td>\n",
       "    </tr>\n",
       "    <tr>\n",
       "      <th>25%</th>\n",
       "      <td>27.000000</td>\n",
       "      <td>26.296250</td>\n",
       "      <td>0.000000</td>\n",
       "      <td>4740.287150</td>\n",
       "    </tr>\n",
       "    <tr>\n",
       "      <th>50%</th>\n",
       "      <td>39.000000</td>\n",
       "      <td>30.400000</td>\n",
       "      <td>1.000000</td>\n",
       "      <td>9382.033000</td>\n",
       "    </tr>\n",
       "    <tr>\n",
       "      <th>75%</th>\n",
       "      <td>51.000000</td>\n",
       "      <td>34.693750</td>\n",
       "      <td>2.000000</td>\n",
       "      <td>16639.912515</td>\n",
       "    </tr>\n",
       "    <tr>\n",
       "      <th>max</th>\n",
       "      <td>64.000000</td>\n",
       "      <td>53.130000</td>\n",
       "      <td>5.000000</td>\n",
       "      <td>63770.428010</td>\n",
       "    </tr>\n",
       "  </tbody>\n",
       "</table>\n",
       "</div>"
      ],
      "text/plain": [
       "               age          bmi     children       charges\n",
       "count  1338.000000  1338.000000  1338.000000   1338.000000\n",
       "mean     39.207025    30.663397     1.094918  13270.422265\n",
       "std      14.049960     6.098187     1.205493  12110.011237\n",
       "min      18.000000    15.960000     0.000000   1121.873900\n",
       "25%      27.000000    26.296250     0.000000   4740.287150\n",
       "50%      39.000000    30.400000     1.000000   9382.033000\n",
       "75%      51.000000    34.693750     2.000000  16639.912515\n",
       "max      64.000000    53.130000     5.000000  63770.428010"
      ]
     },
     "execution_count": 11,
     "metadata": {},
     "output_type": "execute_result"
    }
   ],
   "source": [
    "df.describe()"
   ]
  },
  {
   "cell_type": "markdown",
   "metadata": {},
   "source": [
    "## Data Visualization"
   ]
  },
  {
   "cell_type": "markdown",
   "metadata": {},
   "source": [
    "<h3> Distribution of Medical Charges </h3> "
   ]
  },
  {
   "cell_type": "code",
   "execution_count": 12,
   "metadata": {},
   "outputs": [
    {
     "data": {
      "application/vnd.plotly.v1+json": {
       "config": {
        "linkText": "Export to plot.ly",
        "plotlyServerURL": "https://plot.ly",
        "showLink": false
       },
       "data": [
        {
         "histnorm": "probability",
         "marker": {
          "color": "#FA5858"
         },
         "name": "Charges Distribution",
         "type": "histogram",
         "x": [
          16884.924,
          1725.5523,
          4449.462,
          21984.47061,
          3866.8552,
          3756.6216,
          8240.5896,
          7281.5056,
          6406.4107,
          28923.136919999997,
          2721.3208,
          27808.7251,
          1826.8429999999998,
          11090.7178,
          39611.7577,
          1837.237,
          10797.3362,
          2395.17155,
          10602.385,
          36837.467000000004,
          13228.84695,
          4149.736,
          1137.011,
          37701.8768,
          6203.90175,
          14001.1338,
          14451.83515,
          12268.63225,
          2775.19215,
          38711,
          35585.576,
          2198.18985,
          4687.7970000000005,
          13770.0979,
          51194.55914,
          1625.43375,
          15612.19335,
          2302.3,
          39774.2763,
          48173.361,
          3046.062,
          4949.7587,
          6272.4772,
          6313.759,
          6079.6715,
          20630.28351,
          3393.35635,
          3556.9223,
          12629.8967,
          38709.176,
          2211.13075,
          3579.8287,
          23568.272,
          37742.5757,
          8059.6791,
          47496.49445,
          13607.36875,
          34303.1672,
          23244.7902,
          5989.52365,
          8606.2174,
          4504.6624,
          30166.618169999998,
          4133.64165,
          14711.7438,
          1743.214,
          14235.072,
          6389.37785,
          5920.1041,
          17663.1442,
          16577.7795,
          6799.4580000000005,
          11741.726,
          11946.6259,
          7726.854,
          11356.6609,
          3947.4131,
          1532.4697,
          2755.02095,
          6571.02435,
          4441.21315,
          7935.29115,
          37165.1638,
          11033.6617,
          39836.519,
          21098.55405,
          43578.9394,
          11073.176000000001,
          8026.6666,
          11082.5772,
          2026.9741,
          10942.13205,
          30184.9367,
          5729.0053,
          47291.055,
          3766.8838,
          12105.32,
          10226.2842,
          22412.6485,
          15820.698999999999,
          6186.1269999999995,
          3645.0894,
          21344.8467,
          30942.1918,
          5003.853,
          17560.37975,
          2331.519,
          3877.30425,
          2867.1196,
          47055.5321,
          10825.2537,
          11881.358,
          4646.759,
          2404.7338,
          11488.31695,
          30259.995560000003,
          11381.3254,
          19107.7796,
          8601.3293,
          6686.4313,
          7740.3369999999995,
          1705.6245,
          2257.47525,
          39556.4945,
          10115.00885,
          3385.39915,
          17081.08,
          9634.538,
          32734.1863,
          6082.405,
          12815.44495,
          13616.3586,
          11163.568000000001,
          1632.56445,
          2457.21115,
          2155.6815,
          1261.442,
          2045.68525,
          27322.733860000004,
          2166.732,
          27375.90478,
          3490.5491,
          18972.495,
          18157.876,
          20745.9891,
          5138.2567,
          40720.55105,
          9877.6077,
          10959.6947,
          1842.519,
          5125.2157,
          7789.635,
          6334.34355,
          19964.7463,
          7077.1894,
          6948.7008,
          21223.6758,
          15518.18025,
          36950.2567,
          19749.383380000003,
          21348.706000000002,
          36149.4835,
          10450.552,
          5152.134,
          5028.1466,
          10407.08585,
          4830.63,
          6128.79745,
          2719.27975,
          4827.90495,
          13405.3903,
          8116.68,
          1694.7964,
          5246.047,
          2855.43755,
          48824.45,
          6455.86265,
          10436.096,
          8823.279,
          8538.28845,
          11735.87905,
          1631.8212,
          4005.4225,
          7419.4779,
          7731.4271,
          43753.33705,
          3981.9768,
          5325.651,
          6775.960999999999,
          4922.9159,
          12557.6053,
          4883.866,
          2137.6536,
          12044.341999999999,
          1137.4697,
          1639.5631,
          5649.715,
          8516.829,
          9644.2525,
          14901.5167,
          2130.6759,
          8871.1517,
          13012.20865,
          37133.8982,
          7147.105,
          4337.7352,
          11743.298999999999,
          20984.0936,
          13880.948999999999,
          6610.1097,
          1980.07,
          8162.71625,
          3537.703,
          5002.7827,
          8520.026,
          7371.772,
          10355.641,
          2483.736,
          3392.9768,
          25081.76784,
          5012.471,
          10564.8845,
          5253.524,
          34779.615,
          19515.5416,
          11987.1682,
          2689.4954,
          24227.33724,
          7358.17565,
          9225.2564,
          7443.64305,
          14001.2867,
          1727.785,
          12333.828000000001,
          6710.1919,
          19444.2658,
          1615.7667,
          4463.2051,
          17352.6803,
          7152.6714,
          38511.6283,
          5354.07465,
          35160.13457,
          7196.866999999999,
          29523.1656,
          24476.47851,
          12648.7034,
          1986.9334,
          1832.094,
          4040.55825,
          12829.4551,
          47305.305,
          44260.7499,
          4260.744000000001,
          41097.16175,
          13047.33235,
          43921.1837,
          5400.9805,
          11520.09985,
          33750.2918,
          11837.16,
          17085.2676,
          24869.8368,
          36219.40545,
          20462.99766,
          46151.1245,
          17179.522,
          14590.63205,
          7441.053000000001,
          9282.4806,
          1719.4363,
          42856.837999999996,
          7265.7025,
          9617.66245,
          2523.1695,
          9715.841,
          2803.69785,
          2150.469,
          12928.7911,
          9855.1314,
          22331.5668,
          48549.17835,
          4237.12655,
          11879.10405,
          9625.92,
          7742.1098,
          9432.9253,
          14256.1928,
          47896.79135,
          25992.82104,
          3172.018,
          20277.80751,
          42112.2356,
          2156.7518,
          3906.127,
          1704.5681,
          16297.846000000001,
          21978.6769,
          38746.3551,
          9249.4952,
          6746.7425,
          24873.3849,
          12265.5069,
          4349.462,
          12646.207,
          19442.3535,
          20177.671130000002,
          4151.0287,
          11944.59435,
          7749.1564,
          8444.474,
          1737.376,
          42124.5153,
          8124.4084,
          34838.873,
          9722.7695,
          8835.26495,
          10435.06525,
          7421.19455,
          4667.60765,
          4894.7533,
          24671.66334,
          35491.64,
          11566.30055,
          2866.091,
          6600.20595,
          3561.8889,
          42760.5022,
          47928.03,
          9144.565,
          48517.56315,
          24393.6224,
          13429.0354,
          11658.37915,
          19144.57652,
          13822.803,
          12142.5786,
          13937.6665,
          41919.097,
          8232.6388,
          18955.22017,
          13352.0998,
          13217.0945,
          13981.85035,
          10977.2063,
          6184.2994,
          4889.9995,
          8334.45755,
          5478.0368,
          1635.73365,
          11830.6072,
          8932.084,
          3554.203,
          12404.8791,
          14133.03775,
          24603.04837,
          8944.1151,
          9620.3307,
          1837.2819,
          1607.5101,
          10043.249,
          4751.07,
          13844.506000000001,
          2597.779,
          3180.5101,
          9778.3472,
          13430.265,
          8017.06115,
          8116.26885,
          3481.868,
          13415.0381,
          12029.2867,
          7639.41745,
          36085.219,
          1391.5287,
          18033.9679,
          21659.9301,
          38126.2465,
          16455.70785,
          27000.98473,
          15006.57945,
          42303.69215,
          20781.48892,
          5846.9176,
          8302.53565,
          1261.859,
          11856.4115,
          30284.642939999998,
          3176.8159,
          4618.0799,
          10736.87075,
          2138.0707,
          8964.06055,
          9290.1395,
          9411.005,
          7526.70645,
          8522.003,
          16586.49771,
          14988.431999999999,
          1631.6683,
          9264.796999999999,
          8083.9198,
          14692.66935,
          10269.46,
          3260.199,
          11396.9002,
          4185.0979,
          8539.671,
          6652.5288,
          4074.4537,
          1621.3402,
          19594.80965,
          14455.64405,
          5080.096,
          2134.9015,
          7345.7266,
          9140.951,
          18608.262,
          14418.2804,
          28950.4692,
          46889.2612,
          46599.1084,
          39125.33225,
          2727.3951,
          8968.33,
          9788.8659,
          6555.07035,
          7323.734818999999,
          3167.45585,
          18804.7524,
          23082.95533,
          4906.40965,
          5969.723000000001,
          12638.195,
          4243.59005,
          13919.8229,
          2254.7967,
          5926.846,
          12592.5345,
          2897.3235,
          4738.2682,
          37079.372,
          1149.3959,
          28287.897660000002,
          26109.32905,
          7345.084,
          12730.9996,
          11454.0215,
          5910.944,
          4762.329000000001,
          7512.267,
          4032.2407,
          1969.614,
          1769.53165,
          4686.3887,
          21797.0004,
          11881.9696,
          11840.77505,
          10601.412,
          7682.67,
          10381.4787,
          22144.032000000003,
          15230.32405,
          11165.41765,
          1632.03625,
          19521.9682,
          13224.693000000001,
          12643.3778,
          23288.9284,
          2201.0971,
          2497.0383,
          2203.47185,
          1744.465,
          20878.78443,
          25382.297000000002,
          28868.6639,
          35147.52848,
          2534.39375,
          1534.3045,
          1824.2854,
          15555.18875,
          9304.7019,
          1622.1885,
          9880.068000000001,
          9563.029,
          4347.02335,
          12475.3513,
          1253.9360000000001,
          48885.135610000005,
          10461.9794,
          1748.774,
          24513.09126,
          2196.4732,
          12574.048999999999,
          17942.106,
          1967.0227,
          4931.647,
          8027.968000000001,
          8211.1002,
          13470.86,
          36197.699,
          6837.3687,
          22218.1149,
          32548.3405,
          5974.3847,
          6796.86325,
          2643.2685,
          3077.0955,
          3044.2133,
          11455.28,
          11763.0009,
          2498.4144,
          9361.3268,
          1256.299,
          21082.16,
          11362.755,
          27724.28875,
          8413.46305,
          5240.765,
          3857.75925,
          25656.575259999998,
          3994.1778,
          9866.30485,
          5397.6167,
          38245.59327,
          11482.63485,
          24059.68019,
          9861.025,
          8342.90875,
          1708.0014,
          48675.5177,
          14043.4767,
          12925.886,
          19214.705530000003,
          13831.1152,
          6067.12675,
          5972.378000000001,
          8825.086,
          8233.0975,
          27346.04207,
          6196.448,
          3056.3881,
          13887.204,
          63770.42801,
          10231.4999,
          23807.2406,
          3268.84665,
          11538.421,
          3213.62205,
          45863.205,
          13390.559,
          3972.9247,
          12957.118,
          11187.6567,
          17878.900680000002,
          3847.6740000000004,
          8334.5896,
          3935.1799,
          39983.42595,
          1646.4297,
          9193.8385,
          10923.9332,
          2494.022,
          9058.7303,
          2801.2588,
          2128.43105,
          6373.55735,
          7256.7231,
          11552.903999999999,
          45702.02235,
          3761.292,
          2219.4451,
          4753.6368,
          31620.001060000002,
          13224.05705,
          12222.8983,
          1664.9996,
          58571.074479999996,
          9724.53,
          3206.49135,
          12913.9924,
          1639.5631,
          6356.2707,
          17626.23951,
          1242.816,
          4779.6023,
          3861.20965,
          43943.8761,
          13635.6379,
          5976.8311,
          11842.442,
          8428.0693,
          2566.4707,
          15359.1045,
          5709.1644,
          8823.98575,
          7640.3092,
          5594.8455,
          7441.501,
          33471.97189,
          1633.0444,
          9174.13565,
          11070.535,
          16085.1275,
          17468.9839,
          9283.562,
          3558.62025,
          25678.77845,
          4435.0942,
          39241.442,
          8547.6913,
          6571.544,
          2207.69745,
          6753.0380000000005,
          1880.07,
          42969.8527,
          11658.11505,
          23306.547000000002,
          34439.8559,
          10713.643999999998,
          3659.3459999999995,
          40182.246,
          9182.17,
          34617.84065,
          12129.61415,
          3736.4647,
          6748.5912,
          11326.71487,
          11365.952,
          42983.4585,
          10085.846,
          1977.815,
          3366.6697,
          7173.35995,
          9391.346,
          14410.9321,
          2709.1119,
          24915.04626,
          20149.3229,
          12949.1554,
          6666.243,
          32787.458589999995,
          13143.86485,
          4466.6214,
          18806.14547,
          10141.1362,
          6123.5688,
          8252.2843,
          1712.227,
          12430.95335,
          9800.8882,
          10579.711000000001,
          8280.6227,
          8527.532,
          12244.531,
          24667.418999999998,
          3410.324,
          4058.71245,
          26392.260290000002,
          14394.39815,
          6435.6237,
          22192.43711,
          5148.5526,
          1136.3994,
          27037.9141,
          42560.4304,
          8703.456,
          40003.33225,
          45710.20785,
          6500.2359,
          4837.5823,
          3943.5954,
          4399.731,
          6185.3208,
          46200.9851,
          7222.78625,
          12485.8009,
          46130.5265,
          12363.546999999999,
          10156.7832,
          2585.269,
          1242.26,
          40103.89,
          9863.4718,
          4766.022,
          11244.3769,
          7729.64575,
          5438.7491,
          26236.57997,
          34806.4677,
          2104.1134,
          8068.185,
          2362.22905,
          2352.96845,
          3577.9990000000003,
          3201.24515,
          29186.48236,
          40273.6455,
          10976.24575,
          3500.6123,
          2020.5523,
          9541.69555,
          9504.3103,
          5385.3379,
          8930.93455,
          5375.0380000000005,
          44400.4064,
          10264.4421,
          6113.23105,
          5469.0066,
          1727.54,
          10107.2206,
          8310.83915,
          1984.4533,
          2457.502,
          12146.971000000001,
          9566.9909,
          13112.6048,
          10848.1343,
          12231.6136,
          9875.6804,
          11264.541000000001,
          12979.358,
          1263.249,
          10106.13425,
          40932.4295,
          6664.68595,
          16657.71745,
          2217.6012,
          6781.3542,
          19361.9988,
          10065.413,
          4234.927,
          9447.25035,
          14007.222,
          9583.8933,
          40419.0191,
          3484.3309999999997,
          36189.1017,
          44585.45587,
          8604.48365,
          18246.4955,
          43254.41795,
          3757.8448,
          8827.2099,
          9910.35985,
          11737.84884,
          1627.28245,
          8556.907,
          3062.50825,
          19539.243000000002,
          1906.35825,
          14210.53595,
          11833.7823,
          17128.42608,
          5031.26955,
          7985.815,
          23065.4207,
          5428.7277,
          36307.7983,
          3925.7582,
          2416.955,
          19040.876,
          3070.8087,
          9095.06825,
          11842.62375,
          8062.764,
          7050.642,
          14319.031,
          6933.24225,
          27941.28758,
          11150.78,
          12797.20962,
          17748.5062,
          7261.741,
          10560.4917,
          6986.696999999999,
          7448.40395,
          5934.3798,
          9869.8102,
          18259.216,
          1146.7966,
          9386.1613,
          24520.264,
          4350.5144,
          6414.178000000001,
          12741.16745,
          1917.3184,
          5209.57885,
          13457.9608,
          5662.225,
          1252.407,
          2731.9122,
          21195.818,
          7209.4918,
          18310.742,
          4266.1658,
          4719.52405,
          11848.141000000001,
          17904.52705,
          7046.7222,
          14313.8463,
          2103.08,
          38792.6856,
          1815.8759,
          7731.85785,
          28476.734989999997,
          2136.88225,
          1131.5066,
          3309.7926,
          9414.92,
          6360.9936,
          11013.7119,
          4428.88785,
          5584.3057,
          1877.9294,
          2842.76075,
          3597.5959999999995,
          23401.30575,
          55135.402089999996,
          7445.918000000001,
          2680.9493,
          1621.8827,
          8219.2039,
          12523.6048,
          16069.08475,
          43813.8661,
          20773.62775,
          39597.4072,
          6117.4945,
          13393.756000000001,
          5266.3656,
          4719.73655,
          11743.9341,
          5377.4578,
          7160.3303,
          4402.233,
          11657.7189,
          6402.29135,
          12622.1795,
          1526.3120000000001,
          12323.936000000002,
          36021.0112,
          27533.9129,
          10072.05505,
          45008.9555,
          9872.701,
          2438.0552,
          2974.1259999999997,
          10601.63225,
          37270.1512,
          14119.62,
          42111.6647,
          11729.6795,
          24106.91255,
          1875.344,
          40974.1649,
          15817.9857,
          18218.16139,
          10965.446000000002,
          46113.511,
          7151.092,
          12269.68865,
          5458.04645,
          8782.469000000001,
          6600.361,
          1141.4451,
          11576.13,
          13129.60345,
          4391.652,
          8457.818000000001,
          3392.3652,
          5966.8874,
          6849.026,
          8891.1395,
          2690.1138,
          26140.3603,
          6653.7886,
          6282.235,
          6311.951999999999,
          3443.0640000000003,
          2789.0574,
          2585.85065,
          46255.1125,
          4877.98105,
          19719.6947,
          27218.43725,
          5272.1758,
          1682.5970000000002,
          11945.1327,
          29330.98315,
          7243.8136,
          10422.91665,
          44202.6536,
          13555.0049,
          13063.883,
          19798.05455,
          2221.56445,
          1634.5734,
          2117.33885,
          8688.85885,
          48673.5588,
          4661.28635,
          8125.7845,
          12644.589,
          4564.19145,
          4846.92015,
          7633.7206,
          15170.069,
          17496.306,
          2639.0429,
          33732.6867,
          14382.70905,
          7626.993,
          5257.50795,
          2473.3341,
          21774.32215,
          35069.37452,
          13041.921,
          5245.2269,
          13451.122,
          13462.52,
          5488.262,
          4320.41085,
          6250.435,
          25333.33284,
          2913.5690000000004,
          12032.326000000001,
          13470.8044,
          6289.7549,
          2927.0647,
          6238.298000000001,
          10096.97,
          7348.142,
          4673.3922,
          12233.828000000001,
          32108.662819999998,
          8965.79575,
          2304.0022,
          9487.6442,
          1121.8739,
          9549.5651,
          2217.46915,
          1628.4709,
          12982.8747,
          11674.13,
          7160.094,
          39047.285,
          6358.77645,
          19933.458,
          11534.87265,
          47462.894,
          4527.18295,
          38998.546,
          20009.63365,
          3875.7341,
          41999.52,
          12609.88702,
          41034.2214,
          28468.91901,
          2730.10785,
          3353.284,
          14474.675,
          9500.57305,
          26467.09737,
          4746.344,
          23967.38305,
          7518.02535,
          3279.86855,
          8596.8278,
          10702.6424,
          4992.3764,
          2527.81865,
          1759.338,
          2322.6218,
          16138.76205,
          7804.1605,
          2902.9065,
          9704.66805,
          4889.0368,
          25517.11363,
          4500.33925,
          19199.944,
          16796.41194,
          4915.05985,
          7624.63,
          8410.04685,
          28340.18885,
          4518.82625,
          14571.8908,
          3378.91,
          7144.86265,
          10118.424,
          5484.4673,
          16420.49455,
          7986.47525,
          7418.522,
          13887.9685,
          6551.7501,
          5267.81815,
          17361.7661,
          34472.841,
          1972.95,
          21232.182259999998,
          8627.5411,
          4433.3877,
          4438.2634,
          24915.22085,
          23241.47453,
          9957.7216,
          8269.044,
          18767.7377,
          36580.28216,
          8765.249,
          5383.536,
          12124.9924,
          2709.24395,
          3987.926,
          12495.29085,
          26018.95052,
          8798.593,
          35595.5898,
          42211.1382,
          1711.0268,
          8569.8618,
          2020.1770000000001,
          16450.8947,
          21595.38229,
          9850.431999999999,
          6877.9801,
          21677.28345,
          44423.803,
          4137.5227,
          13747.87235,
          12950.0712,
          12094.478000000001,
          37484.4493,
          39725.51805,
          2250.8352,
          22493.65964,
          20234.85475,
          1704.70015,
          33475.81715,
          3161.454,
          11394.06555,
          21880.82,
          7325.0482,
          44501.3982,
          3594.17085,
          39727.614,
          8023.13545,
          14394.5579,
          9288.0267,
          25309.488999999998,
          3353.4703,
          10594.50155,
          8277.523000000001,
          17929.303369999998,
          2480.9791,
          4462.7218,
          1981.5819,
          11554.2236,
          48970.2476,
          6548.19505,
          5708.866999999999,
          7045.499,
          8978.1851,
          5757.41345,
          14349.8544,
          10928.848999999998,
          39871.7043,
          13974.45555,
          1909.52745,
          12096.6512,
          13204.28565,
          4562.8421,
          8551.347,
          2102.2647,
          34672.1472,
          15161.5344,
          11884.04858,
          4454.40265,
          5855.9025,
          4076.4970000000003,
          15019.76005,
          19023.26,
          10796.35025,
          11353.2276,
          9748.9106,
          10577.087,
          41676.0811,
          11286.5387,
          3591.48,
          33907.547999999995,
          11299.343,
          4561.1885,
          44641.1974,
          1674.6323,
          23045.56616,
          3227.1211,
          16776.30405,
          11253.421,
          3471.4096,
          11363.2832,
          20420.60465,
          10338.9316,
          8988.15875,
          10493.9458,
          2904.0879999999997,
          8605.3615,
          11512.405,
          41949.2441,
          24180.9335,
          5312.16985,
          2396.0959,
          10807.4863,
          9222.4026,
          36124.5737,
          38282.7495,
          5693.4305,
          34166.273,
          8347.1643,
          46661.4424,
          18903.49141,
          40904.1995,
          14254.6082,
          10214.636,
          5836.5204,
          14358.36437,
          1728.8970000000002,
          8582.3023,
          3693.428,
          20709.02034,
          9991.03765,
          19673.335730000003,
          11085.5868,
          7623.518,
          3176.2877,
          3704.3545,
          36898.73308,
          9048.0273,
          7954.517,
          27117.99378,
          6338.0756,
          9630.396999999999,
          11289.10925,
          52590.82939,
          2261.5688,
          10791.96,
          5979.731,
          2203.73595,
          12235.8392,
          40941.2854,
          5630.45785,
          11015.1747,
          7228.21565,
          39722.7462,
          14426.07385,
          2459.7201,
          3989.841,
          7727.2532,
          5124.1887,
          18963.171919999997,
          2200.83085,
          7153.5539,
          5227.98875,
          10982.5013,
          4529.477,
          4670.64,
          6112.35295,
          17178.6824,
          22478.6,
          11093.6229,
          6457.8434,
          4433.9159,
          2154.361,
          23887.6627,
          6496.8859999999995,
          2899.48935,
          19350.3689,
          7650.77375,
          2850.68375,
          2632.992,
          9447.3824,
          18328.2381,
          8603.8234,
          37465.34375,
          13844.7972,
          21771.3423,
          13126.67745,
          5327.40025,
          13725.47184,
          13019.16105,
          8671.19125,
          4134.08245,
          18838.70366,
          33307.5508,
          5699.8375,
          6393.60345,
          4934.705,
          6198.7518,
          8733.22925,
          2055.3249,
          9964.06,
          18223.4512,
          5116.5004,
          36910.60803,
          38415.474,
          20296.86345,
          12347.171999999999,
          5373.36425,
          23563.016180000002,
          1702.4553,
          10806.839,
          3956.07145,
          12890.05765,
          5415.6612,
          4058.1161,
          41661.602,
          7537.1639,
          4718.20355,
          6593.5083,
          8442.667,
          26125.674769999998,
          6858.4796,
          4795.6568,
          6640.54485,
          7162.0122,
          10594.2257,
          11938.25595,
          60021.39897,
          20167.336030000002,
          12479.70895,
          11345.518999999998,
          8515.7587,
          2699.56835,
          14449.8544,
          12224.35085,
          6985.50695,
          3238.4357,
          47269.85400000001,
          49577.6624,
          4296.2712,
          3171.6149,
          1135.9407,
          5615.369000000001,
          9101.798,
          6059.173000000001,
          1633.9618,
          37607.5277,
          18648.4217,
          1241.565,
          16232.847,
          15828.821730000001,
          4415.1588,
          6474.013000000001,
          11436.73815,
          11305.93455,
          30063.58055,
          10197.7722,
          4544.2348,
          3277.1609999999996,
          6770.1925,
          7337.7480000000005,
          10370.91255,
          26926.5144,
          10704.47,
          34254.05335,
          1880.487,
          8615.3,
          3292.52985,
          3021.80915,
          14478.33015,
          4747.0529,
          17043.3414,
          10959.33,
          2741.948,
          4357.04365,
          22462.04375,
          4189.1131,
          8283.6807,
          24535.69855,
          14283.4594,
          1720.3537,
          47403.88,
          8534.6718,
          3732.6251,
          5472.4490000000005,
          38344.566,
          7147.4728,
          7133.9025,
          34828.654,
          1515.3449,
          9301.89355,
          11931.12525,
          1964.78,
          1708.92575,
          4340.4409,
          5261.46945,
          2710.82855,
          62592.87309,
          46718.16325,
          3208.7870000000003,
          37829.7242,
          21259.37795,
          2464.6188,
          16115.3045,
          21472.4788,
          33900.653,
          6875.960999999999,
          6940.90985,
          4571.41305,
          4536.259,
          36397.576,
          18765.87545,
          11272.331390000001,
          1731.6770000000001,
          1163.4627,
          19496.71917,
          7201.70085,
          5425.02335,
          28101.33305,
          12981.3457,
          43896.3763,
          4239.89265,
          13143.33665,
          7050.0213,
          9377.9047,
          22395.74424,
          10325.206,
          12629.1656,
          10795.937329999999,
          11411.685,
          10600.5483,
          2205.9808,
          1629.8335,
          2007.945,
          29141.3603
         ],
         "xaxis": "x",
         "yaxis": "y"
        },
        {
         "histnorm": "probability",
         "marker": {
          "color": "#58FA82"
         },
         "name": "Charges Distribution using Log",
         "type": "histogram",
         "x": [
          9.734176431773115,
          7.453302452133774,
          8.400538468975023,
          9.998091601725266,
          8.260196845858372,
          8.231275321843,
          9.016827173741753,
          8.893092932994646,
          8.765054439884247,
          10.272397139270046,
          7.908872629665523,
          10.233105102955316,
          7.510344619461671,
          9.3138638032273,
          10.586881264789202,
          7.516018091591322,
          9.287054734541506,
          7.78121013567231,
          9.268834254791456,
          10.514270731219286,
          9.490155099115842,
          8.330799996743426,
          7.036158168285971,
          10.537465154690363,
          8.73293368761397,
          9.546893591032516,
          9.578576685476762,
          9.414801060423951,
          7.928475267026576,
          10.563879076356082,
          10.479695666197845,
          7.695389505209892,
          8.452718028271507,
          9.530254701356105,
          10.843388538584009,
          7.393529982223134,
          9.65580751292789,
          7.741663902250325,
          10.59097565819445,
          10.782561470908275,
          8.021604887811318,
          8.507094106899793,
          8.743926643319663,
          8.750486499241552,
          8.712705943895298,
          9.93451534857872,
          8.129574784321063,
          8.176650927459093,
          9.443822036372055,
          10.563831956855854,
          7.701259315246468,
          8.183070229087928,
          10.067656679708454,
          10.538544065136376,
          8.994629020812297,
          10.76841118624667,
          9.518366744845707,
          10.442992967083542,
          10.053836308487051,
          8.697767163740266,
          9.060240174524983,
          8.41286822827766,
          10.314491233394307,
          8.326914052885053,
          9.596401351776898,
          7.463485814805136,
          9.56346405765509,
          8.762392179564197,
          8.686109312182905,
          9.779235499080675,
          9.715818493302972,
          8.824598182105163,
          9.370904101315244,
          9.388204166026542,
          8.952457072970553,
          9.33755971420867,
          8.280815731954618,
          7.334635895999898,
          7.921180325913819,
          8.790425012567459,
          8.398682850087193,
          8.979075324158835,
          10.52312714452221,
          9.30870603358349,
          10.592539333383169,
          9.956959788679958,
          10.682329271350698,
          9.31228088608999,
          8.990524602449,
          9.313129532532235,
          7.614299368866667,
          9.300375942728616,
          10.315098294160247,
          8.653297199525971,
          10.764076444545346,
          8.234003360388554,
          9.401400304380042,
          9.23271656715675,
          10.01738074365831,
          9.669074424922021,
          8.730064483263822,
          8.201136170890955,
          9.968565617156433,
          10.339875961954133,
          8.517963494656502,
          9.773400492809486,
          7.754275265475304,
          8.262895410217363,
          7.961063181092804,
          10.75908371727273,
          9.289636989085668,
          9.382725896148083,
          8.443925266324161,
          7.78519449034302,
          9.349085880566193,
          10.317581840613983,
          9.339729168385329,
          9.857850840007492,
          9.059672040064365,
          8.807835572826509,
          8.954200505687611,
          7.441686598314886,
          7.722002321775892,
          10.585485169575772,
          9.221775624539674,
          8.127227095676806,
          9.745726697193628,
          9.17310962951719,
          10.39617526337975,
          8.71315545595782,
          9.458406359225453,
          9.519027187129101,
          9.320410898099556,
          7.397907339697485,
          7.806782306964648,
          7.675862193843412,
          7.140010790012643,
          7.623488097922841,
          10.215474376760241,
          7.680975320607154,
          10.217418517896819,
          8.157814338064135,
          9.8507455777387,
          9.806859684962467,
          9.940108210589148,
          8.544469137496163,
          10.614488183794922,
          9.19802562579482,
          9.30197970427461,
          7.518888936086307,
          8.54192789092582,
          8.960549282824834,
          8.753741464655173,
          9.901723312178918,
          8.864632130470248,
          8.846309985832468,
          9.962872620540713,
          9.649767534929675,
          10.517327873578196,
          9.890877548576052,
          9.96874640792068,
          10.495417939794661,
          9.25441007896438,
          8.547166276762724,
          8.522806726007444,
          9.250242184859143,
          8.48273217292335,
          8.720753835134126,
          7.908122326430799,
          8.482167894782533,
          9.503412166247688,
          9.00167648255175,
          7.435317894605706,
          8.5652301195937,
          7.956980367790471,
          10.79598649096049,
          8.772743934940326,
          9.253025845141101,
          9.085148848619458,
          9.05231585100584,
          9.370406013873325,
          7.3974519706985165,
          8.295404347072033,
          8.91186396980437,
          8.95304874291158,
          10.68632316430551,
          8.289533658389189,
          8.5802902366264,
          8.821136480707299,
          8.50165629653286,
          9.438081761016077,
          8.49369239832677,
          7.667464057878258,
          9.396350285080235,
          7.036561513107688,
          7.402185082887787,
          8.639360380390347,
          9.04979936744745,
          9.17411742104044,
          9.60921827869941,
          7.664194532310539,
          9.090559909039461,
          9.473643322662959,
          10.522285529540705,
          8.874462658591002,
          8.375107647568866,
          9.371038059018279,
          9.951519982078127,
          9.538272603481479,
          8.796355528774585,
          7.590887476599013,
          9.007332266342479,
          8.171232925464038,
          8.517749576605288,
          9.050174671461898,
          8.905413390476387,
          9.245286674376384,
          7.817519157211993,
          8.129462927154016,
          10.12989648030097,
          8.51968428606193,
          9.265290997666689,
          8.566654368501379,
          10.456786718266788,
          9.878966432240112,
          9.39159203997651,
          7.89710887135675,
          10.09523691260038,
          8.90356730735587,
          9.129700262560421,
          8.915115665242206,
          9.54690451151705,
          7.454595520326733,
          9.420101010262051,
          8.811382828662593,
          9.875307488098656,
          7.38756485984698,
          8.403622419208565,
          9.761502257593413,
          8.875241188286216,
          10.558715508439093,
          8.585613166829567,
          10.467668179152426,
          8.881401071414858,
          10.292930508737422,
          10.105467874562926,
          9.44530999087867,
          7.594347724123951,
          7.513214853961428,
          8.304138142102193,
          9.459498985936145,
          10.764377724639163,
          10.697853556525223,
          8.357199071901574,
          10.623694340922153,
          9.476338974230188,
          10.690152027095278,
          8.594335790143862,
          9.351848601747042,
          10.426744342189226,
          9.378999014800954,
          9.74597182728889,
          10.12141097465288,
          10.497350316338569,
          9.926373541970088,
          10.739676605831331,
          9.75147337210112,
          9.588134961346164,
          8.914767650070457,
          9.135884096094836,
          7.449751783533308,
          10.665620491224391,
          8.890920267819599,
          9.17135652556776,
          7.833271128310732,
          9.181512925228999,
          7.938694485572268,
          7.673441236867624,
          9.467211971648577,
          9.195747552831266,
          10.01375650806908,
          10.790332549786354,
          8.351640618011537,
          9.38253617340599,
          9.172214739003671,
          8.954429513418837,
          9.15196153961076,
          9.564946673749331,
          10.776803794725254,
          10.16557566503102,
          8.062123257391853,
          9.917282340913964,
          10.648093609274202,
          7.67635857254542,
          8.270301624988955,
          7.44106704384527,
          9.698788230823375,
          9.99782803051339,
          10.564791968421908,
          9.132324256044338,
          8.8168150747887,
          10.121553631275622,
          9.414546284823487,
          8.377807438273036,
          9.445112607296863,
          9.87520913550149,
          9.912331882391653,
          8.331111462025765,
          9.38803409936744,
          8.955339264809723,
          9.041267541926123,
          7.460131207985733,
          10.648385161357012,
          9.002628192239301,
          10.458489082567231,
          9.182225784853754,
          9.086506372985527,
          9.25292707248648,
          8.912095313769873,
          8.448401938888532,
          8.495919155328892,
          10.11341063084194,
          10.47705245477294,
          9.35585102402813,
          7.960704359454179,
          8.79485613207312,
          8.178046273020675,
          10.663370109691156,
          10.777455789702474,
          9.120914992717132,
          10.789681138177611,
          10.102077000067178,
          9.505174462663783,
          9.363780440807814,
          9.859774744053276,
          9.534074898753166,
          9.404473447330512,
          9.54235027431946,
          10.643496777732379,
          9.015861874114465,
          9.849834643287883,
          9.499428939849388,
          9.489266308614972,
          9.545515363967878,
          9.303576247352384,
          8.729769004360477,
          8.494947480219423,
          9.028153712083231,
          8.608502067580671,
          7.3998466982849465,
          9.378445282789643,
          9.097405017304542,
          8.175886125822831,
          9.425845150008275,
          9.556270438418146,
          10.110625631722993,
          9.09875106427451,
          9.171633919368277,
          7.516042530164765,
          7.382441739140248,
          9.214655946474418,
          8.466125134818647,
          9.535643754217315,
          7.862412128177326,
          8.064796871715137,
          9.18792575079209,
          9.50526602126602,
          8.989327193555336,
          9.001625826321154,
          8.155324210362002,
          9.504131602960053,
          9.395099513777716,
          8.941076629253388,
          10.493638614491699,
          7.238158205977826,
          9.800012364087102,
          9.98321929340296,
          10.548658208457207,
          9.708427677772185,
          10.203628615802879,
          9.61624401391433,
          10.652629646095242,
          9.94181791367443,
          8.673669895379257,
          9.024316247129066,
          7.140341309442387,
          9.380624055098195,
          10.318396029350497,
          8.06363468484103,
          8.437734291627043,
          9.281438961548512,
          7.667659159326367,
          9.10097858969497,
          9.136708847841536,
          9.149635028151815,
          8.926212834672594,
          9.050406686089836,
          9.716344252398859,
          9.615033982556648,
          7.3973582673174505,
          9.13397722806388,
          8.997632157643029,
          9.5951039647093,
          9.23692972120915,
          8.089543515442493,
          9.341096685127038,
          8.339285375720452,
          9.05247776145036,
          8.802752332042022,
          8.312491955338244,
          7.391008370166293,
          9.88301999637374,
          9.578840208975,
          8.533085438031765,
          7.6661757887670525,
          8.901874008153671,
          9.120519707175607,
          9.83136095462493,
          9.576252152687747,
          10.273341690123692,
          10.755543955934765,
          10.749336686883488,
          10.574525419819176,
          7.9111022568392935,
          9.101454761577214,
          9.189000886117643,
          8.787994128405655,
          8.898875698011654,
          8.0606839736609,
          9.841864904106775,
          10.046849759651726,
          8.498297721128688,
          8.69445580665023,
          9.444478856870957,
          8.353164899875043,
          9.541069211106327,
          7.72081509266191,
          8.68724747865966,
          9.44085941734208,
          7.971542658777002,
          8.4634269892796,
          10.52081608318254,
          7.0469917789888035,
          10.250189347642364,
          10.170047964312062,
          8.901786524893842,
          9.451795211642274,
          9.346096170025552,
          8.6845608269172,
          8.468492113278527,
          8.924292563387446,
          8.30207750539002,
          7.585592863447169,
          7.478470186034148,
          8.45241756483806,
          9.989527642979661,
          9.382777370420577,
          9.37930436659962,
          9.268742478775991,
          8.946722421973286,
          9.247778603221294,
          10.005323303503058,
          9.631043722747554,
          9.320576570650314,
          7.3975837472871735,
          9.879295684802122,
          9.489841042846475,
          9.44488886301366,
          10.05573335065625,
          7.6967111968641335,
          7.822860628568228,
          7.697789509069965,
          7.464203197370246,
          9.94648882334788,
          10.14180724150723,
          10.27051199171073,
          10.467309581253186,
          7.837709735550147,
          7.335832462880444,
          7.508943627692479,
          9.652149543620059,
          9.138275132023676,
          7.391531442472909,
          9.198274673309323,
          9.16565979686612,
          8.377246602494955,
          9.431510080543866,
          7.134042683207834,
          10.797228653997497,
          9.255502954897839,
          7.466670249974151,
          10.106962590968418,
          7.69460826211217,
          9.439390365865586,
          9.794905520027315,
          7.584276358739348,
          8.503428288324521,
          8.990686723859456,
          9.013242200776457,
          9.508284112949143,
          10.496750832257703,
          8.830158243620813,
          10.008663221610878,
          10.390481663234114,
          8.695236392417504,
          8.824216497974023,
          7.879771498547758,
          8.031741411564495,
          8.020997788799955,
          9.346206038063324,
          9.372714367471533,
          7.82341156964102,
          9.144342311562506,
          7.135925376021836,
          9.956182464199104,
          9.338096180478136,
          10.230064158147394,
          9.037588445855505,
          8.564222759025652,
          8.25784178871916,
          10.152555163167145,
          8.29259302976008,
          9.19688068036355,
          8.593712783276118,
          10.551783623990207,
          9.348591160089185,
          10.088292697254127,
          9.19634539756895,
          9.029167205529545,
          7.44307919402031,
          10.792931466033865,
          9.549913275130127,
          9.46698724635025,
          9.86343117787501,
          9.534676057705775,
          8.710640419433316,
          8.694900452034446,
          9.085353626796508,
          9.015917589813023,
          10.216327083301252,
          8.731731503635617,
          8.024989138296391,
          9.538723119589323,
          11.063044851063491,
          9.233226465989146,
          10.077745040282705,
          8.092192495253741,
          9.35343770227735,
          8.075153944485312,
          10.733418440581366,
          9.502305185386628,
          8.287257802702698,
          9.469400568633725,
          9.322566369188928,
          9.791376563615858,
          8.255224088861992,
          9.028169555820288,
          8.27771187772261,
          10.596220295978874,
          7.406364404275679,
          9.126288810408107,
          9.298711367598699,
          7.821651947371885,
          9.11148424572815,
          7.93782416656491,
          7.663140391039033,
          8.759913046378147,
          8.889683642287249,
          9.354692112918501,
          10.729897828638402,
          8.232517794382408,
          7.705012488667424,
          8.466665246179556,
          10.361545144286548,
          9.489792953617386,
          9.411066381363035,
          7.417580162174275,
          10.977996244143489,
          9.182406838269918,
          8.072932580939872,
          9.466066684677644,
          7.402185082887787,
          8.757197116428735,
          9.777143952016166,
          7.125135051591155,
          8.4721126211873,
          8.258735794194376,
          10.69066855552094,
          9.520442078197085,
          8.695645790101407,
          9.37944513717139,
          9.039322997481637,
          7.850286965609456,
          9.639463704220857,
          8.649827952186532,
          9.085228946018162,
          8.941193352545817,
          8.629601006423735,
          8.914827854790714,
          10.418463707617837,
          7.398201281823135,
          9.124143461400536,
          9.312042353351504,
          9.685650366281438,
          9.768182238872198,
          9.13600058834087,
          8.177128178496606,
          10.15342018852608,
          8.3973041346534,
          10.577488661220206,
          9.053416502076113,
          8.790504091479043,
          7.6997053735517555,
          8.817747756687693,
          7.539064289173378,
          10.66825404879016,
          9.36375778731645,
          10.056489587208766,
          10.446969774444645,
          9.279273348336124,
          8.205039721904125,
          10.601180535263609,
          9.125018839122639,
          10.452124453879096,
          9.403405191869094,
          8.225895175981947,
          8.81708905097227,
          9.334919362287428,
          9.338377498726558,
          10.66857063461853,
          9.218888333830831,
          7.5897479789915785,
          8.121679315150935,
          8.878129436102586,
          9.147543905912501,
          9.575742371148683,
          7.9043761479872545,
          10.123227167426604,
          9.910925963832568,
          9.468785844923541,
          8.804811711848632,
          10.397801361193013,
          9.483710377406176,
          8.404387562891182,
          9.84193898210435,
          9.22435532214995,
          8.719900342802815,
          9.018245325851677,
          7.445550141369896,
          9.427944879069686,
          9.190228293204834,
          9.266693389349228,
          9.021673449865537,
          9.05105526685099,
          9.412834667305264,
          10.113238583053082,
          8.134562580426712,
          8.308621071757383,
          10.180826075318105,
          9.574594392516097,
          8.769604038410412,
          10.007506839098198,
          8.54647090561255,
          7.035620121996789,
          10.20499538590917,
          10.658680236746347,
          9.071475467142518,
          10.5967180358763,
          10.730076918460497,
          8.779593747532871,
          8.484170350113216,
          8.279848124253304,
          8.389298681673813,
          8.7299341509027,
          10.740756399353332,
          8.884996064646055,
          9.43234734963519,
          10.739230189883656,
          9.422507663952521,
          9.225897056826396,
          7.857584843424017,
          7.124687580359468,
          10.599228616071036,
          9.196593495154136,
          8.469267273678248,
          9.327623451564245,
          8.952818312588256,
          8.601304368555676,
          10.174909898054338,
          10.457558501942229,
          7.651649469743594,
          8.995683828905412,
          7.767360964960058,
          7.763432980222679,
          8.18255898458288,
          8.071295122479397,
          10.281460948193155,
          10.603452576194714,
          9.303488739474496,
          8.16069317503393,
          7.611126168865535,
          9.163426479258085,
          9.15950069048022,
          8.591435335997009,
          9.09727632125036,
          8.589520922738314,
          10.70100390153158,
          9.236440978243934,
          8.71821072581372,
          8.60685227014802,
          7.454453710221802,
          9.22100535829338,
          9.02531586349737,
          7.593098739570316,
          7.806900665856189,
          9.404835117276658,
          9.166074004491346,
          9.481329245046304,
          9.291748390265784,
          9.41177915783591,
          9.197830488661562,
          9.329415106363781,
          9.471115528326077,
          7.14144225256276,
          9.220897869951232,
          10.619677925164396,
          8.80457811222284,
          9.720628898531286,
          7.704181350120979,
          8.821932095503433,
          9.871067599302947,
          9.216860370515706,
          8.351121369629444,
          9.153479009894344,
          9.547328332731697,
          9.167839187154692,
          10.607055722973884,
          8.156031339200162,
          10.496513294475752,
          10.705162983255969,
          9.060038701034644,
          9.811728313173756,
          10.674854656276105,
          8.231600880557536,
          9.085594264050979,
          9.201335938471033,
          9.37057384320268,
          7.394666693872962,
          9.054494072064031,
          8.026989548726904,
          9.880180183802308,
          7.552950025628654,
          9.561738936776804,
          9.378713626920732,
          9.748494706186174,
          8.52342762687361,
          8.985422121815146,
          10.046089835582787,
          8.599460076080982,
          10.499787826381556,
          8.275314783535729,
          7.790263762408525,
          9.854343315690363,
          8.029696226087674,
          9.115487595047211,
          9.379460484394988,
          8.995011704753995,
          8.860873955490042,
          9.569344770627316,
          8.844082839915778,
          10.237860715500025,
          9.319264729598467,
          9.456982427705094,
          9.784056633615622,
          8.890374886232234,
          9.264875118676253,
          8.851763191360497,
          8.915755053522702,
          8.688517802847086,
          9.19723590225276,
          9.812425217849334,
          7.0447277692332815,
          9.1469916813761,
          10.107255156713231,
          8.378049369964973,
          8.766266131660979,
          9.452593561505488,
          7.558682822107171,
          8.558254296547272,
          9.50732609097838,
          8.641572203490552,
          7.132822578705235,
          7.912757082546145,
          9.96155917705003,
          8.883153742357887,
          9.815243161151129,
          8.35847076372378,
          8.459463236630816,
          9.379926256619562,
          9.792808867674283,
          8.860317851519767,
          9.568982620501616,
          7.651158215873124,
          10.565986992376173,
          7.504323219821754,
          8.95310445552394,
          10.256842716748936,
          7.667103153192724,
          7.031305298021671,
          8.104640807797704,
          9.150050943976023,
          8.757939870547187,
          9.306896311862733,
          8.395903781859541,
          8.627715388645722,
          7.537925065877328,
          7.952530954047238,
          8.188021123603534,
          10.06054710107101,
          10.917547294992884,
          8.915421241747795,
          7.893926227202988,
          7.391342913934506,
          9.014228634211625,
          9.435370526534808,
          9.684652503158159,
          10.687705623889984,
          9.941439564593802,
          10.586518920351532,
          8.718907896256349,
          9.502543907191923,
          8.569095764156032,
          8.459508261343881,
          9.371092139462531,
          8.589971013598309,
          8.876311390175593,
          8.389867191171781,
          9.363723806117159,
          8.764411228710166,
          9.443210823244142,
          7.330609647040468,
          9.419298666583957,
          10.491857691628514,
          10.223173720256224,
          9.217520041356586,
          10.714616760063484,
          9.197528752538256,
          7.798955951294335,
          7.997705493304883,
          9.268763254094612,
          10.525948049347285,
          9.55532059850379,
          10.648080052552228,
          9.369877618171085,
          10.090253906152347,
          7.5365473882432275,
          10.62069702268439,
          9.668902907045574,
          9.810174254086462,
          9.302504334899389,
          10.738861266305413,
          8.875020351299158,
          9.414887162484883,
          8.604846211675456,
          9.080512854387097,
          8.79487962348839,
          7.040050370200915,
          9.356700498379569,
          9.482624765012883,
          8.387460745077433,
          9.042846499711533,
          8.129282656210663,
          8.693980696889868,
          8.831861731365324,
          9.092810498021672,
          7.897338776533775,
          10.171235770556825,
          8.802941685710042,
          8.745481087867553,
          8.750200257934058,
          8.144117051606075,
          7.933458968269059,
          7.857809804377088,
          10.741927277371957,
          8.492486693979473,
          9.88937314629236,
          10.211649862727798,
          8.570198421605134,
          7.428093712160173,
          9.388079168948936,
          10.2863996816961,
          8.887903087032262,
          9.251762184969365,
          10.696540102462784,
          9.514511123422926,
          9.477606678700827,
          9.893338956804778,
          7.705966933884002,
          7.399137131855286,
          7.657915319734057,
          9.069796892030082,
          10.792891221173397,
          8.447046729799979,
          9.002797556383069,
          9.444984655610234,
          8.42599665795494,
          8.486098761601982,
          8.940330633211769,
          9.627079620783123,
          9.769745051915594,
          7.87817159252883,
          10.426222578011334,
          9.573782003657021,
          8.939448944371764,
          8.567412419701247,
          7.813322357466315,
          9.988486671500228,
          10.465083507788405,
          9.475924140581634,
          8.565073780142555,
          9.506817801625074,
          9.507664807071711,
          8.61036690879096,
          8.371105780882708,
          8.74040634030848,
          10.139876311126674,
          7.9771340691583665,
          9.395352140237467,
          9.508279985512978,
          8.746677382321595,
          7.981755390991486,
          8.738462667748422,
          9.219990657820349,
          8.902202771134682,
          8.449640468132152,
          9.411960180524343,
          10.376881142491738,
          9.101172143951779,
          7.742402976676437,
          9.157745620534364,
          7.02275569117477,
          9.164250893170816,
          7.704121802023827,
          7.395396755351842,
          9.471386437231496,
          9.365130561559194,
          8.876278388360134,
          10.57252862660237,
          8.75759125575089,
          9.900154905431657,
          9.353130130234815,
          10.767703505796094,
          8.417855159696465,
          10.571279642365509,
          9.903969119064353,
          8.262490369006269,
          10.645413468628771,
          9.44223646936292,
          10.622161665837258,
          10.256568210109709,
          7.912096392893189,
          8.11769544314778,
          9.580155849684816,
          9.159107396822023,
          10.183657631860399,
          8.46512991645919,
          10.08444914541489,
          8.92505879602586,
          8.095558624355604,
          9.059148553730727,
          9.278245943233086,
          8.515667307847805,
          7.835112016142926,
          7.472692880911536,
          7.750451912800503,
          9.688979238138792,
          8.962412267907734,
          7.973467755445312,
          9.180362290999593,
          8.494750589651973,
          10.147104628789455,
          8.4119080618057,
          9.862662641344953,
          9.728920567580962,
          8.500059209516284,
          8.939139075708093,
          9.037182323700586,
          10.252036176948652,
          8.416007559900255,
          9.586849664276604,
          8.125308451260427,
          8.874148866946168,
          9.222113199488794,
          8.609675248576345,
          9.706285501310472,
          8.985504796245682,
          8.911735124945526,
          9.538778168752398,
          8.787487483779877,
          8.569371542525515,
          9.76202571691077,
          10.447927075609824,
          7.587285163582897,
          9.963273340747653,
          9.06271481879738,
          8.396919288624439,
          8.398018452790371,
          10.123234174814288,
          10.053693656887708,
          9.206103569390143,
          9.020274182786737,
          9.839894594879139,
          10.507264635419755,
          9.078550205394492,
          8.591100686332883,
          9.403024089001363,
          7.904424889710272,
          8.291026575242569,
          9.433107120309066,
          10.166580417663528,
          9.082347101319474,
          10.479977027143638,
          10.65043940358712,
          7.444848937124288,
          9.056006885440796,
          7.610940410318889,
          9.708135143772237,
          9.98023478794707,
          9.195270591072427,
          8.836080297705095,
          9.984020145580844,
          10.701530708371722,
          8.327852506075102,
          9.528639352939711,
          9.468856565182067,
          9.400504263782892,
          10.531681440619428,
          10.589749032226115,
          7.71905662632079,
          10.020988754703406,
          9.915161879127544,
          7.441144509148898,
          10.41857858101573,
          8.05878732733746,
          9.340847933051702,
          9.993365732981747,
          8.899055014068397,
          10.703275887885447,
          8.187068603776234,
          10.589801791631476,
          8.990084578323348,
          9.574605490521856,
          9.136481398050599,
          10.138934663686996,
          8.117750999081906,
          9.268090423819404,
          9.021299048034273,
          9.794191713083654,
          7.816408559633747,
          8.40351412793397,
          7.591650744100329,
          9.35480632875911,
          10.798968200840411,
          8.786944725768821,
          8.649775859143583,
          8.86014425220058,
          9.102553036193283,
          8.658243599015632,
          9.571495074794829,
          9.299161269129582,
          10.593422185887682,
          9.544986338409286,
          7.554611082053211,
          9.400683932949047,
          9.48829672633496,
          8.425700975901744,
          9.053844093381725,
          7.650770471196587,
          10.45369196926782,
          9.626516867794916,
          9.382952324423352,
          8.401648245617254,
          8.675205405912378,
          8.312993320177268,
          9.61712194982434,
          9.853417719940197,
          9.286963416182969,
          9.337257352528104,
          9.184910824415926,
          9.26644533668895,
          10.637682648494286,
          9.331366029092958,
          8.186319652795467,
          10.431392923451883,
          9.332499861417224,
          8.425338504513691,
          10.706412420172152,
          7.423348897772541,
          10.04522867243799,
          8.079345718462804,
          9.727722696523381,
          9.3284274502958,
          8.152316015237817,
          9.338142664603124,
          9.924299701956077,
          9.24367181583795,
          9.103663295588047,
          9.25855377937721,
          7.9738746785158625,
          9.06014071822226,
          9.351180428629407,
          10.644215692662685,
          10.093319729709767,
          8.577755665419184,
          7.7815959834760955,
          9.28799434890277,
          9.129390868287384,
          10.494728624653064,
          10.552754669006335,
          8.647068245273546,
          10.438994266874893,
          9.029677155375715,
          10.750673458085194,
          9.847101914674951,
          10.618988014021557,
          9.5648355158761,
          9.231576872745064,
          8.671890076332048,
          9.572087934304326,
          7.455238911901867,
          9.057457489820392,
          8.21431030307363,
          9.938324649552763,
          9.209443735117471,
          9.887019481651924,
          9.313401057049871,
          8.938993221929394,
          8.063468403906713,
          8.217264298529827,
          10.51593249556386,
          9.110302035032785,
          8.98149522239808,
          10.20795276365428,
          8.754330468232741,
          9.172679729279917,
          9.331593756776948,
          10.870297037328017,
          7.7238140107412425,
          9.286556691431501,
          8.696130862655307,
          7.697909358195443,
          9.412124563634917,
          10.619894255888985,
          8.635946041095384,
          9.30702911930132,
          8.885747486629533,
          10.58967925474193,
          9.576792532279685,
          7.807802841965112,
          8.291506659465831,
          8.952508735612067,
          8.54172748903643,
          9.850254057175354,
          7.696590227142071,
          8.87536456115119,
          8.561781922867276,
          9.304058494220062,
          8.41836175927329,
          8.449051386241019,
          8.718067076234034,
          9.75142449876709,
          10.020319024488227,
          9.314125708690787,
          8.773050702030712,
          8.397038422923758,
          7.675249438845605,
          10.081117399619002,
          8.779078264166637,
          7.972289914262673,
          9.870466762875685,
          8.942562065496743,
          7.955314156769049,
          7.875876121132408,
          9.153492987408674,
          9.81619821510089,
          9.059961964839921,
          10.531171617986534,
          9.535664787610457,
          9.988349810573093,
          9.482401885007656,
          8.580618640193542,
          9.527008643928893,
          9.474177478202634,
          9.067761459413477,
          8.327020684406639,
          9.84366873790736,
          10.41353940101522,
          8.648192944644329,
          8.763053308616136,
          8.50404817297853,
          8.732103228184426,
          9.074890483071128,
          7.628189216623282,
          9.206739898041981,
          9.810464571098317,
          8.540225968705249,
          10.516254269201825,
          10.556215626155717,
          9.918221643239786,
          9.42118232798015,
          8.589209481098042,
          10.067433650793916,
          7.439826782172378,
          9.287934453440736,
          8.283006753752403,
          9.464211568382503,
          8.597050257244009,
          8.308474130129282,
          10.637335168228285,
          8.927601249659833,
          8.459183402318027,
          8.793840853062461,
          9.04105353293468,
          10.170673817450307,
          8.833241063502724,
          8.475465953953865,
          8.800949294826985,
          8.876546253991721,
          9.268064386389522,
          9.387503308438452,
          11.002456427119922,
          9.911819546370243,
          9.43185932033737,
          9.3365781431927,
          9.049673690712916,
          7.900847168841421,
          9.578439617365246,
          9.411185212728707,
          8.85159284600809,
          8.08284568355478,
          10.763628035142784,
          10.811295656434112,
          8.365502762687802,
          8.061996169331463,
          7.035216397214367,
          8.633262581843207,
          9.116227255405688,
          8.709328601103802,
          7.398762896933699,
          10.534959514126916,
          9.833516794145021,
          7.124127959598635,
          9.694792061021555,
          9.669587717382127,
          8.392799080681138,
          8.775551442516303,
          9.344586097529177,
          9.333083048256867,
          10.31106976965331,
          9.229924563652334,
          8.42161463160122,
          8.094732777794066,
          8.820284799770908,
          8.900787262543032,
          9.246760296387565,
          10.20086674556824,
          9.278416690223178,
          10.44156018267344,
          7.539286064831457,
          9.061294971338892,
          8.099411499635565,
          8.013610987297714,
          9.580408338157117,
          8.46527926236957,
          9.743514872709168,
          9.301946427246547,
          7.9164238956827715,
          8.379549044428517,
          10.019582219255035,
          8.340244319866398,
          9.022042677591074,
          10.10788441968992,
          9.566857461456555,
          7.450285188201471,
          10.766459360873188,
          9.051892181062124,
          8.224867045261597,
          8.6074815100297,
          10.554368101840476,
          8.874514118662818,
          8.872613698878428,
          10.45819571776692,
          7.323398348799277,
          9.13797326594303,
          9.386905831683409,
          7.583135558747921,
          7.443620235711848,
          8.375731211796301,
          8.568165629835017,
          7.905009605152786,
          11.044406702204412,
          10.751888302731006,
          8.073648263088874,
          10.540850427090321,
          9.964553392295727,
          7.809792429487589,
          9.687524689510054,
          9.974527338330544,
          10.431189555719895,
          8.835786694584385,
          8.84518814721317,
          8.427577637408286,
          8.419857942542947,
          10.5022574580008,
          9.83979536382488,
          9.330106452543097,
          7.456845582123641,
          7.059155923784115,
          9.878001482704299,
          8.882072506273097,
          8.598777482546863,
          10.2435722936984,
          9.471268659768649,
          10.689587051237151,
          8.352293229509261,
          9.48367019054946,
          8.860785917078346,
          9.14611163751643,
          10.016626230507166,
          9.242343369204054,
          9.44376414823737,
          9.286925169193296,
          9.342393109428775,
          9.268661005177488,
          7.698927496239761,
          7.39623314134416,
          7.604867089998248,
          10.279913760197052
         ],
         "xaxis": "x2",
         "yaxis": "y2"
        }
       ],
       "layout": {
        "annotations": [
         {
          "font": {
           "size": 16
          },
          "showarrow": false,
          "text": "Charge Distribution",
          "x": 0.5,
          "xanchor": "center",
          "xref": "paper",
          "y": 1,
          "yanchor": "bottom",
          "yref": "paper"
         },
         {
          "font": {
           "size": 16
          },
          "showarrow": false,
          "text": "Log Charge Distribution",
          "x": 0.5,
          "xanchor": "center",
          "xref": "paper",
          "y": 0.375,
          "yanchor": "bottom",
          "yref": "paper"
         }
        ],
        "bargap": 0.05,
        "showlegend": true,
        "template": {
         "data": {
          "bar": [
           {
            "error_x": {
             "color": "#2a3f5f"
            },
            "error_y": {
             "color": "#2a3f5f"
            },
            "marker": {
             "line": {
              "color": "#E5ECF6",
              "width": 0.5
             },
             "pattern": {
              "fillmode": "overlay",
              "size": 10,
              "solidity": 0.2
             }
            },
            "type": "bar"
           }
          ],
          "barpolar": [
           {
            "marker": {
             "line": {
              "color": "#E5ECF6",
              "width": 0.5
             },
             "pattern": {
              "fillmode": "overlay",
              "size": 10,
              "solidity": 0.2
             }
            },
            "type": "barpolar"
           }
          ],
          "carpet": [
           {
            "aaxis": {
             "endlinecolor": "#2a3f5f",
             "gridcolor": "white",
             "linecolor": "white",
             "minorgridcolor": "white",
             "startlinecolor": "#2a3f5f"
            },
            "baxis": {
             "endlinecolor": "#2a3f5f",
             "gridcolor": "white",
             "linecolor": "white",
             "minorgridcolor": "white",
             "startlinecolor": "#2a3f5f"
            },
            "type": "carpet"
           }
          ],
          "choropleth": [
           {
            "colorbar": {
             "outlinewidth": 0,
             "ticks": ""
            },
            "type": "choropleth"
           }
          ],
          "contour": [
           {
            "colorbar": {
             "outlinewidth": 0,
             "ticks": ""
            },
            "colorscale": [
             [
              0,
              "#0d0887"
             ],
             [
              0.1111111111111111,
              "#46039f"
             ],
             [
              0.2222222222222222,
              "#7201a8"
             ],
             [
              0.3333333333333333,
              "#9c179e"
             ],
             [
              0.4444444444444444,
              "#bd3786"
             ],
             [
              0.5555555555555556,
              "#d8576b"
             ],
             [
              0.6666666666666666,
              "#ed7953"
             ],
             [
              0.7777777777777778,
              "#fb9f3a"
             ],
             [
              0.8888888888888888,
              "#fdca26"
             ],
             [
              1,
              "#f0f921"
             ]
            ],
            "type": "contour"
           }
          ],
          "contourcarpet": [
           {
            "colorbar": {
             "outlinewidth": 0,
             "ticks": ""
            },
            "type": "contourcarpet"
           }
          ],
          "heatmap": [
           {
            "colorbar": {
             "outlinewidth": 0,
             "ticks": ""
            },
            "colorscale": [
             [
              0,
              "#0d0887"
             ],
             [
              0.1111111111111111,
              "#46039f"
             ],
             [
              0.2222222222222222,
              "#7201a8"
             ],
             [
              0.3333333333333333,
              "#9c179e"
             ],
             [
              0.4444444444444444,
              "#bd3786"
             ],
             [
              0.5555555555555556,
              "#d8576b"
             ],
             [
              0.6666666666666666,
              "#ed7953"
             ],
             [
              0.7777777777777778,
              "#fb9f3a"
             ],
             [
              0.8888888888888888,
              "#fdca26"
             ],
             [
              1,
              "#f0f921"
             ]
            ],
            "type": "heatmap"
           }
          ],
          "heatmapgl": [
           {
            "colorbar": {
             "outlinewidth": 0,
             "ticks": ""
            },
            "colorscale": [
             [
              0,
              "#0d0887"
             ],
             [
              0.1111111111111111,
              "#46039f"
             ],
             [
              0.2222222222222222,
              "#7201a8"
             ],
             [
              0.3333333333333333,
              "#9c179e"
             ],
             [
              0.4444444444444444,
              "#bd3786"
             ],
             [
              0.5555555555555556,
              "#d8576b"
             ],
             [
              0.6666666666666666,
              "#ed7953"
             ],
             [
              0.7777777777777778,
              "#fb9f3a"
             ],
             [
              0.8888888888888888,
              "#fdca26"
             ],
             [
              1,
              "#f0f921"
             ]
            ],
            "type": "heatmapgl"
           }
          ],
          "histogram": [
           {
            "marker": {
             "pattern": {
              "fillmode": "overlay",
              "size": 10,
              "solidity": 0.2
             }
            },
            "type": "histogram"
           }
          ],
          "histogram2d": [
           {
            "colorbar": {
             "outlinewidth": 0,
             "ticks": ""
            },
            "colorscale": [
             [
              0,
              "#0d0887"
             ],
             [
              0.1111111111111111,
              "#46039f"
             ],
             [
              0.2222222222222222,
              "#7201a8"
             ],
             [
              0.3333333333333333,
              "#9c179e"
             ],
             [
              0.4444444444444444,
              "#bd3786"
             ],
             [
              0.5555555555555556,
              "#d8576b"
             ],
             [
              0.6666666666666666,
              "#ed7953"
             ],
             [
              0.7777777777777778,
              "#fb9f3a"
             ],
             [
              0.8888888888888888,
              "#fdca26"
             ],
             [
              1,
              "#f0f921"
             ]
            ],
            "type": "histogram2d"
           }
          ],
          "histogram2dcontour": [
           {
            "colorbar": {
             "outlinewidth": 0,
             "ticks": ""
            },
            "colorscale": [
             [
              0,
              "#0d0887"
             ],
             [
              0.1111111111111111,
              "#46039f"
             ],
             [
              0.2222222222222222,
              "#7201a8"
             ],
             [
              0.3333333333333333,
              "#9c179e"
             ],
             [
              0.4444444444444444,
              "#bd3786"
             ],
             [
              0.5555555555555556,
              "#d8576b"
             ],
             [
              0.6666666666666666,
              "#ed7953"
             ],
             [
              0.7777777777777778,
              "#fb9f3a"
             ],
             [
              0.8888888888888888,
              "#fdca26"
             ],
             [
              1,
              "#f0f921"
             ]
            ],
            "type": "histogram2dcontour"
           }
          ],
          "mesh3d": [
           {
            "colorbar": {
             "outlinewidth": 0,
             "ticks": ""
            },
            "type": "mesh3d"
           }
          ],
          "parcoords": [
           {
            "line": {
             "colorbar": {
              "outlinewidth": 0,
              "ticks": ""
             }
            },
            "type": "parcoords"
           }
          ],
          "pie": [
           {
            "automargin": true,
            "type": "pie"
           }
          ],
          "scatter": [
           {
            "marker": {
             "colorbar": {
              "outlinewidth": 0,
              "ticks": ""
             }
            },
            "type": "scatter"
           }
          ],
          "scatter3d": [
           {
            "line": {
             "colorbar": {
              "outlinewidth": 0,
              "ticks": ""
             }
            },
            "marker": {
             "colorbar": {
              "outlinewidth": 0,
              "ticks": ""
             }
            },
            "type": "scatter3d"
           }
          ],
          "scattercarpet": [
           {
            "marker": {
             "colorbar": {
              "outlinewidth": 0,
              "ticks": ""
             }
            },
            "type": "scattercarpet"
           }
          ],
          "scattergeo": [
           {
            "marker": {
             "colorbar": {
              "outlinewidth": 0,
              "ticks": ""
             }
            },
            "type": "scattergeo"
           }
          ],
          "scattergl": [
           {
            "marker": {
             "colorbar": {
              "outlinewidth": 0,
              "ticks": ""
             }
            },
            "type": "scattergl"
           }
          ],
          "scattermapbox": [
           {
            "marker": {
             "colorbar": {
              "outlinewidth": 0,
              "ticks": ""
             }
            },
            "type": "scattermapbox"
           }
          ],
          "scatterpolar": [
           {
            "marker": {
             "colorbar": {
              "outlinewidth": 0,
              "ticks": ""
             }
            },
            "type": "scatterpolar"
           }
          ],
          "scatterpolargl": [
           {
            "marker": {
             "colorbar": {
              "outlinewidth": 0,
              "ticks": ""
             }
            },
            "type": "scatterpolargl"
           }
          ],
          "scatterternary": [
           {
            "marker": {
             "colorbar": {
              "outlinewidth": 0,
              "ticks": ""
             }
            },
            "type": "scatterternary"
           }
          ],
          "surface": [
           {
            "colorbar": {
             "outlinewidth": 0,
             "ticks": ""
            },
            "colorscale": [
             [
              0,
              "#0d0887"
             ],
             [
              0.1111111111111111,
              "#46039f"
             ],
             [
              0.2222222222222222,
              "#7201a8"
             ],
             [
              0.3333333333333333,
              "#9c179e"
             ],
             [
              0.4444444444444444,
              "#bd3786"
             ],
             [
              0.5555555555555556,
              "#d8576b"
             ],
             [
              0.6666666666666666,
              "#ed7953"
             ],
             [
              0.7777777777777778,
              "#fb9f3a"
             ],
             [
              0.8888888888888888,
              "#fdca26"
             ],
             [
              1,
              "#f0f921"
             ]
            ],
            "type": "surface"
           }
          ],
          "table": [
           {
            "cells": {
             "fill": {
              "color": "#EBF0F8"
             },
             "line": {
              "color": "white"
             }
            },
            "header": {
             "fill": {
              "color": "#C8D4E3"
             },
             "line": {
              "color": "white"
             }
            },
            "type": "table"
           }
          ]
         },
         "layout": {
          "annotationdefaults": {
           "arrowcolor": "#2a3f5f",
           "arrowhead": 0,
           "arrowwidth": 1
          },
          "autotypenumbers": "strict",
          "coloraxis": {
           "colorbar": {
            "outlinewidth": 0,
            "ticks": ""
           }
          },
          "colorscale": {
           "diverging": [
            [
             0,
             "#8e0152"
            ],
            [
             0.1,
             "#c51b7d"
            ],
            [
             0.2,
             "#de77ae"
            ],
            [
             0.3,
             "#f1b6da"
            ],
            [
             0.4,
             "#fde0ef"
            ],
            [
             0.5,
             "#f7f7f7"
            ],
            [
             0.6,
             "#e6f5d0"
            ],
            [
             0.7,
             "#b8e186"
            ],
            [
             0.8,
             "#7fbc41"
            ],
            [
             0.9,
             "#4d9221"
            ],
            [
             1,
             "#276419"
            ]
           ],
           "sequential": [
            [
             0,
             "#0d0887"
            ],
            [
             0.1111111111111111,
             "#46039f"
            ],
            [
             0.2222222222222222,
             "#7201a8"
            ],
            [
             0.3333333333333333,
             "#9c179e"
            ],
            [
             0.4444444444444444,
             "#bd3786"
            ],
            [
             0.5555555555555556,
             "#d8576b"
            ],
            [
             0.6666666666666666,
             "#ed7953"
            ],
            [
             0.7777777777777778,
             "#fb9f3a"
            ],
            [
             0.8888888888888888,
             "#fdca26"
            ],
            [
             1,
             "#f0f921"
            ]
           ],
           "sequentialminus": [
            [
             0,
             "#0d0887"
            ],
            [
             0.1111111111111111,
             "#46039f"
            ],
            [
             0.2222222222222222,
             "#7201a8"
            ],
            [
             0.3333333333333333,
             "#9c179e"
            ],
            [
             0.4444444444444444,
             "#bd3786"
            ],
            [
             0.5555555555555556,
             "#d8576b"
            ],
            [
             0.6666666666666666,
             "#ed7953"
            ],
            [
             0.7777777777777778,
             "#fb9f3a"
            ],
            [
             0.8888888888888888,
             "#fdca26"
            ],
            [
             1,
             "#f0f921"
            ]
           ]
          },
          "colorway": [
           "#636efa",
           "#EF553B",
           "#00cc96",
           "#ab63fa",
           "#FFA15A",
           "#19d3f3",
           "#FF6692",
           "#B6E880",
           "#FF97FF",
           "#FECB52"
          ],
          "font": {
           "color": "#2a3f5f"
          },
          "geo": {
           "bgcolor": "white",
           "lakecolor": "white",
           "landcolor": "#E5ECF6",
           "showlakes": true,
           "showland": true,
           "subunitcolor": "white"
          },
          "hoverlabel": {
           "align": "left"
          },
          "hovermode": "closest",
          "mapbox": {
           "style": "light"
          },
          "paper_bgcolor": "white",
          "plot_bgcolor": "#E5ECF6",
          "polar": {
           "angularaxis": {
            "gridcolor": "white",
            "linecolor": "white",
            "ticks": ""
           },
           "bgcolor": "#E5ECF6",
           "radialaxis": {
            "gridcolor": "white",
            "linecolor": "white",
            "ticks": ""
           }
          },
          "scene": {
           "xaxis": {
            "backgroundcolor": "#E5ECF6",
            "gridcolor": "white",
            "gridwidth": 2,
            "linecolor": "white",
            "showbackground": true,
            "ticks": "",
            "zerolinecolor": "white"
           },
           "yaxis": {
            "backgroundcolor": "#E5ECF6",
            "gridcolor": "white",
            "gridwidth": 2,
            "linecolor": "white",
            "showbackground": true,
            "ticks": "",
            "zerolinecolor": "white"
           },
           "zaxis": {
            "backgroundcolor": "#E5ECF6",
            "gridcolor": "white",
            "gridwidth": 2,
            "linecolor": "white",
            "showbackground": true,
            "ticks": "",
            "zerolinecolor": "white"
           }
          },
          "shapedefaults": {
           "line": {
            "color": "#2a3f5f"
           }
          },
          "ternary": {
           "aaxis": {
            "gridcolor": "white",
            "linecolor": "white",
            "ticks": ""
           },
           "baxis": {
            "gridcolor": "white",
            "linecolor": "white",
            "ticks": ""
           },
           "bgcolor": "#E5ECF6",
           "caxis": {
            "gridcolor": "white",
            "linecolor": "white",
            "ticks": ""
           }
          },
          "title": {
           "x": 0.05
          },
          "xaxis": {
           "automargin": true,
           "gridcolor": "white",
           "linecolor": "white",
           "ticks": "",
           "title": {
            "standoff": 15
           },
           "zerolinecolor": "white",
           "zerolinewidth": 2
          },
          "yaxis": {
           "automargin": true,
           "gridcolor": "white",
           "linecolor": "white",
           "ticks": "",
           "title": {
            "standoff": 15
           },
           "zerolinecolor": "white",
           "zerolinewidth": 2
          }
         }
        },
        "title": {
         "text": "Charge Distribution"
        },
        "xaxis": {
         "anchor": "y",
         "domain": [
          0,
          1
         ]
        },
        "xaxis2": {
         "anchor": "y2",
         "domain": [
          0,
          1
         ]
        },
        "yaxis": {
         "anchor": "x",
         "domain": [
          0.625,
          1
         ]
        },
        "yaxis2": {
         "anchor": "x2",
         "domain": [
          0,
          0.375
         ]
        }
       }
      },
      "text/html": [
       "<div>                            <div id=\"13446f14-6590-4dd7-b6bc-e448eec457c0\" class=\"plotly-graph-div\" style=\"height:525px; width:100%;\"></div>            <script type=\"text/javascript\">                require([\"plotly\"], function(Plotly) {                    window.PLOTLYENV=window.PLOTLYENV || {};                                    if (document.getElementById(\"13446f14-6590-4dd7-b6bc-e448eec457c0\")) {                    Plotly.newPlot(                        \"13446f14-6590-4dd7-b6bc-e448eec457c0\",                        [{\"histnorm\":\"probability\",\"marker\":{\"color\":\"#FA5858\"},\"name\":\"Charges Distribution\",\"type\":\"histogram\",\"x\":[16884.924,1725.5523,4449.462,21984.47061,3866.8552,3756.6216,8240.5896,7281.5056,6406.4107,28923.136919999997,2721.3208,27808.7251,1826.8429999999998,11090.7178,39611.7577,1837.237,10797.3362,2395.17155,10602.385,36837.467000000004,13228.84695,4149.736,1137.011,37701.8768,6203.90175,14001.1338,14451.83515,12268.63225,2775.19215,38711.0,35585.576,2198.18985,4687.7970000000005,13770.0979,51194.55914,1625.43375,15612.19335,2302.3,39774.2763,48173.361,3046.062,4949.7587,6272.4772,6313.759,6079.6715,20630.28351,3393.35635,3556.9223,12629.8967,38709.176,2211.13075,3579.8287,23568.272,37742.5757,8059.6791,47496.49445,13607.36875,34303.1672,23244.7902,5989.52365,8606.2174,4504.6624,30166.618169999998,4133.64165,14711.7438,1743.214,14235.072,6389.37785,5920.1041,17663.1442,16577.7795,6799.4580000000005,11741.726,11946.6259,7726.854,11356.6609,3947.4131,1532.4697,2755.02095,6571.02435,4441.21315,7935.29115,37165.1638,11033.6617,39836.519,21098.55405,43578.9394,11073.176000000001,8026.6666,11082.5772,2026.9741,10942.13205,30184.9367,5729.0053,47291.055,3766.8838,12105.32,10226.2842,22412.6485,15820.698999999999,6186.1269999999995,3645.0894,21344.8467,30942.1918,5003.853,17560.37975,2331.519,3877.30425,2867.1196,47055.5321,10825.2537,11881.358,4646.759,2404.7338,11488.31695,30259.995560000003,11381.3254,19107.7796,8601.3293,6686.4313,7740.3369999999995,1705.6245,2257.47525,39556.4945,10115.00885,3385.39915,17081.08,9634.538,32734.1863,6082.405,12815.44495,13616.3586,11163.568000000001,1632.56445,2457.21115,2155.6815,1261.442,2045.68525,27322.733860000004,2166.732,27375.90478,3490.5491,18972.495,18157.876,20745.9891,5138.2567,40720.55105,9877.6077,10959.6947,1842.519,5125.2157,7789.635,6334.34355,19964.7463,7077.1894,6948.7008,21223.6758,15518.18025,36950.2567,19749.383380000003,21348.706000000002,36149.4835,10450.552,5152.134,5028.1466,10407.08585,4830.63,6128.79745,2719.27975,4827.90495,13405.3903,8116.68,1694.7964,5246.047,2855.43755,48824.45,6455.86265,10436.096,8823.279,8538.28845,11735.87905,1631.8212,4005.4225,7419.4779,7731.4271,43753.33705,3981.9768,5325.651,6775.960999999999,4922.9159,12557.6053,4883.866,2137.6536,12044.341999999999,1137.4697,1639.5631,5649.715,8516.829,9644.2525,14901.5167,2130.6759,8871.1517,13012.20865,37133.8982,7147.105,4337.7352,11743.298999999999,20984.0936,13880.948999999999,6610.1097,1980.07,8162.71625,3537.703,5002.7827,8520.026,7371.772,10355.641,2483.736,3392.9768,25081.76784,5012.471,10564.8845,5253.524,34779.615,19515.5416,11987.1682,2689.4954,24227.33724,7358.17565,9225.2564,7443.64305,14001.2867,1727.785,12333.828000000001,6710.1919,19444.2658,1615.7667,4463.2051,17352.6803,7152.6714,38511.6283,5354.07465,35160.13457,7196.866999999999,29523.1656,24476.47851,12648.7034,1986.9334,1832.094,4040.55825,12829.4551,47305.305,44260.7499,4260.744000000001,41097.16175,13047.33235,43921.1837,5400.9805,11520.09985,33750.2918,11837.16,17085.2676,24869.8368,36219.40545,20462.99766,46151.1245,17179.522,14590.63205,7441.053000000001,9282.4806,1719.4363,42856.837999999996,7265.7025,9617.66245,2523.1695,9715.841,2803.69785,2150.469,12928.7911,9855.1314,22331.5668,48549.17835,4237.12655,11879.10405,9625.92,7742.1098,9432.9253,14256.1928,47896.79135,25992.82104,3172.018,20277.80751,42112.2356,2156.7518,3906.127,1704.5681,16297.846000000001,21978.6769,38746.3551,9249.4952,6746.7425,24873.3849,12265.5069,4349.462,12646.207,19442.3535,20177.671130000002,4151.0287,11944.59435,7749.1564,8444.474,1737.376,42124.5153,8124.4084,34838.873,9722.7695,8835.26495,10435.06525,7421.19455,4667.60765,4894.7533,24671.66334,35491.64,11566.30055,2866.091,6600.20595,3561.8889,42760.5022,47928.03,9144.565,48517.56315,24393.6224,13429.0354,11658.37915,19144.57652,13822.803,12142.5786,13937.6665,41919.097,8232.6388,18955.22017,13352.0998,13217.0945,13981.85035,10977.2063,6184.2994,4889.9995,8334.45755,5478.0368,1635.73365,11830.6072,8932.084,3554.203,12404.8791,14133.03775,24603.04837,8944.1151,9620.3307,1837.2819,1607.5101,10043.249,4751.07,13844.506000000001,2597.779,3180.5101,9778.3472,13430.265,8017.06115,8116.26885,3481.868,13415.0381,12029.2867,7639.41745,36085.219,1391.5287,18033.9679,21659.9301,38126.2465,16455.70785,27000.98473,15006.57945,42303.69215,20781.48892,5846.9176,8302.53565,1261.859,11856.4115,30284.642939999998,3176.8159,4618.0799,10736.87075,2138.0707,8964.06055,9290.1395,9411.005,7526.70645,8522.003,16586.49771,14988.431999999999,1631.6683,9264.796999999999,8083.9198,14692.66935,10269.46,3260.199,11396.9002,4185.0979,8539.671,6652.5288,4074.4537,1621.3402,19594.80965,14455.64405,5080.096,2134.9015,7345.7266,9140.951,18608.262,14418.2804,28950.4692,46889.2612,46599.1084,39125.33225,2727.3951,8968.33,9788.8659,6555.07035,7323.734818999999,3167.45585,18804.7524,23082.95533,4906.40965,5969.723000000001,12638.195,4243.59005,13919.8229,2254.7967,5926.846,12592.5345,2897.3235,4738.2682,37079.372,1149.3959,28287.897660000002,26109.32905,7345.084,12730.9996,11454.0215,5910.944,4762.329000000001,7512.267,4032.2407,1969.614,1769.53165,4686.3887,21797.0004,11881.9696,11840.77505,10601.412,7682.67,10381.4787,22144.032000000003,15230.32405,11165.41765,1632.03625,19521.9682,13224.693000000001,12643.3778,23288.9284,2201.0971,2497.0383,2203.47185,1744.465,20878.78443,25382.297000000002,28868.6639,35147.52848,2534.39375,1534.3045,1824.2854,15555.18875,9304.7019,1622.1885,9880.068000000001,9563.029,4347.02335,12475.3513,1253.9360000000001,48885.135610000005,10461.9794,1748.774,24513.09126,2196.4732,12574.048999999999,17942.106,1967.0227,4931.647,8027.968000000001,8211.1002,13470.86,36197.699,6837.3687,22218.1149,32548.3405,5974.3847,6796.86325,2643.2685,3077.0955,3044.2133,11455.28,11763.0009,2498.4144,9361.3268,1256.299,21082.16,11362.755,27724.28875,8413.46305,5240.765,3857.75925,25656.575259999998,3994.1778,9866.30485,5397.6167,38245.59327,11482.63485,24059.68019,9861.025,8342.90875,1708.0014,48675.5177,14043.4767,12925.886,19214.705530000003,13831.1152,6067.12675,5972.378000000001,8825.086,8233.0975,27346.04207,6196.448,3056.3881,13887.204,63770.42801,10231.4999,23807.2406,3268.84665,11538.421,3213.62205,45863.205,13390.559,3972.9247,12957.118,11187.6567,17878.900680000002,3847.6740000000004,8334.5896,3935.1799,39983.42595,1646.4297,9193.8385,10923.9332,2494.022,9058.7303,2801.2588,2128.43105,6373.55735,7256.7231,11552.903999999999,45702.02235,3761.292,2219.4451,4753.6368,31620.001060000002,13224.05705,12222.8983,1664.9996,58571.074479999996,9724.53,3206.49135,12913.9924,1639.5631,6356.2707,17626.23951,1242.816,4779.6023,3861.20965,43943.8761,13635.6379,5976.8311,11842.442,8428.0693,2566.4707,15359.1045,5709.1644,8823.98575,7640.3092,5594.8455,7441.501,33471.97189,1633.0444,9174.13565,11070.535,16085.1275,17468.9839,9283.562,3558.62025,25678.77845,4435.0942,39241.442,8547.6913,6571.544,2207.69745,6753.0380000000005,1880.07,42969.8527,11658.11505,23306.547000000002,34439.8559,10713.643999999998,3659.3459999999995,40182.246,9182.17,34617.84065,12129.61415,3736.4647,6748.5912,11326.71487,11365.952,42983.4585,10085.846,1977.815,3366.6697,7173.35995,9391.346,14410.9321,2709.1119,24915.04626,20149.3229,12949.1554,6666.243,32787.458589999995,13143.86485,4466.6214,18806.14547,10141.1362,6123.5688,8252.2843,1712.227,12430.95335,9800.8882,10579.711000000001,8280.6227,8527.532,12244.531,24667.418999999998,3410.324,4058.71245,26392.260290000002,14394.39815,6435.6237,22192.43711,5148.5526,1136.3994,27037.9141,42560.4304,8703.456,40003.33225,45710.20785,6500.2359,4837.5823,3943.5954,4399.731,6185.3208,46200.9851,7222.78625,12485.8009,46130.5265,12363.546999999999,10156.7832,2585.269,1242.26,40103.89,9863.4718,4766.022,11244.3769,7729.64575,5438.7491,26236.57997,34806.4677,2104.1134,8068.185,2362.22905,2352.96845,3577.9990000000003,3201.24515,29186.48236,40273.6455,10976.24575,3500.6123,2020.5523,9541.69555,9504.3103,5385.3379,8930.93455,5375.0380000000005,44400.4064,10264.4421,6113.23105,5469.0066,1727.54,10107.2206,8310.83915,1984.4533,2457.502,12146.971000000001,9566.9909,13112.6048,10848.1343,12231.6136,9875.6804,11264.541000000001,12979.358,1263.249,10106.13425,40932.4295,6664.68595,16657.71745,2217.6012,6781.3542,19361.9988,10065.413,4234.927,9447.25035,14007.222,9583.8933,40419.0191,3484.3309999999997,36189.1017,44585.45587,8604.48365,18246.4955,43254.41795,3757.8448,8827.2099,9910.35985,11737.84884,1627.28245,8556.907,3062.50825,19539.243000000002,1906.35825,14210.53595,11833.7823,17128.42608,5031.26955,7985.815,23065.4207,5428.7277,36307.7983,3925.7582,2416.955,19040.876,3070.8087,9095.06825,11842.62375,8062.764,7050.642,14319.031,6933.24225,27941.28758,11150.78,12797.20962,17748.5062,7261.741,10560.4917,6986.696999999999,7448.40395,5934.3798,9869.8102,18259.216,1146.7966,9386.1613,24520.264,4350.5144,6414.178000000001,12741.16745,1917.3184,5209.57885,13457.9608,5662.225,1252.407,2731.9122,21195.818,7209.4918,18310.742,4266.1658,4719.52405,11848.141000000001,17904.52705,7046.7222,14313.8463,2103.08,38792.6856,1815.8759,7731.85785,28476.734989999997,2136.88225,1131.5066,3309.7926,9414.92,6360.9936,11013.7119,4428.88785,5584.3057,1877.9294,2842.76075,3597.5959999999995,23401.30575,55135.402089999996,7445.918000000001,2680.9493,1621.8827,8219.2039,12523.6048,16069.08475,43813.8661,20773.62775,39597.4072,6117.4945,13393.756000000001,5266.3656,4719.73655,11743.9341,5377.4578,7160.3303,4402.233,11657.7189,6402.29135,12622.1795,1526.3120000000001,12323.936000000002,36021.0112,27533.9129,10072.05505,45008.9555,9872.701,2438.0552,2974.1259999999997,10601.63225,37270.1512,14119.62,42111.6647,11729.6795,24106.91255,1875.344,40974.1649,15817.9857,18218.16139,10965.446000000002,46113.511,7151.092,12269.68865,5458.04645,8782.469000000001,6600.361,1141.4451,11576.13,13129.60345,4391.652,8457.818000000001,3392.3652,5966.8874,6849.026,8891.1395,2690.1138,26140.3603,6653.7886,6282.235,6311.951999999999,3443.0640000000003,2789.0574,2585.85065,46255.1125,4877.98105,19719.6947,27218.43725,5272.1758,1682.5970000000002,11945.1327,29330.98315,7243.8136,10422.91665,44202.6536,13555.0049,13063.883,19798.05455,2221.56445,1634.5734,2117.33885,8688.85885,48673.5588,4661.28635,8125.7845,12644.589,4564.19145,4846.92015,7633.7206,15170.069,17496.306,2639.0429,33732.6867,14382.70905,7626.993,5257.50795,2473.3341,21774.32215,35069.37452,13041.921,5245.2269,13451.122,13462.52,5488.262,4320.41085,6250.435,25333.33284,2913.5690000000004,12032.326000000001,13470.8044,6289.7549,2927.0647,6238.298000000001,10096.97,7348.142,4673.3922,12233.828000000001,32108.662819999998,8965.79575,2304.0022,9487.6442,1121.8739,9549.5651,2217.46915,1628.4709,12982.8747,11674.13,7160.094,39047.285,6358.77645,19933.458,11534.87265,47462.894,4527.18295,38998.546,20009.63365,3875.7341,41999.52,12609.88702,41034.2214,28468.91901,2730.10785,3353.284,14474.675,9500.57305,26467.09737,4746.344,23967.38305,7518.02535,3279.86855,8596.8278,10702.6424,4992.3764,2527.81865,1759.338,2322.6218,16138.76205,7804.1605,2902.9065,9704.66805,4889.0368,25517.11363,4500.33925,19199.944,16796.41194,4915.05985,7624.63,8410.04685,28340.18885,4518.82625,14571.8908,3378.91,7144.86265,10118.424,5484.4673,16420.49455,7986.47525,7418.522,13887.9685,6551.7501,5267.81815,17361.7661,34472.841,1972.95,21232.182259999998,8627.5411,4433.3877,4438.2634,24915.22085,23241.47453,9957.7216,8269.044,18767.7377,36580.28216,8765.249,5383.536,12124.9924,2709.24395,3987.926,12495.29085,26018.95052,8798.593,35595.5898,42211.1382,1711.0268,8569.8618,2020.1770000000001,16450.8947,21595.38229,9850.431999999999,6877.9801,21677.28345,44423.803,4137.5227,13747.87235,12950.0712,12094.478000000001,37484.4493,39725.51805,2250.8352,22493.65964,20234.85475,1704.70015,33475.81715,3161.454,11394.06555,21880.82,7325.0482,44501.3982,3594.17085,39727.614,8023.13545,14394.5579,9288.0267,25309.488999999998,3353.4703,10594.50155,8277.523000000001,17929.303369999998,2480.9791,4462.7218,1981.5819,11554.2236,48970.2476,6548.19505,5708.866999999999,7045.499,8978.1851,5757.41345,14349.8544,10928.848999999998,39871.7043,13974.45555,1909.52745,12096.6512,13204.28565,4562.8421,8551.347,2102.2647,34672.1472,15161.5344,11884.04858,4454.40265,5855.9025,4076.4970000000003,15019.76005,19023.26,10796.35025,11353.2276,9748.9106,10577.087,41676.0811,11286.5387,3591.48,33907.547999999995,11299.343,4561.1885,44641.1974,1674.6323,23045.56616,3227.1211,16776.30405,11253.421,3471.4096,11363.2832,20420.60465,10338.9316,8988.15875,10493.9458,2904.0879999999997,8605.3615,11512.405,41949.2441,24180.9335,5312.16985,2396.0959,10807.4863,9222.4026,36124.5737,38282.7495,5693.4305,34166.273,8347.1643,46661.4424,18903.49141,40904.1995,14254.6082,10214.636,5836.5204,14358.36437,1728.8970000000002,8582.3023,3693.428,20709.02034,9991.03765,19673.335730000003,11085.5868,7623.518,3176.2877,3704.3545,36898.73308,9048.0273,7954.517,27117.99378,6338.0756,9630.396999999999,11289.10925,52590.82939,2261.5688,10791.96,5979.731,2203.73595,12235.8392,40941.2854,5630.45785,11015.1747,7228.21565,39722.7462,14426.07385,2459.7201,3989.841,7727.2532,5124.1887,18963.171919999997,2200.83085,7153.5539,5227.98875,10982.5013,4529.477,4670.64,6112.35295,17178.6824,22478.6,11093.6229,6457.8434,4433.9159,2154.361,23887.6627,6496.8859999999995,2899.48935,19350.3689,7650.77375,2850.68375,2632.992,9447.3824,18328.2381,8603.8234,37465.34375,13844.7972,21771.3423,13126.67745,5327.40025,13725.47184,13019.16105,8671.19125,4134.08245,18838.70366,33307.5508,5699.8375,6393.60345,4934.705,6198.7518,8733.22925,2055.3249,9964.06,18223.4512,5116.5004,36910.60803,38415.474,20296.86345,12347.171999999999,5373.36425,23563.016180000002,1702.4553,10806.839,3956.07145,12890.05765,5415.6612,4058.1161,41661.602,7537.1639,4718.20355,6593.5083,8442.667,26125.674769999998,6858.4796,4795.6568,6640.54485,7162.0122,10594.2257,11938.25595,60021.39897,20167.336030000002,12479.70895,11345.518999999998,8515.7587,2699.56835,14449.8544,12224.35085,6985.50695,3238.4357,47269.85400000001,49577.6624,4296.2712,3171.6149,1135.9407,5615.369000000001,9101.798,6059.173000000001,1633.9618,37607.5277,18648.4217,1241.565,16232.847,15828.821730000001,4415.1588,6474.013000000001,11436.73815,11305.93455,30063.58055,10197.7722,4544.2348,3277.1609999999996,6770.1925,7337.7480000000005,10370.91255,26926.5144,10704.47,34254.05335,1880.487,8615.3,3292.52985,3021.80915,14478.33015,4747.0529,17043.3414,10959.33,2741.948,4357.04365,22462.04375,4189.1131,8283.6807,24535.69855,14283.4594,1720.3537,47403.88,8534.6718,3732.6251,5472.4490000000005,38344.566,7147.4728,7133.9025,34828.654,1515.3449,9301.89355,11931.12525,1964.78,1708.92575,4340.4409,5261.46945,2710.82855,62592.87309,46718.16325,3208.7870000000003,37829.7242,21259.37795,2464.6188,16115.3045,21472.4788,33900.653,6875.960999999999,6940.90985,4571.41305,4536.259,36397.576,18765.87545,11272.331390000001,1731.6770000000001,1163.4627,19496.71917,7201.70085,5425.02335,28101.33305,12981.3457,43896.3763,4239.89265,13143.33665,7050.0213,9377.9047,22395.74424,10325.206,12629.1656,10795.937329999999,11411.685,10600.5483,2205.9808,1629.8335,2007.945,29141.3603],\"xaxis\":\"x\",\"yaxis\":\"y\"},{\"histnorm\":\"probability\",\"marker\":{\"color\":\"#58FA82\"},\"name\":\"Charges Distribution using Log\",\"type\":\"histogram\",\"x\":[9.734176431773115,7.453302452133774,8.400538468975023,9.998091601725266,8.260196845858372,8.231275321843,9.016827173741753,8.893092932994646,8.765054439884247,10.272397139270046,7.908872629665523,10.233105102955316,7.510344619461671,9.3138638032273,10.586881264789202,7.516018091591322,9.287054734541506,7.78121013567231,9.268834254791456,10.514270731219286,9.490155099115842,8.330799996743426,7.036158168285971,10.537465154690363,8.73293368761397,9.546893591032516,9.578576685476762,9.414801060423951,7.928475267026576,10.563879076356082,10.479695666197845,7.695389505209892,8.452718028271507,9.530254701356105,10.843388538584009,7.393529982223134,9.65580751292789,7.741663902250325,10.59097565819445,10.782561470908275,8.021604887811318,8.507094106899793,8.743926643319663,8.750486499241552,8.712705943895298,9.93451534857872,8.129574784321063,8.176650927459093,9.443822036372055,10.563831956855854,7.701259315246468,8.183070229087928,10.067656679708454,10.538544065136376,8.994629020812297,10.76841118624667,9.518366744845707,10.442992967083542,10.053836308487051,8.697767163740266,9.060240174524983,8.41286822827766,10.314491233394307,8.326914052885053,9.596401351776898,7.463485814805136,9.56346405765509,8.762392179564197,8.686109312182905,9.779235499080675,9.715818493302972,8.824598182105163,9.370904101315244,9.388204166026542,8.952457072970553,9.33755971420867,8.280815731954618,7.334635895999898,7.921180325913819,8.790425012567459,8.398682850087193,8.979075324158835,10.52312714452221,9.30870603358349,10.592539333383169,9.956959788679958,10.682329271350698,9.31228088608999,8.990524602449,9.313129532532235,7.614299368866667,9.300375942728616,10.315098294160247,8.653297199525971,10.764076444545346,8.234003360388554,9.401400304380042,9.23271656715675,10.01738074365831,9.669074424922021,8.730064483263822,8.201136170890955,9.968565617156433,10.339875961954133,8.517963494656502,9.773400492809486,7.754275265475304,8.262895410217363,7.961063181092804,10.75908371727273,9.289636989085668,9.382725896148083,8.443925266324161,7.78519449034302,9.349085880566193,10.317581840613983,9.339729168385329,9.857850840007492,9.059672040064365,8.807835572826509,8.954200505687611,7.441686598314886,7.722002321775892,10.585485169575772,9.221775624539674,8.127227095676806,9.745726697193628,9.17310962951719,10.39617526337975,8.71315545595782,9.458406359225453,9.519027187129101,9.320410898099556,7.397907339697485,7.806782306964648,7.675862193843412,7.140010790012643,7.623488097922841,10.215474376760241,7.680975320607154,10.217418517896819,8.157814338064135,9.8507455777387,9.806859684962467,9.940108210589148,8.544469137496163,10.614488183794922,9.19802562579482,9.30197970427461,7.518888936086307,8.54192789092582,8.960549282824834,8.753741464655173,9.901723312178918,8.864632130470248,8.846309985832468,9.962872620540713,9.649767534929675,10.517327873578196,9.890877548576052,9.96874640792068,10.495417939794661,9.25441007896438,8.547166276762724,8.522806726007444,9.250242184859143,8.48273217292335,8.720753835134126,7.908122326430799,8.482167894782533,9.503412166247688,9.00167648255175,7.435317894605706,8.5652301195937,7.956980367790471,10.79598649096049,8.772743934940326,9.253025845141101,9.085148848619458,9.05231585100584,9.370406013873325,7.3974519706985165,8.295404347072033,8.91186396980437,8.95304874291158,10.68632316430551,8.289533658389189,8.5802902366264,8.821136480707299,8.50165629653286,9.438081761016077,8.49369239832677,7.667464057878258,9.396350285080235,7.036561513107688,7.402185082887787,8.639360380390347,9.04979936744745,9.17411742104044,9.60921827869941,7.664194532310539,9.090559909039461,9.473643322662959,10.522285529540705,8.874462658591002,8.375107647568866,9.371038059018279,9.951519982078127,9.538272603481479,8.796355528774585,7.590887476599013,9.007332266342479,8.171232925464038,8.517749576605288,9.050174671461898,8.905413390476387,9.245286674376384,7.817519157211993,8.129462927154016,10.12989648030097,8.51968428606193,9.265290997666689,8.566654368501379,10.456786718266788,9.878966432240112,9.39159203997651,7.89710887135675,10.09523691260038,8.90356730735587,9.129700262560421,8.915115665242206,9.54690451151705,7.454595520326733,9.420101010262051,8.811382828662593,9.875307488098656,7.38756485984698,8.403622419208565,9.761502257593413,8.875241188286216,10.558715508439093,8.585613166829567,10.467668179152426,8.881401071414858,10.292930508737422,10.105467874562926,9.44530999087867,7.594347724123951,7.513214853961428,8.304138142102193,9.459498985936145,10.764377724639163,10.697853556525223,8.357199071901574,10.623694340922153,9.476338974230188,10.690152027095278,8.594335790143862,9.351848601747042,10.426744342189226,9.378999014800954,9.74597182728889,10.12141097465288,10.497350316338569,9.926373541970088,10.739676605831331,9.75147337210112,9.588134961346164,8.914767650070457,9.135884096094836,7.449751783533308,10.665620491224391,8.890920267819599,9.17135652556776,7.833271128310732,9.181512925228999,7.938694485572268,7.673441236867624,9.467211971648577,9.195747552831266,10.01375650806908,10.790332549786354,8.351640618011537,9.38253617340599,9.172214739003671,8.954429513418837,9.15196153961076,9.564946673749331,10.776803794725254,10.16557566503102,8.062123257391853,9.917282340913964,10.648093609274202,7.67635857254542,8.270301624988955,7.44106704384527,9.698788230823375,9.99782803051339,10.564791968421908,9.132324256044338,8.8168150747887,10.121553631275622,9.414546284823487,8.377807438273036,9.445112607296863,9.87520913550149,9.912331882391653,8.331111462025765,9.38803409936744,8.955339264809723,9.041267541926123,7.460131207985733,10.648385161357012,9.002628192239301,10.458489082567231,9.182225784853754,9.086506372985527,9.25292707248648,8.912095313769873,8.448401938888532,8.495919155328892,10.11341063084194,10.47705245477294,9.35585102402813,7.960704359454179,8.79485613207312,8.178046273020675,10.663370109691156,10.777455789702474,9.120914992717132,10.789681138177611,10.102077000067178,9.505174462663783,9.363780440807814,9.859774744053276,9.534074898753166,9.404473447330512,9.54235027431946,10.643496777732379,9.015861874114465,9.849834643287883,9.499428939849388,9.489266308614972,9.545515363967878,9.303576247352384,8.729769004360477,8.494947480219423,9.028153712083231,8.608502067580671,7.3998466982849465,9.378445282789643,9.097405017304542,8.175886125822831,9.425845150008275,9.556270438418146,10.110625631722993,9.09875106427451,9.171633919368277,7.516042530164765,7.382441739140248,9.214655946474418,8.466125134818647,9.535643754217315,7.862412128177326,8.064796871715137,9.18792575079209,9.50526602126602,8.989327193555336,9.001625826321154,8.155324210362002,9.504131602960053,9.395099513777716,8.941076629253388,10.493638614491699,7.238158205977826,9.800012364087102,9.98321929340296,10.548658208457207,9.708427677772185,10.203628615802879,9.61624401391433,10.652629646095242,9.94181791367443,8.673669895379257,9.024316247129066,7.140341309442387,9.380624055098195,10.318396029350497,8.06363468484103,8.437734291627043,9.281438961548512,7.667659159326367,9.10097858969497,9.136708847841536,9.149635028151815,8.926212834672594,9.050406686089836,9.716344252398859,9.615033982556648,7.3973582673174505,9.13397722806388,8.997632157643029,9.5951039647093,9.23692972120915,8.089543515442493,9.341096685127038,8.339285375720452,9.05247776145036,8.802752332042022,8.312491955338244,7.391008370166293,9.88301999637374,9.578840208975,8.533085438031765,7.6661757887670525,8.901874008153671,9.120519707175607,9.83136095462493,9.576252152687747,10.273341690123692,10.755543955934765,10.749336686883488,10.574525419819176,7.9111022568392935,9.101454761577214,9.189000886117643,8.787994128405655,8.898875698011654,8.0606839736609,9.841864904106775,10.046849759651726,8.498297721128688,8.69445580665023,9.444478856870957,8.353164899875043,9.541069211106327,7.72081509266191,8.68724747865966,9.44085941734208,7.971542658777002,8.4634269892796,10.52081608318254,7.0469917789888035,10.250189347642364,10.170047964312062,8.901786524893842,9.451795211642274,9.346096170025552,8.6845608269172,8.468492113278527,8.924292563387446,8.30207750539002,7.585592863447169,7.478470186034148,8.45241756483806,9.989527642979661,9.382777370420577,9.37930436659962,9.268742478775991,8.946722421973286,9.247778603221294,10.005323303503058,9.631043722747554,9.320576570650314,7.3975837472871735,9.879295684802122,9.489841042846475,9.44488886301366,10.05573335065625,7.6967111968641335,7.822860628568228,7.697789509069965,7.464203197370246,9.94648882334788,10.14180724150723,10.27051199171073,10.467309581253186,7.837709735550147,7.335832462880444,7.508943627692479,9.652149543620059,9.138275132023676,7.391531442472909,9.198274673309323,9.16565979686612,8.377246602494955,9.431510080543866,7.134042683207834,10.797228653997497,9.255502954897839,7.466670249974151,10.106962590968418,7.69460826211217,9.439390365865586,9.794905520027315,7.584276358739348,8.503428288324521,8.990686723859456,9.013242200776457,9.508284112949143,10.496750832257703,8.830158243620813,10.008663221610878,10.390481663234114,8.695236392417504,8.824216497974023,7.879771498547758,8.031741411564495,8.020997788799955,9.346206038063324,9.372714367471533,7.82341156964102,9.144342311562506,7.135925376021836,9.956182464199104,9.338096180478136,10.230064158147394,9.037588445855505,8.564222759025652,8.25784178871916,10.152555163167145,8.29259302976008,9.19688068036355,8.593712783276118,10.551783623990207,9.348591160089185,10.088292697254127,9.19634539756895,9.029167205529545,7.44307919402031,10.792931466033865,9.549913275130127,9.46698724635025,9.86343117787501,9.534676057705775,8.710640419433316,8.694900452034446,9.085353626796508,9.015917589813023,10.216327083301252,8.731731503635617,8.024989138296391,9.538723119589323,11.063044851063491,9.233226465989146,10.077745040282705,8.092192495253741,9.35343770227735,8.075153944485312,10.733418440581366,9.502305185386628,8.287257802702698,9.469400568633725,9.322566369188928,9.791376563615858,8.255224088861992,9.028169555820288,8.27771187772261,10.596220295978874,7.406364404275679,9.126288810408107,9.298711367598699,7.821651947371885,9.11148424572815,7.93782416656491,7.663140391039033,8.759913046378147,8.889683642287249,9.354692112918501,10.729897828638402,8.232517794382408,7.705012488667424,8.466665246179556,10.361545144286548,9.489792953617386,9.411066381363035,7.417580162174275,10.977996244143489,9.182406838269918,8.072932580939872,9.466066684677644,7.402185082887787,8.757197116428735,9.777143952016166,7.125135051591155,8.4721126211873,8.258735794194376,10.69066855552094,9.520442078197085,8.695645790101407,9.37944513717139,9.039322997481637,7.850286965609456,9.639463704220857,8.649827952186532,9.085228946018162,8.941193352545817,8.629601006423735,8.914827854790714,10.418463707617837,7.398201281823135,9.124143461400536,9.312042353351504,9.685650366281438,9.768182238872198,9.13600058834087,8.177128178496606,10.15342018852608,8.3973041346534,10.577488661220206,9.053416502076113,8.790504091479043,7.6997053735517555,8.817747756687693,7.539064289173378,10.66825404879016,9.36375778731645,10.056489587208766,10.446969774444645,9.279273348336124,8.205039721904125,10.601180535263609,9.125018839122639,10.452124453879096,9.403405191869094,8.225895175981947,8.81708905097227,9.334919362287428,9.338377498726558,10.66857063461853,9.218888333830831,7.5897479789915785,8.121679315150935,8.878129436102586,9.147543905912501,9.575742371148683,7.9043761479872545,10.123227167426604,9.910925963832568,9.468785844923541,8.804811711848632,10.397801361193013,9.483710377406176,8.404387562891182,9.84193898210435,9.22435532214995,8.719900342802815,9.018245325851677,7.445550141369896,9.427944879069686,9.190228293204834,9.266693389349228,9.021673449865537,9.05105526685099,9.412834667305264,10.113238583053082,8.134562580426712,8.308621071757383,10.180826075318105,9.574594392516097,8.769604038410412,10.007506839098198,8.54647090561255,7.035620121996789,10.20499538590917,10.658680236746347,9.071475467142518,10.5967180358763,10.730076918460497,8.779593747532871,8.484170350113216,8.279848124253304,8.389298681673813,8.7299341509027,10.740756399353332,8.884996064646055,9.43234734963519,10.739230189883656,9.422507663952521,9.225897056826396,7.857584843424017,7.124687580359468,10.599228616071036,9.196593495154136,8.469267273678248,9.327623451564245,8.952818312588256,8.601304368555676,10.174909898054338,10.457558501942229,7.651649469743594,8.995683828905412,7.767360964960058,7.763432980222679,8.18255898458288,8.071295122479397,10.281460948193155,10.603452576194714,9.303488739474496,8.16069317503393,7.611126168865535,9.163426479258085,9.15950069048022,8.591435335997009,9.09727632125036,8.589520922738314,10.70100390153158,9.236440978243934,8.71821072581372,8.60685227014802,7.454453710221802,9.22100535829338,9.02531586349737,7.593098739570316,7.806900665856189,9.404835117276658,9.166074004491346,9.481329245046304,9.291748390265784,9.41177915783591,9.197830488661562,9.329415106363781,9.471115528326077,7.14144225256276,9.220897869951232,10.619677925164396,8.80457811222284,9.720628898531286,7.704181350120979,8.821932095503433,9.871067599302947,9.216860370515706,8.351121369629444,9.153479009894344,9.547328332731697,9.167839187154692,10.607055722973884,8.156031339200162,10.496513294475752,10.705162983255969,9.060038701034644,9.811728313173756,10.674854656276105,8.231600880557536,9.085594264050979,9.201335938471033,9.37057384320268,7.394666693872962,9.054494072064031,8.026989548726904,9.880180183802308,7.552950025628654,9.561738936776804,9.378713626920732,9.748494706186174,8.52342762687361,8.985422121815146,10.046089835582787,8.599460076080982,10.499787826381556,8.275314783535729,7.790263762408525,9.854343315690363,8.029696226087674,9.115487595047211,9.379460484394988,8.995011704753995,8.860873955490042,9.569344770627316,8.844082839915778,10.237860715500025,9.319264729598467,9.456982427705094,9.784056633615622,8.890374886232234,9.264875118676253,8.851763191360497,8.915755053522702,8.688517802847086,9.19723590225276,9.812425217849334,7.0447277692332815,9.1469916813761,10.107255156713231,8.378049369964973,8.766266131660979,9.452593561505488,7.558682822107171,8.558254296547272,9.50732609097838,8.641572203490552,7.132822578705235,7.912757082546145,9.96155917705003,8.883153742357887,9.815243161151129,8.35847076372378,8.459463236630816,9.379926256619562,9.792808867674283,8.860317851519767,9.568982620501616,7.651158215873124,10.565986992376173,7.504323219821754,8.95310445552394,10.256842716748936,7.667103153192724,7.031305298021671,8.104640807797704,9.150050943976023,8.757939870547187,9.306896311862733,8.395903781859541,8.627715388645722,7.537925065877328,7.952530954047238,8.188021123603534,10.06054710107101,10.917547294992884,8.915421241747795,7.893926227202988,7.391342913934506,9.014228634211625,9.435370526534808,9.684652503158159,10.687705623889984,9.941439564593802,10.586518920351532,8.718907896256349,9.502543907191923,8.569095764156032,8.459508261343881,9.371092139462531,8.589971013598309,8.876311390175593,8.389867191171781,9.363723806117159,8.764411228710166,9.443210823244142,7.330609647040468,9.419298666583957,10.491857691628514,10.223173720256224,9.217520041356586,10.714616760063484,9.197528752538256,7.798955951294335,7.997705493304883,9.268763254094612,10.525948049347285,9.55532059850379,10.648080052552228,9.369877618171085,10.090253906152347,7.5365473882432275,10.62069702268439,9.668902907045574,9.810174254086462,9.302504334899389,10.738861266305413,8.875020351299158,9.414887162484883,8.604846211675456,9.080512854387097,8.79487962348839,7.040050370200915,9.356700498379569,9.482624765012883,8.387460745077433,9.042846499711533,8.129282656210663,8.693980696889868,8.831861731365324,9.092810498021672,7.897338776533775,10.171235770556825,8.802941685710042,8.745481087867553,8.750200257934058,8.144117051606075,7.933458968269059,7.857809804377088,10.741927277371957,8.492486693979473,9.88937314629236,10.211649862727798,8.570198421605134,7.428093712160173,9.388079168948936,10.2863996816961,8.887903087032262,9.251762184969365,10.696540102462784,9.514511123422926,9.477606678700827,9.893338956804778,7.705966933884002,7.399137131855286,7.657915319734057,9.069796892030082,10.792891221173397,8.447046729799979,9.002797556383069,9.444984655610234,8.42599665795494,8.486098761601982,8.940330633211769,9.627079620783123,9.769745051915594,7.87817159252883,10.426222578011334,9.573782003657021,8.939448944371764,8.567412419701247,7.813322357466315,9.988486671500228,10.465083507788405,9.475924140581634,8.565073780142555,9.506817801625074,9.507664807071711,8.61036690879096,8.371105780882708,8.74040634030848,10.139876311126674,7.9771340691583665,9.395352140237467,9.508279985512978,8.746677382321595,7.981755390991486,8.738462667748422,9.219990657820349,8.902202771134682,8.449640468132152,9.411960180524343,10.376881142491738,9.101172143951779,7.742402976676437,9.157745620534364,7.02275569117477,9.164250893170816,7.704121802023827,7.395396755351842,9.471386437231496,9.365130561559194,8.876278388360134,10.57252862660237,8.75759125575089,9.900154905431657,9.353130130234815,10.767703505796094,8.417855159696465,10.571279642365509,9.903969119064353,8.262490369006269,10.645413468628771,9.44223646936292,10.622161665837258,10.256568210109709,7.912096392893189,8.11769544314778,9.580155849684816,9.159107396822023,10.183657631860399,8.46512991645919,10.08444914541489,8.92505879602586,8.095558624355604,9.059148553730727,9.278245943233086,8.515667307847805,7.835112016142926,7.472692880911536,7.750451912800503,9.688979238138792,8.962412267907734,7.973467755445312,9.180362290999593,8.494750589651973,10.147104628789455,8.4119080618057,9.862662641344953,9.728920567580962,8.500059209516284,8.939139075708093,9.037182323700586,10.252036176948652,8.416007559900255,9.586849664276604,8.125308451260427,8.874148866946168,9.222113199488794,8.609675248576345,9.706285501310472,8.985504796245682,8.911735124945526,9.538778168752398,8.787487483779877,8.569371542525515,9.76202571691077,10.447927075609824,7.587285163582897,9.963273340747653,9.06271481879738,8.396919288624439,8.398018452790371,10.123234174814288,10.053693656887708,9.206103569390143,9.020274182786737,9.839894594879139,10.507264635419755,9.078550205394492,8.591100686332883,9.403024089001363,7.904424889710272,8.291026575242569,9.433107120309066,10.166580417663528,9.082347101319474,10.479977027143638,10.65043940358712,7.444848937124288,9.056006885440796,7.610940410318889,9.708135143772237,9.98023478794707,9.195270591072427,8.836080297705095,9.984020145580844,10.701530708371722,8.327852506075102,9.528639352939711,9.468856565182067,9.400504263782892,10.531681440619428,10.589749032226115,7.71905662632079,10.020988754703406,9.915161879127544,7.441144509148898,10.41857858101573,8.05878732733746,9.340847933051702,9.993365732981747,8.899055014068397,10.703275887885447,8.187068603776234,10.589801791631476,8.990084578323348,9.574605490521856,9.136481398050599,10.138934663686996,8.117750999081906,9.268090423819404,9.021299048034273,9.794191713083654,7.816408559633747,8.40351412793397,7.591650744100329,9.35480632875911,10.798968200840411,8.786944725768821,8.649775859143583,8.86014425220058,9.102553036193283,8.658243599015632,9.571495074794829,9.299161269129582,10.593422185887682,9.544986338409286,7.554611082053211,9.400683932949047,9.48829672633496,8.425700975901744,9.053844093381725,7.650770471196587,10.45369196926782,9.626516867794916,9.382952324423352,8.401648245617254,8.675205405912378,8.312993320177268,9.61712194982434,9.853417719940197,9.286963416182969,9.337257352528104,9.184910824415926,9.26644533668895,10.637682648494286,9.331366029092958,8.186319652795467,10.431392923451883,9.332499861417224,8.425338504513691,10.706412420172152,7.423348897772541,10.04522867243799,8.079345718462804,9.727722696523381,9.3284274502958,8.152316015237817,9.338142664603124,9.924299701956077,9.24367181583795,9.103663295588047,9.25855377937721,7.9738746785158625,9.06014071822226,9.351180428629407,10.644215692662685,10.093319729709767,8.577755665419184,7.7815959834760955,9.28799434890277,9.129390868287384,10.494728624653064,10.552754669006335,8.647068245273546,10.438994266874893,9.029677155375715,10.750673458085194,9.847101914674951,10.618988014021557,9.5648355158761,9.231576872745064,8.671890076332048,9.572087934304326,7.455238911901867,9.057457489820392,8.21431030307363,9.938324649552763,9.209443735117471,9.887019481651924,9.313401057049871,8.938993221929394,8.063468403906713,8.217264298529827,10.51593249556386,9.110302035032785,8.98149522239808,10.20795276365428,8.754330468232741,9.172679729279917,9.331593756776948,10.870297037328017,7.7238140107412425,9.286556691431501,8.696130862655307,7.697909358195443,9.412124563634917,10.619894255888985,8.635946041095384,9.30702911930132,8.885747486629533,10.58967925474193,9.576792532279685,7.807802841965112,8.291506659465831,8.952508735612067,8.54172748903643,9.850254057175354,7.696590227142071,8.87536456115119,8.561781922867276,9.304058494220062,8.41836175927329,8.449051386241019,8.718067076234034,9.75142449876709,10.020319024488227,9.314125708690787,8.773050702030712,8.397038422923758,7.675249438845605,10.081117399619002,8.779078264166637,7.972289914262673,9.870466762875685,8.942562065496743,7.955314156769049,7.875876121132408,9.153492987408674,9.81619821510089,9.059961964839921,10.531171617986534,9.535664787610457,9.988349810573093,9.482401885007656,8.580618640193542,9.527008643928893,9.474177478202634,9.067761459413477,8.327020684406639,9.84366873790736,10.41353940101522,8.648192944644329,8.763053308616136,8.50404817297853,8.732103228184426,9.074890483071128,7.628189216623282,9.206739898041981,9.810464571098317,8.540225968705249,10.516254269201825,10.556215626155717,9.918221643239786,9.42118232798015,8.589209481098042,10.067433650793916,7.439826782172378,9.287934453440736,8.283006753752403,9.464211568382503,8.597050257244009,8.308474130129282,10.637335168228285,8.927601249659833,8.459183402318027,8.793840853062461,9.04105353293468,10.170673817450307,8.833241063502724,8.475465953953865,8.800949294826985,8.876546253991721,9.268064386389522,9.387503308438452,11.002456427119922,9.911819546370243,9.43185932033737,9.3365781431927,9.049673690712916,7.900847168841421,9.578439617365246,9.411185212728707,8.85159284600809,8.08284568355478,10.763628035142784,10.811295656434112,8.365502762687802,8.061996169331463,7.035216397214367,8.633262581843207,9.116227255405688,8.709328601103802,7.398762896933699,10.534959514126916,9.833516794145021,7.124127959598635,9.694792061021555,9.669587717382127,8.392799080681138,8.775551442516303,9.344586097529177,9.333083048256867,10.31106976965331,9.229924563652334,8.42161463160122,8.094732777794066,8.820284799770908,8.900787262543032,9.246760296387565,10.20086674556824,9.278416690223178,10.44156018267344,7.539286064831457,9.061294971338892,8.099411499635565,8.013610987297714,9.580408338157117,8.46527926236957,9.743514872709168,9.301946427246547,7.9164238956827715,8.379549044428517,10.019582219255035,8.340244319866398,9.022042677591074,10.10788441968992,9.566857461456555,7.450285188201471,10.766459360873188,9.051892181062124,8.224867045261597,8.6074815100297,10.554368101840476,8.874514118662818,8.872613698878428,10.45819571776692,7.323398348799277,9.13797326594303,9.386905831683409,7.583135558747921,7.443620235711848,8.375731211796301,8.568165629835017,7.905009605152786,11.044406702204412,10.751888302731006,8.073648263088874,10.540850427090321,9.964553392295727,7.809792429487589,9.687524689510054,9.974527338330544,10.431189555719895,8.835786694584385,8.84518814721317,8.427577637408286,8.419857942542947,10.5022574580008,9.83979536382488,9.330106452543097,7.456845582123641,7.059155923784115,9.878001482704299,8.882072506273097,8.598777482546863,10.2435722936984,9.471268659768649,10.689587051237151,8.352293229509261,9.48367019054946,8.860785917078346,9.14611163751643,10.016626230507166,9.242343369204054,9.44376414823737,9.286925169193296,9.342393109428775,9.268661005177488,7.698927496239761,7.39623314134416,7.604867089998248,10.279913760197052],\"xaxis\":\"x2\",\"yaxis\":\"y2\"}],                        {\"annotations\":[{\"font\":{\"size\":16},\"showarrow\":false,\"text\":\"Charge Distribution\",\"x\":0.5,\"xanchor\":\"center\",\"xref\":\"paper\",\"y\":1.0,\"yanchor\":\"bottom\",\"yref\":\"paper\"},{\"font\":{\"size\":16},\"showarrow\":false,\"text\":\"Log Charge Distribution\",\"x\":0.5,\"xanchor\":\"center\",\"xref\":\"paper\",\"y\":0.375,\"yanchor\":\"bottom\",\"yref\":\"paper\"}],\"bargap\":0.05,\"showlegend\":true,\"template\":{\"data\":{\"bar\":[{\"error_x\":{\"color\":\"#2a3f5f\"},\"error_y\":{\"color\":\"#2a3f5f\"},\"marker\":{\"line\":{\"color\":\"#E5ECF6\",\"width\":0.5},\"pattern\":{\"fillmode\":\"overlay\",\"size\":10,\"solidity\":0.2}},\"type\":\"bar\"}],\"barpolar\":[{\"marker\":{\"line\":{\"color\":\"#E5ECF6\",\"width\":0.5},\"pattern\":{\"fillmode\":\"overlay\",\"size\":10,\"solidity\":0.2}},\"type\":\"barpolar\"}],\"carpet\":[{\"aaxis\":{\"endlinecolor\":\"#2a3f5f\",\"gridcolor\":\"white\",\"linecolor\":\"white\",\"minorgridcolor\":\"white\",\"startlinecolor\":\"#2a3f5f\"},\"baxis\":{\"endlinecolor\":\"#2a3f5f\",\"gridcolor\":\"white\",\"linecolor\":\"white\",\"minorgridcolor\":\"white\",\"startlinecolor\":\"#2a3f5f\"},\"type\":\"carpet\"}],\"choropleth\":[{\"colorbar\":{\"outlinewidth\":0,\"ticks\":\"\"},\"type\":\"choropleth\"}],\"contour\":[{\"colorbar\":{\"outlinewidth\":0,\"ticks\":\"\"},\"colorscale\":[[0.0,\"#0d0887\"],[0.1111111111111111,\"#46039f\"],[0.2222222222222222,\"#7201a8\"],[0.3333333333333333,\"#9c179e\"],[0.4444444444444444,\"#bd3786\"],[0.5555555555555556,\"#d8576b\"],[0.6666666666666666,\"#ed7953\"],[0.7777777777777778,\"#fb9f3a\"],[0.8888888888888888,\"#fdca26\"],[1.0,\"#f0f921\"]],\"type\":\"contour\"}],\"contourcarpet\":[{\"colorbar\":{\"outlinewidth\":0,\"ticks\":\"\"},\"type\":\"contourcarpet\"}],\"heatmap\":[{\"colorbar\":{\"outlinewidth\":0,\"ticks\":\"\"},\"colorscale\":[[0.0,\"#0d0887\"],[0.1111111111111111,\"#46039f\"],[0.2222222222222222,\"#7201a8\"],[0.3333333333333333,\"#9c179e\"],[0.4444444444444444,\"#bd3786\"],[0.5555555555555556,\"#d8576b\"],[0.6666666666666666,\"#ed7953\"],[0.7777777777777778,\"#fb9f3a\"],[0.8888888888888888,\"#fdca26\"],[1.0,\"#f0f921\"]],\"type\":\"heatmap\"}],\"heatmapgl\":[{\"colorbar\":{\"outlinewidth\":0,\"ticks\":\"\"},\"colorscale\":[[0.0,\"#0d0887\"],[0.1111111111111111,\"#46039f\"],[0.2222222222222222,\"#7201a8\"],[0.3333333333333333,\"#9c179e\"],[0.4444444444444444,\"#bd3786\"],[0.5555555555555556,\"#d8576b\"],[0.6666666666666666,\"#ed7953\"],[0.7777777777777778,\"#fb9f3a\"],[0.8888888888888888,\"#fdca26\"],[1.0,\"#f0f921\"]],\"type\":\"heatmapgl\"}],\"histogram\":[{\"marker\":{\"pattern\":{\"fillmode\":\"overlay\",\"size\":10,\"solidity\":0.2}},\"type\":\"histogram\"}],\"histogram2d\":[{\"colorbar\":{\"outlinewidth\":0,\"ticks\":\"\"},\"colorscale\":[[0.0,\"#0d0887\"],[0.1111111111111111,\"#46039f\"],[0.2222222222222222,\"#7201a8\"],[0.3333333333333333,\"#9c179e\"],[0.4444444444444444,\"#bd3786\"],[0.5555555555555556,\"#d8576b\"],[0.6666666666666666,\"#ed7953\"],[0.7777777777777778,\"#fb9f3a\"],[0.8888888888888888,\"#fdca26\"],[1.0,\"#f0f921\"]],\"type\":\"histogram2d\"}],\"histogram2dcontour\":[{\"colorbar\":{\"outlinewidth\":0,\"ticks\":\"\"},\"colorscale\":[[0.0,\"#0d0887\"],[0.1111111111111111,\"#46039f\"],[0.2222222222222222,\"#7201a8\"],[0.3333333333333333,\"#9c179e\"],[0.4444444444444444,\"#bd3786\"],[0.5555555555555556,\"#d8576b\"],[0.6666666666666666,\"#ed7953\"],[0.7777777777777778,\"#fb9f3a\"],[0.8888888888888888,\"#fdca26\"],[1.0,\"#f0f921\"]],\"type\":\"histogram2dcontour\"}],\"mesh3d\":[{\"colorbar\":{\"outlinewidth\":0,\"ticks\":\"\"},\"type\":\"mesh3d\"}],\"parcoords\":[{\"line\":{\"colorbar\":{\"outlinewidth\":0,\"ticks\":\"\"}},\"type\":\"parcoords\"}],\"pie\":[{\"automargin\":true,\"type\":\"pie\"}],\"scatter\":[{\"marker\":{\"colorbar\":{\"outlinewidth\":0,\"ticks\":\"\"}},\"type\":\"scatter\"}],\"scatter3d\":[{\"line\":{\"colorbar\":{\"outlinewidth\":0,\"ticks\":\"\"}},\"marker\":{\"colorbar\":{\"outlinewidth\":0,\"ticks\":\"\"}},\"type\":\"scatter3d\"}],\"scattercarpet\":[{\"marker\":{\"colorbar\":{\"outlinewidth\":0,\"ticks\":\"\"}},\"type\":\"scattercarpet\"}],\"scattergeo\":[{\"marker\":{\"colorbar\":{\"outlinewidth\":0,\"ticks\":\"\"}},\"type\":\"scattergeo\"}],\"scattergl\":[{\"marker\":{\"colorbar\":{\"outlinewidth\":0,\"ticks\":\"\"}},\"type\":\"scattergl\"}],\"scattermapbox\":[{\"marker\":{\"colorbar\":{\"outlinewidth\":0,\"ticks\":\"\"}},\"type\":\"scattermapbox\"}],\"scatterpolar\":[{\"marker\":{\"colorbar\":{\"outlinewidth\":0,\"ticks\":\"\"}},\"type\":\"scatterpolar\"}],\"scatterpolargl\":[{\"marker\":{\"colorbar\":{\"outlinewidth\":0,\"ticks\":\"\"}},\"type\":\"scatterpolargl\"}],\"scatterternary\":[{\"marker\":{\"colorbar\":{\"outlinewidth\":0,\"ticks\":\"\"}},\"type\":\"scatterternary\"}],\"surface\":[{\"colorbar\":{\"outlinewidth\":0,\"ticks\":\"\"},\"colorscale\":[[0.0,\"#0d0887\"],[0.1111111111111111,\"#46039f\"],[0.2222222222222222,\"#7201a8\"],[0.3333333333333333,\"#9c179e\"],[0.4444444444444444,\"#bd3786\"],[0.5555555555555556,\"#d8576b\"],[0.6666666666666666,\"#ed7953\"],[0.7777777777777778,\"#fb9f3a\"],[0.8888888888888888,\"#fdca26\"],[1.0,\"#f0f921\"]],\"type\":\"surface\"}],\"table\":[{\"cells\":{\"fill\":{\"color\":\"#EBF0F8\"},\"line\":{\"color\":\"white\"}},\"header\":{\"fill\":{\"color\":\"#C8D4E3\"},\"line\":{\"color\":\"white\"}},\"type\":\"table\"}]},\"layout\":{\"annotationdefaults\":{\"arrowcolor\":\"#2a3f5f\",\"arrowhead\":0,\"arrowwidth\":1},\"autotypenumbers\":\"strict\",\"coloraxis\":{\"colorbar\":{\"outlinewidth\":0,\"ticks\":\"\"}},\"colorscale\":{\"diverging\":[[0,\"#8e0152\"],[0.1,\"#c51b7d\"],[0.2,\"#de77ae\"],[0.3,\"#f1b6da\"],[0.4,\"#fde0ef\"],[0.5,\"#f7f7f7\"],[0.6,\"#e6f5d0\"],[0.7,\"#b8e186\"],[0.8,\"#7fbc41\"],[0.9,\"#4d9221\"],[1,\"#276419\"]],\"sequential\":[[0.0,\"#0d0887\"],[0.1111111111111111,\"#46039f\"],[0.2222222222222222,\"#7201a8\"],[0.3333333333333333,\"#9c179e\"],[0.4444444444444444,\"#bd3786\"],[0.5555555555555556,\"#d8576b\"],[0.6666666666666666,\"#ed7953\"],[0.7777777777777778,\"#fb9f3a\"],[0.8888888888888888,\"#fdca26\"],[1.0,\"#f0f921\"]],\"sequentialminus\":[[0.0,\"#0d0887\"],[0.1111111111111111,\"#46039f\"],[0.2222222222222222,\"#7201a8\"],[0.3333333333333333,\"#9c179e\"],[0.4444444444444444,\"#bd3786\"],[0.5555555555555556,\"#d8576b\"],[0.6666666666666666,\"#ed7953\"],[0.7777777777777778,\"#fb9f3a\"],[0.8888888888888888,\"#fdca26\"],[1.0,\"#f0f921\"]]},\"colorway\":[\"#636efa\",\"#EF553B\",\"#00cc96\",\"#ab63fa\",\"#FFA15A\",\"#19d3f3\",\"#FF6692\",\"#B6E880\",\"#FF97FF\",\"#FECB52\"],\"font\":{\"color\":\"#2a3f5f\"},\"geo\":{\"bgcolor\":\"white\",\"lakecolor\":\"white\",\"landcolor\":\"#E5ECF6\",\"showlakes\":true,\"showland\":true,\"subunitcolor\":\"white\"},\"hoverlabel\":{\"align\":\"left\"},\"hovermode\":\"closest\",\"mapbox\":{\"style\":\"light\"},\"paper_bgcolor\":\"white\",\"plot_bgcolor\":\"#E5ECF6\",\"polar\":{\"angularaxis\":{\"gridcolor\":\"white\",\"linecolor\":\"white\",\"ticks\":\"\"},\"bgcolor\":\"#E5ECF6\",\"radialaxis\":{\"gridcolor\":\"white\",\"linecolor\":\"white\",\"ticks\":\"\"}},\"scene\":{\"xaxis\":{\"backgroundcolor\":\"#E5ECF6\",\"gridcolor\":\"white\",\"gridwidth\":2,\"linecolor\":\"white\",\"showbackground\":true,\"ticks\":\"\",\"zerolinecolor\":\"white\"},\"yaxis\":{\"backgroundcolor\":\"#E5ECF6\",\"gridcolor\":\"white\",\"gridwidth\":2,\"linecolor\":\"white\",\"showbackground\":true,\"ticks\":\"\",\"zerolinecolor\":\"white\"},\"zaxis\":{\"backgroundcolor\":\"#E5ECF6\",\"gridcolor\":\"white\",\"gridwidth\":2,\"linecolor\":\"white\",\"showbackground\":true,\"ticks\":\"\",\"zerolinecolor\":\"white\"}},\"shapedefaults\":{\"line\":{\"color\":\"#2a3f5f\"}},\"ternary\":{\"aaxis\":{\"gridcolor\":\"white\",\"linecolor\":\"white\",\"ticks\":\"\"},\"baxis\":{\"gridcolor\":\"white\",\"linecolor\":\"white\",\"ticks\":\"\"},\"bgcolor\":\"#E5ECF6\",\"caxis\":{\"gridcolor\":\"white\",\"linecolor\":\"white\",\"ticks\":\"\"}},\"title\":{\"x\":0.05},\"xaxis\":{\"automargin\":true,\"gridcolor\":\"white\",\"linecolor\":\"white\",\"ticks\":\"\",\"title\":{\"standoff\":15},\"zerolinecolor\":\"white\",\"zerolinewidth\":2},\"yaxis\":{\"automargin\":true,\"gridcolor\":\"white\",\"linecolor\":\"white\",\"ticks\":\"\",\"title\":{\"standoff\":15},\"zerolinecolor\":\"white\",\"zerolinewidth\":2}}},\"title\":{\"text\":\"Charge Distribution\"},\"xaxis\":{\"anchor\":\"y\",\"domain\":[0.0,1.0]},\"xaxis2\":{\"anchor\":\"y2\",\"domain\":[0.0,1.0]},\"yaxis\":{\"anchor\":\"x\",\"domain\":[0.625,1.0]},\"yaxis2\":{\"anchor\":\"x2\",\"domain\":[0.0,0.375]}},                        {\"responsive\": true}                    ).then(function(){\n",
       "                            \n",
       "var gd = document.getElementById('13446f14-6590-4dd7-b6bc-e448eec457c0');\n",
       "var x = new MutationObserver(function (mutations, observer) {{\n",
       "        var display = window.getComputedStyle(gd).display;\n",
       "        if (!display || display === 'none') {{\n",
       "            console.log([gd, 'removed!']);\n",
       "            Plotly.purge(gd);\n",
       "            observer.disconnect();\n",
       "        }}\n",
       "}});\n",
       "\n",
       "// Listen for the removal of the full notebook cells\n",
       "var notebookContainer = gd.closest('#notebook-container');\n",
       "if (notebookContainer) {{\n",
       "    x.observe(notebookContainer, {childList: true});\n",
       "}}\n",
       "\n",
       "// Listen for the clearing of the current output cell\n",
       "var outputEl = gd.closest('.output');\n",
       "if (outputEl) {{\n",
       "    x.observe(outputEl, {childList: true});\n",
       "}}\n",
       "\n",
       "                        })                };                });            </script>        </div>"
      ]
     },
     "metadata": {},
     "output_type": "display_data"
    }
   ],
   "source": [
    "# Determine the distribution of charge\n",
    "charge_dist = df[\"charges\"].values\n",
    "logcharge = np.log(df[\"charges\"])\n",
    "\n",
    "\n",
    "\n",
    "trace0 = go.Histogram(\n",
    "    x=charge_dist,\n",
    "    histnorm='probability',\n",
    "    name=\"Charges Distribution\",\n",
    "    marker = dict(\n",
    "        color = '#FA5858',\n",
    "    )\n",
    ")\n",
    "trace1 = go.Histogram(\n",
    "    x=logcharge,\n",
    "    histnorm='probability',\n",
    "    name=\"Charges Distribution using Log\",\n",
    "    marker = dict(\n",
    "        color = '#58FA82',\n",
    "    )\n",
    ")\n",
    "\n",
    "fig = tools.make_subplots(rows=2, cols=1,\n",
    "                          subplot_titles=('Charge Distribution','Log Charge Distribution'),\n",
    "                         print_grid=False)\n",
    "\n",
    "\n",
    "\n",
    "fig.append_trace(trace0, 1, 1)\n",
    "fig.append_trace(trace1, 2, 1)\n",
    "\n",
    "\n",
    "fig['layout'].update(showlegend=True, title='Charge Distribution', bargap=0.05)\n",
    "iplot(fig, filename='custom-sized-subplot-with-subplot-titles')"
   ]
  },
  {
   "cell_type": "code",
   "execution_count": 13,
   "metadata": {},
   "outputs": [
    {
     "data": {
      "image/png": "[encoded data removed]",
      "text/plain": [
       "<Figure size 864x576 with 1 Axes>"
      ]
     },
     "metadata": {
      "needs_background": "light"
     },
     "output_type": "display_data"
    }
   ],
   "source": [
    "f, ax = plt.subplots(1,1, figsize=(12,8))\n",
    "ax = sns.barplot(x = 'region', y = 'charges',\n",
    "                 hue='smoker', data=df, palette='Reds_r')"
   ]
  },
  {
   "cell_type": "code",
   "execution_count": 14,
   "metadata": {},
   "outputs": [
    {
     "data": {
      "image/png": "[encoded data removed]",
      "text/plain": [
       "<Figure size 864x576 with 1 Axes>"
      ]
     },
     "metadata": {
      "needs_background": "light"
     },
     "output_type": "display_data"
    }
   ],
   "source": [
    "f, ax = plt.subplots(1, 1, figsize=(12, 8))\n",
    "ax = sns.barplot(x='region', y='charges', hue='children', data=df, palette='Set3')"
   ]
  },
  {
   "cell_type": "code",
   "execution_count": 15,
   "metadata": {
    "execution": {
     "iopub.execute_input": "2022-01-02T16:31:37.945756Z",
     "iopub.status.busy": "2022-01-02T16:31:37.945579Z",
     "iopub.status.idle": "2022-01-02T16:31:38.753105Z",
     "shell.execute_reply": "2022-01-02T16:31:38.752397Z",
     "shell.execute_reply.started": "2022-01-02T16:31:37.945733Z"
    }
   },
   "outputs": [
    {
     "data": {
      "text/plain": [
       "array([[<matplotlib.axes._subplots.AxesSubplot object at 0x000001A38CAC6100>,\n",
       "        <matplotlib.axes._subplots.AxesSubplot object at 0x000001A38CAF05B0>],\n",
       "       [<matplotlib.axes._subplots.AxesSubplot object at 0x000001A38CB1DA00>,\n",
       "        <matplotlib.axes._subplots.AxesSubplot object at 0x000001A38CB4AE50>]],\n",
       "      dtype=object)"
      ]
     },
     "execution_count": 15,
     "metadata": {},
     "output_type": "execute_result"
    },
    {
     "data": {
      "image/png": "[encoded data removed]",
      "text/plain": [
       "<Figure size 720x720 with 4 Axes>"
      ]
     },
     "metadata": {
      "needs_background": "light"
     },
     "output_type": "display_data"
    }
   ],
   "source": [
    "df[['age', 'sex', 'bmi', 'children', 'smoker', 'charges']].hist(bins=30, figsize=(10,10),color='green')"
   ]
  },
  {
   "cell_type": "code",
   "execution_count": 16,
   "metadata": {
    "execution": {
     "iopub.execute_input": "2022-01-02T16:31:38.754769Z",
     "iopub.status.busy": "2022-01-02T16:31:38.754367Z",
     "iopub.status.idle": "2022-01-02T16:31:47.850154Z",
     "shell.execute_reply": "2022-01-02T16:31:47.849482Z",
     "shell.execute_reply.started": "2022-01-02T16:31:38.754731Z"
    }
   },
   "outputs": [
    {
     "data": {
      "text/plain": [
       "<seaborn.axisgrid.PairGrid at 0x1a38ce91b50>"
      ]
     },
     "execution_count": 16,
     "metadata": {},
     "output_type": "execute_result"
    },
    {
     "data": {
      "image/png": "[encoded data removed]",
      "text/plain": [
       "<Figure size 720x720 with 20 Axes>"
      ]
     },
     "metadata": {
      "needs_background": "light"
     },
     "output_type": "display_data"
    }
   ],
   "source": [
    "sns.pairplot(df)"
   ]
  },
  {
   "cell_type": "markdown",
   "metadata": {},
   "source": [
    "Check the realtionship between the age and Charges"
   ]
  },
  {
   "cell_type": "code",
   "execution_count": 17,
   "metadata": {
    "execution": {
     "iopub.execute_input": "2022-01-02T16:31:47.851321Z",
     "iopub.status.busy": "2022-01-02T16:31:47.851089Z",
     "iopub.status.idle": "2022-01-02T16:31:48.200963Z",
     "shell.execute_reply": "2022-01-02T16:31:48.200308Z",
     "shell.execute_reply.started": "2022-01-02T16:31:47.851286Z"
    }
   },
   "outputs": [
    {
     "data": {
      "image/png": "[encoded data removed]",
      "text/plain": [
       "<Figure size 432x288 with 1 Axes>"
      ]
     },
     "metadata": {
      "needs_background": "light"
     },
     "output_type": "display_data"
    }
   ],
   "source": [
    "sns.regplot(x='age', y='charges', data=df)\n",
    "plt.title('Age vs Charges')\n",
    "plt.show()"
   ]
  },
  {
   "cell_type": "markdown",
   "metadata": {},
   "source": [
    "Lets compare the correlation between age and charges using the ANOVA table"
   ]
  },
  {
   "cell_type": "code",
   "execution_count": 18,
   "metadata": {},
   "outputs": [
    {
     "name": "stdout",
     "output_type": "stream",
     "text": [
      "                            OLS Regression Results                            \n",
      "==============================================================================\n",
      "Dep. Variable:                    age   R-squared:                       0.089\n",
      "Model:                            OLS   Adj. R-squared:                  0.089\n",
      "Method:                 Least Squares   F-statistic:                     131.2\n",
      "Date:                Fri, 21 Jan 2022   Prob (F-statistic):           4.89e-29\n",
      "Time:                        14:44:42   Log-Likelihood:                -5371.2\n",
      "No. Observations:                1338   AIC:                         1.075e+04\n",
      "Df Residuals:                    1336   BIC:                         1.076e+04\n",
      "Df Model:                           1                                         \n",
      "Covariance Type:            nonrobust                                         \n",
      "==============================================================================\n",
      "                 coef    std err          t      P>|t|      [0.025      0.975]\n",
      "------------------------------------------------------------------------------\n",
      "Intercept     34.6034      0.544     63.601      0.000      33.536      35.671\n",
      "charges        0.0003   3.03e-05     11.453      0.000       0.000       0.000\n",
      "==============================================================================\n",
      "Omnibus:                      373.301   Durbin-Watson:                   1.962\n",
      "Prob(Omnibus):                  0.000   Jarque-Bera (JB):               61.167\n",
      "Skew:                          -0.024   Prob(JB):                     5.22e-14\n",
      "Kurtosis:                       1.954   Cond. No.                     2.67e+04\n",
      "==============================================================================\n",
      "\n",
      "Warnings:\n",
      "[1] Standard Errors assume that the covariance matrix of the errors is correctly specified.\n",
      "[2] The condition number is large, 2.67e+04. This might indicate that there are\n",
      "strong multicollinearity or other numerical problems.\n"
     ]
    }
   ],
   "source": [
    "agechar_lm = ols(\"age ~ charges\", data=df).fit()\n",
    "print(agechar_lm.summary())"
   ]
  },
  {
   "cell_type": "code",
   "execution_count": 19,
   "metadata": {
    "execution": {
     "iopub.execute_input": "2022-01-02T16:31:48.203132Z",
     "iopub.status.busy": "2022-01-02T16:31:48.202047Z",
     "iopub.status.idle": "2022-01-02T16:31:48.54126Z",
     "shell.execute_reply": "2022-01-02T16:31:48.540596Z",
     "shell.execute_reply.started": "2022-01-02T16:31:48.20309Z"
    }
   },
   "outputs": [
    {
     "data": {
      "image/png": "[encoded data removed]",
      "text/plain": [
       "<Figure size 432x288 with 1 Axes>"
      ]
     },
     "metadata": {
      "needs_background": "light"
     },
     "output_type": "display_data"
    }
   ],
   "source": [
    "sns.regplot(x='bmi', y='charges', data=df)\n",
    "plt.title('BMI vs CHARGES')\n",
    "plt.show()"
   ]
  },
  {
   "cell_type": "markdown",
   "metadata": {},
   "source": [
    "As we know that machine can understand only numbers, so let's convert it into numbers."
   ]
  },
  {
   "cell_type": "code",
   "execution_count": 20,
   "metadata": {
    "execution": {
     "iopub.execute_input": "2022-01-02T16:31:48.542856Z",
     "iopub.status.busy": "2022-01-02T16:31:48.542615Z",
     "iopub.status.idle": "2022-01-02T16:31:48.55002Z",
     "shell.execute_reply": "2022-01-02T16:31:48.549274Z",
     "shell.execute_reply.started": "2022-01-02T16:31:48.542823Z"
    }
   },
   "outputs": [],
   "source": [
    "from sklearn.preprocessing import LabelEncoder\n",
    "#sex\n",
    "le = LabelEncoder()\n",
    "le.fit(df.sex.drop_duplicates())\n",
    "df.sex = le.transform(df.sex)\n",
    "#smoker or not\n",
    "le.fit(df.smoker.drop_duplicates())\n",
    "df.smoker = le.transform(df.smoker)\n",
    "#region\n",
    "le.fit(df.region.drop_duplicates())\n",
    "df.region = le.transform(df.region)"
   ]
  },
  {
   "cell_type": "code",
   "execution_count": 21,
   "metadata": {
    "execution": {
     "iopub.execute_input": "2022-01-02T16:31:48.551651Z",
     "iopub.status.busy": "2022-01-02T16:31:48.551406Z",
     "iopub.status.idle": "2022-01-02T16:31:48.567808Z",
     "shell.execute_reply": "2022-01-02T16:31:48.567052Z",
     "shell.execute_reply.started": "2022-01-02T16:31:48.551613Z"
    }
   },
   "outputs": [
    {
     "data": {
      "text/html": [
       "<div>\n",
       "<style scoped>\n",
       "    .dataframe tbody tr th:only-of-type {\n",
       "        vertical-align: middle;\n",
       "    }\n",
       "\n",
       "    .dataframe tbody tr th {\n",
       "        vertical-align: top;\n",
       "    }\n",
       "\n",
       "    .dataframe thead th {\n",
       "        text-align: right;\n",
       "    }\n",
       "</style>\n",
       "<table border=\"1\" class=\"dataframe\">\n",
       "  <thead>\n",
       "    <tr style=\"text-align: right;\">\n",
       "      <th></th>\n",
       "      <th>age</th>\n",
       "      <th>sex</th>\n",
       "      <th>bmi</th>\n",
       "      <th>children</th>\n",
       "      <th>smoker</th>\n",
       "      <th>region</th>\n",
       "      <th>charges</th>\n",
       "    </tr>\n",
       "  </thead>\n",
       "  <tbody>\n",
       "    <tr>\n",
       "      <th>0</th>\n",
       "      <td>19</td>\n",
       "      <td>0</td>\n",
       "      <td>27.900</td>\n",
       "      <td>0</td>\n",
       "      <td>1</td>\n",
       "      <td>3</td>\n",
       "      <td>16884.92400</td>\n",
       "    </tr>\n",
       "    <tr>\n",
       "      <th>1</th>\n",
       "      <td>18</td>\n",
       "      <td>1</td>\n",
       "      <td>33.770</td>\n",
       "      <td>1</td>\n",
       "      <td>0</td>\n",
       "      <td>2</td>\n",
       "      <td>1725.55230</td>\n",
       "    </tr>\n",
       "    <tr>\n",
       "      <th>2</th>\n",
       "      <td>28</td>\n",
       "      <td>1</td>\n",
       "      <td>33.000</td>\n",
       "      <td>3</td>\n",
       "      <td>0</td>\n",
       "      <td>2</td>\n",
       "      <td>4449.46200</td>\n",
       "    </tr>\n",
       "    <tr>\n",
       "      <th>3</th>\n",
       "      <td>33</td>\n",
       "      <td>1</td>\n",
       "      <td>22.705</td>\n",
       "      <td>0</td>\n",
       "      <td>0</td>\n",
       "      <td>1</td>\n",
       "      <td>21984.47061</td>\n",
       "    </tr>\n",
       "    <tr>\n",
       "      <th>4</th>\n",
       "      <td>32</td>\n",
       "      <td>1</td>\n",
       "      <td>28.880</td>\n",
       "      <td>0</td>\n",
       "      <td>0</td>\n",
       "      <td>1</td>\n",
       "      <td>3866.85520</td>\n",
       "    </tr>\n",
       "  </tbody>\n",
       "</table>\n",
       "</div>"
      ],
      "text/plain": [
       "   age  sex     bmi  children  smoker  region      charges\n",
       "0   19    0  27.900         0       1       3  16884.92400\n",
       "1   18    1  33.770         1       0       2   1725.55230\n",
       "2   28    1  33.000         3       0       2   4449.46200\n",
       "3   33    1  22.705         0       0       1  21984.47061\n",
       "4   32    1  28.880         0       0       1   3866.85520"
      ]
     },
     "execution_count": 21,
     "metadata": {},
     "output_type": "execute_result"
    }
   ],
   "source": [
    "df.head()"
   ]
  },
  {
   "cell_type": "markdown",
   "metadata": {},
   "source": [
    "Correlation between different attriubtes of the data"
   ]
  },
  {
   "cell_type": "code",
   "execution_count": 22,
   "metadata": {
    "execution": {
     "iopub.execute_input": "2022-01-02T16:31:48.569849Z",
     "iopub.status.busy": "2022-01-02T16:31:48.569353Z",
     "iopub.status.idle": "2022-01-02T16:31:49.152424Z",
     "shell.execute_reply": "2022-01-02T16:31:49.151792Z",
     "shell.execute_reply.started": "2022-01-02T16:31:48.569812Z"
    }
   },
   "outputs": [
    {
     "data": {
      "image/png": "[encoded data removed]",
      "text/plain": [
       "<Figure size 864x576 with 2 Axes>"
      ]
     },
     "metadata": {
      "needs_background": "light"
     },
     "output_type": "display_data"
    }
   ],
   "source": [
    "plt.figure(figsize=(12,8))\n",
    "sns.heatmap(df.corr(),annot=True)\n",
    "plt.show()"
   ]
  },
  {
   "cell_type": "markdown",
   "metadata": {},
   "source": [
    "### Distrubtion of charges between smokers and non-smokers"
   ]
  },
  {
   "cell_type": "code",
   "execution_count": 23,
   "metadata": {
    "execution": {
     "iopub.execute_input": "2022-01-02T16:31:49.154294Z",
     "iopub.status.busy": "2022-01-02T16:31:49.153627Z",
     "iopub.status.idle": "2022-01-02T16:31:49.738369Z",
     "shell.execute_reply": "2022-01-02T16:31:49.737672Z",
     "shell.execute_reply.started": "2022-01-02T16:31:49.154253Z"
    }
   },
   "outputs": [
    {
     "data": {
      "text/plain": [
       "Text(0.5, 1.0, 'Distribution of charges for non-smokers')"
      ]
     },
     "execution_count": 23,
     "metadata": {},
     "output_type": "execute_result"
    },
    {
     "data": {
      "image/png": "[encoded data removed]",
      "text/plain": [
       "<Figure size 864x360 with 2 Axes>"
      ]
     },
     "metadata": {
      "needs_background": "light"
     },
     "output_type": "display_data"
    }
   ],
   "source": [
    "f = plt.figure(figsize=(12,5))\n",
    "\n",
    "ax = f.add_subplot(121)\n",
    "sns.histplot(df[(df.smoker==1)]['charges'], color='c',ax=ax,kde=True, linewidth=0)\n",
    "ax.set_title('Distribution of charges for smokeres')\n",
    "\n",
    "ax = f.add_subplot(122)\n",
    "sns.histplot(df[(df.smoker==0)]['charges'],color='b',ax=ax,kde=True,linewidth=0)\n",
    "ax.set_title('Distribution of charges for non-smokers')"
   ]
  },
  {
   "cell_type": "code",
   "execution_count": 24,
   "metadata": {
    "execution": {
     "iopub.execute_input": "2022-01-02T16:31:49.740097Z",
     "iopub.status.busy": "2022-01-02T16:31:49.739661Z",
     "iopub.status.idle": "2022-01-02T16:31:50.038519Z",
     "shell.execute_reply": "2022-01-02T16:31:50.037829Z",
     "shell.execute_reply.started": "2022-01-02T16:31:49.740057Z"
    }
   },
   "outputs": [
    {
     "data": {
      "text/plain": [
       "<seaborn.axisgrid.FacetGrid at 0x1a38cdaa1f0>"
      ]
     },
     "execution_count": 24,
     "metadata": {},
     "output_type": "execute_result"
    },
    {
     "data": {
      "text/plain": [
       "<Figure size 576x576 with 0 Axes>"
      ]
     },
     "metadata": {},
     "output_type": "display_data"
    },
    {
     "data": {
      "image/png": "[encoded data removed]",
      "text/plain": [
       "<Figure size 402.375x360 with 1 Axes>"
      ]
     },
     "metadata": {
      "needs_background": "light"
     },
     "output_type": "display_data"
    }
   ],
   "source": [
    "plt.figure(figsize=(8,8))\n",
    "sns.catplot(x='smoker', kind='count', hue='sex', palette='pink', data=df)"
   ]
  },
  {
   "cell_type": "markdown",
   "metadata": {},
   "source": [
    "Please note that women are coded with the symbol \" 1 \"and men \"0\""
   ]
  },
  {
   "cell_type": "code",
   "execution_count": 25,
   "metadata": {
    "execution": {
     "iopub.execute_input": "2022-01-02T16:31:50.040112Z",
     "iopub.status.busy": "2022-01-02T16:31:50.039827Z",
     "iopub.status.idle": "2022-01-02T16:31:50.457268Z",
     "shell.execute_reply": "2022-01-02T16:31:50.455713Z",
     "shell.execute_reply.started": "2022-01-02T16:31:50.040076Z"
    }
   },
   "outputs": [
    {
     "data": {
      "text/plain": [
       "<seaborn.axisgrid.FacetGrid at 0x1a38f4cf2e0>"
      ]
     },
     "execution_count": 25,
     "metadata": {},
     "output_type": "execute_result"
    },
    {
     "data": {
      "image/png": "[encoded data removed]",
      "text/plain": [
       "<Figure size 404.5x360 with 1 Axes>"
      ]
     },
     "metadata": {
      "needs_background": "light"
     },
     "output_type": "display_data"
    }
   ],
   "source": [
    "sns.catplot(x=\"sex\", y=\"charges\", hue=\"smoker\",\n",
    "            kind=\"violin\", data=df, palette = 'magma')"
   ]
  },
  {
   "cell_type": "markdown",
   "metadata": {},
   "source": [
    "## Charges (Based on Sex)"
   ]
  },
  {
   "cell_type": "code",
   "execution_count": 26,
   "metadata": {
    "execution": {
     "iopub.execute_input": "2022-01-02T16:31:50.459012Z",
     "iopub.status.busy": "2022-01-02T16:31:50.45836Z",
     "iopub.status.idle": "2022-01-02T16:31:50.672723Z",
     "shell.execute_reply": "2022-01-02T16:31:50.672041Z",
     "shell.execute_reply.started": "2022-01-02T16:31:50.458958Z"
    }
   },
   "outputs": [
    {
     "data": {
      "text/plain": [
       "<matplotlib.axes._subplots.AxesSubplot at 0x1a38f4d45b0>"
      ]
     },
     "execution_count": 26,
     "metadata": {},
     "output_type": "execute_result"
    },
    {
     "data": {
      "image/png": "[encoded data removed]",
      "text/plain": [
       "<Figure size 864x360 with 1 Axes>"
      ]
     },
     "metadata": {
      "needs_background": "light"
     },
     "output_type": "display_data"
    }
   ],
   "source": [
    "plt.figure(figsize=(12,5))\n",
    "plt.title(\"Box plot for charges of women\")\n",
    "sns.boxplot(y='smoker',x='charges',data=df[(df.sex == 1)] , orient='h',palette='magma')"
   ]
  },
  {
   "cell_type": "code",
   "execution_count": 27,
   "metadata": {
    "execution": {
     "iopub.execute_input": "2022-01-02T16:31:50.674514Z",
     "iopub.status.busy": "2022-01-02T16:31:50.674184Z",
     "iopub.status.idle": "2022-01-02T16:31:50.884427Z",
     "shell.execute_reply": "2022-01-02T16:31:50.883771Z",
     "shell.execute_reply.started": "2022-01-02T16:31:50.674448Z"
    }
   },
   "outputs": [
    {
     "data": {
      "text/plain": [
       "<matplotlib.axes._subplots.AxesSubplot at 0x1a38f5d7d00>"
      ]
     },
     "execution_count": 27,
     "metadata": {},
     "output_type": "execute_result"
    },
    {
     "data": {
      "image/png": "[encoded data removed]",
      "text/plain": [
       "<Figure size 864x360 with 1 Axes>"
      ]
     },
     "metadata": {
      "needs_background": "light"
     },
     "output_type": "display_data"
    }
   ],
   "source": [
    "plt.figure(figsize=(12,5))\n",
    "plt.title(\"Box plot for charges of men\")\n",
    "sns.boxplot(y='smoker',x='charges',data=df[(df.sex == 1)] , orient='h',palette='rainbow')"
   ]
  },
  {
   "cell_type": "markdown",
   "metadata": {},
   "source": [
    "Lets seehow age affects the cost of treatment"
   ]
  },
  {
   "cell_type": "code",
   "execution_count": 28,
   "metadata": {
    "execution": {
     "iopub.execute_input": "2022-01-02T16:31:50.885745Z",
     "iopub.status.busy": "2022-01-02T16:31:50.885505Z",
     "iopub.status.idle": "2022-01-02T16:31:51.128648Z",
     "shell.execute_reply": "2022-01-02T16:31:51.128013Z",
     "shell.execute_reply.started": "2022-01-02T16:31:50.885711Z"
    }
   },
   "outputs": [
    {
     "data": {
      "text/plain": [
       "<matplotlib.axes._subplots.AxesSubplot at 0x1a38f6774c0>"
      ]
     },
     "execution_count": 28,
     "metadata": {},
     "output_type": "execute_result"
    },
    {
     "data": {
      "image/png": "[encoded data removed]",
      "text/plain": [
       "<Figure size 864x360 with 1 Axes>"
      ]
     },
     "metadata": {
      "needs_background": "light"
     },
     "output_type": "display_data"
    }
   ],
   "source": [
    "plt.figure(figsize=(12,5))\n",
    "plt.title(\"Distribution of age\")\n",
    "sns.histplot(df['age'],color='g',kde=True, linewidth=0)"
   ]
  },
  {
   "cell_type": "markdown",
   "metadata": {},
   "source": [
    "### Young age charges"
   ]
  },
  {
   "cell_type": "markdown",
   "metadata": {},
   "source": [
    "Let's check whether there are smokers among pateints 25 years."
   ]
  },
  {
   "cell_type": "code",
   "execution_count": 29,
   "metadata": {
    "execution": {
     "iopub.execute_input": "2022-01-02T16:31:51.130184Z",
     "iopub.status.busy": "2022-01-02T16:31:51.129919Z",
     "iopub.status.idle": "2022-01-02T16:31:51.425507Z",
     "shell.execute_reply": "2022-01-02T16:31:51.424789Z",
     "shell.execute_reply.started": "2022-01-02T16:31:51.13015Z"
    }
   },
   "outputs": [
    {
     "data": {
      "text/plain": [
       "Text(0.5, 1.0, 'The number of smokers and non-smokers (25 years old or less)')"
      ]
     },
     "execution_count": 29,
     "metadata": {},
     "output_type": "execute_result"
    },
    {
     "data": {
      "image/png": "[encoded data removed]",
      "text/plain": [
       "<Figure size 402.375x360 with 1 Axes>"
      ]
     },
     "metadata": {
      "needs_background": "light"
     },
     "output_type": "display_data"
    }
   ],
   "source": [
    "sns.catplot(x='smoker', kind='count', hue='sex', palette='rainbow',data=df[(df.age <= 25)])\n",
    "plt.title(\"The number of smokers and non-smokers (25 years old or less)\")"
   ]
  },
  {
   "cell_type": "markdown",
   "metadata": {},
   "source": [
    "For 25 years old or younger, let's check the treatment cost of this age."
   ]
  },
  {
   "cell_type": "code",
   "execution_count": 30,
   "metadata": {
    "execution": {
     "iopub.execute_input": "2022-01-02T16:31:51.426754Z",
     "iopub.status.busy": "2022-01-02T16:31:51.426533Z",
     "iopub.status.idle": "2022-01-02T16:31:51.644709Z",
     "shell.execute_reply": "2022-01-02T16:31:51.644001Z",
     "shell.execute_reply.started": "2022-01-02T16:31:51.426719Z"
    }
   },
   "outputs": [
    {
     "data": {
      "text/plain": [
       "<matplotlib.axes._subplots.AxesSubplot at 0x1a38f671070>"
      ]
     },
     "execution_count": 30,
     "metadata": {},
     "output_type": "execute_result"
    },
    {
     "data": {
      "image/png": "[encoded data removed]",
      "text/plain": [
       "<Figure size 864x360 with 1 Axes>"
      ]
     },
     "metadata": {
      "needs_background": "light"
     },
     "output_type": "display_data"
    }
   ],
   "source": [
    "plt.figure(figsize=(12,5))\n",
    "plt.title(\"Box plot for charges 18 years old smokers\")\n",
    "sns.boxplot(y='smoker', x='charges', data=df[(df.age <=25)],orient='h',palette='pink')"
   ]
  },
  {
   "cell_type": "markdown",
   "metadata": {},
   "source": [
    "### Now let's check about BMI"
   ]
  },
  {
   "cell_type": "code",
   "execution_count": 31,
   "metadata": {
    "execution": {
     "iopub.execute_input": "2022-01-02T16:31:51.650839Z",
     "iopub.status.busy": "2022-01-02T16:31:51.648868Z",
     "iopub.status.idle": "2022-01-02T16:31:52.06184Z",
     "shell.execute_reply": "2022-01-02T16:31:52.061033Z",
     "shell.execute_reply.started": "2022-01-02T16:31:51.650797Z"
    }
   },
   "outputs": [
    {
     "data": {
      "image/png": "[encoded data removed]",
      "text/plain": [
       "<Figure size 864x360 with 1 Axes>"
      ]
     },
     "metadata": {
      "needs_background": "light"
     },
     "output_type": "display_data"
    }
   ],
   "source": [
    "plt.figure(figsize=(12,5))\n",
    "plt.title(\"Distribution of BMI\")\n",
    "ax = sns.histplot(df['bmi'],color=\"m\",kde=True, linewidth=0)"
   ]
  },
  {
   "cell_type": "markdown",
   "metadata": {},
   "source": [
    "The average BMI in patients is 30. \n",
    "\n",
    "### BMI range\n",
    "\n",
    "BMI ----> Weight status\n",
    "\n",
    "below 18.5 ----> Underweight\n",
    "\n",
    "18.5 - 24.9 ----> Normal Weight\n",
    "\n",
    "25.0 - 29.9 ----> Overweight\n",
    "\n",
    "30.0 - 34.9 ----> Obeisty Class I\n",
    "\n",
    "35.0 - 39.9 ----> Obesity Class II\n",
    "\n",
    "Above 40 ----> Obesity Class III"
   ]
  },
  {
   "cell_type": "code",
   "execution_count": 32,
   "metadata": {
    "execution": {
     "iopub.execute_input": "2022-01-02T16:31:52.065845Z",
     "iopub.status.busy": "2022-01-02T16:31:52.065528Z",
     "iopub.status.idle": "2022-01-02T16:31:52.392478Z",
     "shell.execute_reply": "2022-01-02T16:31:52.391823Z",
     "shell.execute_reply.started": "2022-01-02T16:31:52.065806Z"
    }
   },
   "outputs": [
    {
     "data": {
      "image/png": "[encoded data removed]",
      "text/plain": [
       "<Figure size 864x360 with 1 Axes>"
      ]
     },
     "metadata": {
      "needs_background": "light"
     },
     "output_type": "display_data"
    }
   ],
   "source": [
    "plt.figure(figsize=(12,5))\n",
    "plt.title(\"Distribution of charges for patients with BMI greater than 30\")\n",
    "ax = sns.histplot(df[(df.bmi >= 30)]['charges'], color = 'm', kde=True,linewidth=0)"
   ]
  },
  {
   "cell_type": "code",
   "execution_count": 33,
   "metadata": {
    "execution": {
     "iopub.execute_input": "2022-01-02T16:31:52.394438Z",
     "iopub.status.busy": "2022-01-02T16:31:52.393671Z",
     "iopub.status.idle": "2022-01-02T16:31:52.65651Z",
     "shell.execute_reply": "2022-01-02T16:31:52.65583Z",
     "shell.execute_reply.started": "2022-01-02T16:31:52.394398Z"
    }
   },
   "outputs": [
    {
     "data": {
      "image/png": "[encoded data removed]",
      "text/plain": [
       "<Figure size 864x360 with 1 Axes>"
      ]
     },
     "metadata": {
      "needs_background": "light"
     },
     "output_type": "display_data"
    }
   ],
   "source": [
    "plt.figure(figsize=(12,5))\n",
    "plt.title(\"Distribution of charges for patients with BMI less than 30\")\n",
    "ax = sns.histplot(df[(df.bmi<30)]['charges'], color='b', kde=True,linewidth=0)"
   ]
  },
  {
   "cell_type": "markdown",
   "metadata": {},
   "source": [
    "#### Patients with BMI above 30 spend more on treatment"
   ]
  },
  {
   "cell_type": "markdown",
   "metadata": {},
   "source": [
    "Let's pay attention to children. First, let's see how many children our patients have."
   ]
  },
  {
   "cell_type": "code",
   "execution_count": 34,
   "metadata": {
    "execution": {
     "iopub.execute_input": "2022-01-02T16:31:52.658053Z",
     "iopub.status.busy": "2022-01-02T16:31:52.657636Z",
     "iopub.status.idle": "2022-01-02T16:31:52.913492Z",
     "shell.execute_reply": "2022-01-02T16:31:52.9128Z",
     "shell.execute_reply.started": "2022-01-02T16:31:52.658014Z"
    }
   },
   "outputs": [
    {
     "data": {
      "text/plain": [
       "<seaborn.axisgrid.FacetGrid at 0x1a38f8d3d00>"
      ]
     },
     "execution_count": 34,
     "metadata": {},
     "output_type": "execute_result"
    },
    {
     "data": {
      "image/png": "[encoded data removed]",
      "text/plain": [
       "<Figure size 432x432 with 1 Axes>"
      ]
     },
     "metadata": {
      "needs_background": "light"
     },
     "output_type": "display_data"
    }
   ],
   "source": [
    "sns.catplot(x=\"children\", kind=\"count\", palette=\"ch:.25\",data=df, height=6)"
   ]
  },
  {
   "cell_type": "markdown",
   "metadata": {},
   "source": [
    "Most patients do not have children."
   ]
  },
  {
   "cell_type": "code",
   "execution_count": 35,
   "metadata": {
    "execution": {
     "iopub.execute_input": "2022-01-02T16:31:52.914835Z",
     "iopub.status.busy": "2022-01-02T16:31:52.914581Z",
     "iopub.status.idle": "2022-01-02T16:31:53.224298Z",
     "shell.execute_reply": "2022-01-02T16:31:53.223649Z",
     "shell.execute_reply.started": "2022-01-02T16:31:52.914797Z"
    }
   },
   "outputs": [
    {
     "data": {
      "text/plain": [
       "Text(0.5, 1.0, 'Smokers and non-smokers who have children')"
      ]
     },
     "execution_count": 35,
     "metadata": {},
     "output_type": "execute_result"
    },
    {
     "data": {
      "image/png": "[encoded data removed]",
      "text/plain": [
       "<Figure size 474.375x432 with 1 Axes>"
      ]
     },
     "metadata": {
      "needs_background": "light"
     },
     "output_type": "display_data"
    }
   ],
   "source": [
    "sns.catplot(x=\"smoker\", kind=\"count\", palette=\"rainbow\",hue=\"sex\",data=df[(df.children > 0)], height=6)\n",
    "ax.set_title(\"Smokers and non-smokers who have children\")"
   ]
  },
  {
   "cell_type": "markdown",
   "metadata": {},
   "source": [
    "### Label encoder to transform columns before test/train the data"
   ]
  },
  {
   "cell_type": "code",
   "execution_count": 36,
   "metadata": {},
   "outputs": [
    {
     "data": {
      "text/plain": [
       "age           int64\n",
       "sex           int64\n",
       "bmi         float64\n",
       "children      int64\n",
       "smoker        int64\n",
       "region        int64\n",
       "charges     float64\n",
       "dtype: object"
      ]
     },
     "execution_count": 36,
     "metadata": {},
     "output_type": "execute_result"
    }
   ],
   "source": [
    "from sklearn.preprocessing import LabelEncoder\n",
    "label = LabelEncoder()\n",
    "label.fit(df.sex.drop_duplicates())\n",
    "df.sex = label.transform(df.sex)\n",
    "label.fit(df.smoker.drop_duplicates())\n",
    "df.smoker = label.transform(df.smoker)\n",
    "label.fit(df.region.drop_duplicates())\n",
    "df.region = label.transform(df.region)\n",
    "df.dtypes"
   ]
  },
  {
   "cell_type": "code",
   "execution_count": 37,
   "metadata": {},
   "outputs": [
    {
     "data": {
      "text/html": [
       "<div>\n",
       "<style scoped>\n",
       "    .dataframe tbody tr th:only-of-type {\n",
       "        vertical-align: middle;\n",
       "    }\n",
       "\n",
       "    .dataframe tbody tr th {\n",
       "        vertical-align: top;\n",
       "    }\n",
       "\n",
       "    .dataframe thead th {\n",
       "        text-align: right;\n",
       "    }\n",
       "</style>\n",
       "<table border=\"1\" class=\"dataframe\">\n",
       "  <thead>\n",
       "    <tr style=\"text-align: right;\">\n",
       "      <th></th>\n",
       "      <th>age</th>\n",
       "      <th>sex</th>\n",
       "      <th>bmi</th>\n",
       "      <th>children</th>\n",
       "      <th>smoker</th>\n",
       "      <th>region</th>\n",
       "      <th>charges</th>\n",
       "    </tr>\n",
       "  </thead>\n",
       "  <tbody>\n",
       "    <tr>\n",
       "      <th>0</th>\n",
       "      <td>19</td>\n",
       "      <td>0</td>\n",
       "      <td>27.900</td>\n",
       "      <td>0</td>\n",
       "      <td>1</td>\n",
       "      <td>3</td>\n",
       "      <td>16884.92400</td>\n",
       "    </tr>\n",
       "    <tr>\n",
       "      <th>1</th>\n",
       "      <td>18</td>\n",
       "      <td>1</td>\n",
       "      <td>33.770</td>\n",
       "      <td>1</td>\n",
       "      <td>0</td>\n",
       "      <td>2</td>\n",
       "      <td>1725.55230</td>\n",
       "    </tr>\n",
       "    <tr>\n",
       "      <th>2</th>\n",
       "      <td>28</td>\n",
       "      <td>1</td>\n",
       "      <td>33.000</td>\n",
       "      <td>3</td>\n",
       "      <td>0</td>\n",
       "      <td>2</td>\n",
       "      <td>4449.46200</td>\n",
       "    </tr>\n",
       "    <tr>\n",
       "      <th>3</th>\n",
       "      <td>33</td>\n",
       "      <td>1</td>\n",
       "      <td>22.705</td>\n",
       "      <td>0</td>\n",
       "      <td>0</td>\n",
       "      <td>1</td>\n",
       "      <td>21984.47061</td>\n",
       "    </tr>\n",
       "    <tr>\n",
       "      <th>4</th>\n",
       "      <td>32</td>\n",
       "      <td>1</td>\n",
       "      <td>28.880</td>\n",
       "      <td>0</td>\n",
       "      <td>0</td>\n",
       "      <td>1</td>\n",
       "      <td>3866.85520</td>\n",
       "    </tr>\n",
       "  </tbody>\n",
       "</table>\n",
       "</div>"
      ],
      "text/plain": [
       "   age  sex     bmi  children  smoker  region      charges\n",
       "0   19    0  27.900         0       1       3  16884.92400\n",
       "1   18    1  33.770         1       0       2   1725.55230\n",
       "2   28    1  33.000         3       0       2   4449.46200\n",
       "3   33    1  22.705         0       0       1  21984.47061\n",
       "4   32    1  28.880         0       0       1   3866.85520"
      ]
     },
     "execution_count": 37,
     "metadata": {},
     "output_type": "execute_result"
    }
   ],
   "source": [
    "df.head()"
   ]
  },
  {
   "cell_type": "markdown",
   "metadata": {},
   "source": [
    "### Splitting the data into training and testing "
   ]
  },
  {
   "cell_type": "code",
   "execution_count": 38,
   "metadata": {},
   "outputs": [],
   "source": [
    "x = df.drop(['charges'], axis = 1)\n",
    "y = df['charges']\n",
    "x_train, x_test, y_train, y_test = holdout(x, y, test_size=0.2, random_state=0)"
   ]
  },
  {
   "cell_type": "markdown",
   "metadata": {},
   "source": [
    "### Linear Regression"
   ]
  },
  {
   "cell_type": "code",
   "execution_count": 39,
   "metadata": {},
   "outputs": [
    {
     "name": "stdout",
     "output_type": "stream",
     "text": [
      "-11661.983908824392\n",
      "0.7998747145449959\n"
     ]
    },
    {
     "data": {
      "text/html": [
       "<div>\n",
       "<style scoped>\n",
       "    .dataframe tbody tr th:only-of-type {\n",
       "        vertical-align: middle;\n",
       "    }\n",
       "\n",
       "    .dataframe tbody tr th {\n",
       "        vertical-align: top;\n",
       "    }\n",
       "\n",
       "    .dataframe thead th {\n",
       "        text-align: right;\n",
       "    }\n",
       "</style>\n",
       "<table border=\"1\" class=\"dataframe\">\n",
       "  <thead>\n",
       "    <tr style=\"text-align: right;\">\n",
       "      <th></th>\n",
       "      <th>Coefficient</th>\n",
       "    </tr>\n",
       "  </thead>\n",
       "  <tbody>\n",
       "    <tr>\n",
       "      <th>age</th>\n",
       "      <td>253.991852</td>\n",
       "    </tr>\n",
       "    <tr>\n",
       "      <th>sex</th>\n",
       "      <td>-24.324551</td>\n",
       "    </tr>\n",
       "    <tr>\n",
       "      <th>bmi</th>\n",
       "      <td>328.402617</td>\n",
       "    </tr>\n",
       "    <tr>\n",
       "      <th>children</th>\n",
       "      <td>443.729295</td>\n",
       "    </tr>\n",
       "    <tr>\n",
       "      <th>smoker</th>\n",
       "      <td>23568.879484</td>\n",
       "    </tr>\n",
       "    <tr>\n",
       "      <th>region</th>\n",
       "      <td>-288.508573</td>\n",
       "    </tr>\n",
       "  </tbody>\n",
       "</table>\n",
       "</div>"
      ],
      "text/plain": [
       "           Coefficient\n",
       "age         253.991852\n",
       "sex         -24.324551\n",
       "bmi         328.402617\n",
       "children    443.729295\n",
       "smoker    23568.879484\n",
       "region     -288.508573"
      ]
     },
     "execution_count": 39,
     "metadata": {},
     "output_type": "execute_result"
    }
   ],
   "source": [
    "Lin_reg = LinearRegression()\n",
    "Lin_reg.fit(x_train, y_train)\n",
    "y_train_pred = Lin_reg.predict(x_train)\n",
    "y_test_pred = Lin_reg.predict(x_test)\n",
    "LRSC = Lin_reg.score(x_test, y_test)\n",
    "coeff_df = pd.DataFrame(Lin_reg.coef_, x.columns, columns=['Coefficient'])\n",
    "\n",
    "print(Lin_reg.intercept_)\n",
    "print(Lin_reg.score(x_test, y_test))\n",
    "coeff_df"
   ]
  },
  {
   "cell_type": "code",
   "execution_count": 40,
   "metadata": {},
   "outputs": [
    {
     "name": "stdout",
     "output_type": "stream",
     "text": [
      "0.7998747145449959\n",
      "Mean Absolute Error: 3930.3332739011403\n",
      "Mean Squared Error: 31845929.13415944\n",
      "Root Mean Squared Error: 5643.219748880902\n"
     ]
    }
   ],
   "source": [
    "print(Lin_reg.score(x_test, y_test))\n",
    "print('Mean Absolute Error:', metrics.mean_absolute_error(y_test, y_test_pred))\n",
    "print('Mean Squared Error:', metrics.mean_squared_error(y_test, y_test_pred))\n",
    "print('Root Mean Squared Error:', np.sqrt(metrics.mean_squared_error(y_test, y_test_pred)))"
   ]
  },
  {
   "cell_type": "markdown",
   "metadata": {
    "execution": {
     "iopub.execute_input": "2022-01-02T16:31:53.225755Z",
     "iopub.status.busy": "2022-01-02T16:31:53.22544Z",
     "iopub.status.idle": "2022-01-02T16:31:53.236082Z",
     "shell.execute_reply": "2022-01-02T16:31:53.235342Z",
     "shell.execute_reply.started": "2022-01-02T16:31:53.225718Z"
    }
   },
   "source": [
    "### Ridge Regression"
   ]
  },
  {
   "cell_type": "code",
   "execution_count": 41,
   "metadata": {},
   "outputs": [
    {
     "name": "stdout",
     "output_type": "stream",
     "text": [
      "-11643.440927495818\n",
      "0.799698963206314\n",
      "[ 2.53893751e+02 -2.15112284e+01  3.28339566e+02  4.44238477e+02\n",
      "  2.35009674e+04 -2.89027871e+02]\n"
     ]
    },
    {
     "data": {
      "text/html": [
       "<div>\n",
       "<style scoped>\n",
       "    .dataframe tbody tr th:only-of-type {\n",
       "        vertical-align: middle;\n",
       "    }\n",
       "\n",
       "    .dataframe tbody tr th {\n",
       "        vertical-align: top;\n",
       "    }\n",
       "\n",
       "    .dataframe thead th {\n",
       "        text-align: right;\n",
       "    }\n",
       "</style>\n",
       "<table border=\"1\" class=\"dataframe\">\n",
       "  <thead>\n",
       "    <tr style=\"text-align: right;\">\n",
       "      <th></th>\n",
       "      <th>Coefficient</th>\n",
       "    </tr>\n",
       "  </thead>\n",
       "  <tbody>\n",
       "    <tr>\n",
       "      <th>age</th>\n",
       "      <td>253.893751</td>\n",
       "    </tr>\n",
       "    <tr>\n",
       "      <th>sex</th>\n",
       "      <td>-21.511228</td>\n",
       "    </tr>\n",
       "    <tr>\n",
       "      <th>bmi</th>\n",
       "      <td>328.339566</td>\n",
       "    </tr>\n",
       "    <tr>\n",
       "      <th>children</th>\n",
       "      <td>444.238477</td>\n",
       "    </tr>\n",
       "    <tr>\n",
       "      <th>smoker</th>\n",
       "      <td>23500.967431</td>\n",
       "    </tr>\n",
       "    <tr>\n",
       "      <th>region</th>\n",
       "      <td>-289.027871</td>\n",
       "    </tr>\n",
       "  </tbody>\n",
       "</table>\n",
       "</div>"
      ],
      "text/plain": [
       "           Coefficient\n",
       "age         253.893751\n",
       "sex         -21.511228\n",
       "bmi         328.339566\n",
       "children    444.238477\n",
       "smoker    23500.967431\n",
       "region     -289.027871"
      ]
     },
     "execution_count": 41,
     "metadata": {},
     "output_type": "execute_result"
    }
   ],
   "source": [
    "from sklearn.linear_model import Ridge\n",
    "Ridge = Ridge(alpha=0.5)\n",
    "Ridge.fit(x_train, y_train)\n",
    "y_train_pred1 = Ridge.predict(x_train)\n",
    "y_test_pred1 = Ridge.predict(x_test)\n",
    "RRSC = Ridge.score(x_test, y_test)\n",
    "coeff2_df = pd.DataFrame(Ridge.coef_, x.columns, columns=['Coefficient'])\n",
    "print(Ridge.intercept_)\n",
    "print(Ridge.score(x_test, y_test))\n",
    "print(Ridge.coef_)\n",
    "coeff2_df\n"
   ]
  },
  {
   "cell_type": "code",
   "execution_count": 42,
   "metadata": {},
   "outputs": [
    {
     "name": "stdout",
     "output_type": "stream",
     "text": [
      "0.799698963206314\n",
      "Mean Absolute Error: 3936.645077764159\n",
      "Mean Squared Error: 31873896.438061956\n",
      "Root Mean Squared Error: 5645.697161384231\n"
     ]
    }
   ],
   "source": [
    "print(Ridge.score(x_test, y_test))\n",
    "print('Mean Absolute Error:', metrics.mean_absolute_error(y_test, y_test_pred1))\n",
    "print('Mean Squared Error:', metrics.mean_squared_error(y_test, y_test_pred1))\n",
    "print('Root Mean Squared Error:', np.sqrt(metrics.mean_squared_error(y_test, y_test_pred1)))"
   ]
  },
  {
   "cell_type": "markdown",
   "metadata": {},
   "source": [
    "### Lasso Regression"
   ]
  },
  {
   "cell_type": "code",
   "execution_count": 43,
   "metadata": {},
   "outputs": [
    {
     "name": "stdout",
     "output_type": "stream",
     "text": [
      "-11661.838929039537\n",
      "[ 2.53991436e+02 -2.34569821e+01  3.28389438e+02  4.43587436e+02\n",
      "  2.35676136e+04 -2.88340296e+02]\n",
      "0.7998690236224705\n"
     ]
    },
    {
     "data": {
      "text/html": [
       "<div>\n",
       "<style scoped>\n",
       "    .dataframe tbody tr th:only-of-type {\n",
       "        vertical-align: middle;\n",
       "    }\n",
       "\n",
       "    .dataframe tbody tr th {\n",
       "        vertical-align: top;\n",
       "    }\n",
       "\n",
       "    .dataframe thead th {\n",
       "        text-align: right;\n",
       "    }\n",
       "</style>\n",
       "<table border=\"1\" class=\"dataframe\">\n",
       "  <thead>\n",
       "    <tr style=\"text-align: right;\">\n",
       "      <th></th>\n",
       "      <th>Coefficient</th>\n",
       "    </tr>\n",
       "  </thead>\n",
       "  <tbody>\n",
       "    <tr>\n",
       "      <th>age</th>\n",
       "      <td>253.991436</td>\n",
       "    </tr>\n",
       "    <tr>\n",
       "      <th>sex</th>\n",
       "      <td>-23.456982</td>\n",
       "    </tr>\n",
       "    <tr>\n",
       "      <th>bmi</th>\n",
       "      <td>328.389438</td>\n",
       "    </tr>\n",
       "    <tr>\n",
       "      <th>children</th>\n",
       "      <td>443.587436</td>\n",
       "    </tr>\n",
       "    <tr>\n",
       "      <th>smoker</th>\n",
       "      <td>23567.613551</td>\n",
       "    </tr>\n",
       "    <tr>\n",
       "      <th>region</th>\n",
       "      <td>-288.340296</td>\n",
       "    </tr>\n",
       "  </tbody>\n",
       "</table>\n",
       "</div>"
      ],
      "text/plain": [
       "           Coefficient\n",
       "age         253.991436\n",
       "sex         -23.456982\n",
       "bmi         328.389438\n",
       "children    443.587436\n",
       "smoker    23567.613551\n",
       "region     -288.340296"
      ]
     },
     "execution_count": 43,
     "metadata": {},
     "output_type": "execute_result"
    }
   ],
   "source": [
    "from sklearn.linear_model import Lasso\n",
    "Lasso = Lasso(alpha=0.2, fit_intercept=True, normalize=False, precompute=False, max_iter=1000,\n",
    "              tol=0.0001, warm_start=False, positive=False, random_state=None, selection='cyclic')\n",
    "Lasso.fit(x_train, y_train)\n",
    "LASC = Lasso.score(x_test, y_test)\n",
    "coeff3_df = pd.DataFrame(Lasso.coef_, x.columns, columns=['Coefficient'])\n",
    "y_train_pred2 = Lasso.predict(x_train)\n",
    "y_test_pred2 = Lasso.predict(x_test)\n",
    "print(Lasso.intercept_)\n",
    "print(Lasso.coef_)\n",
    "print(Lasso.score(x_test, y_test))\n",
    "coeff3_df\n",
    "\n"
   ]
  },
  {
   "cell_type": "code",
   "execution_count": 44,
   "metadata": {},
   "outputs": [
    {
     "name": "stdout",
     "output_type": "stream",
     "text": [
      "0.799698963206314\n",
      "Mean Absolute Error: 3930.4787565896063\n",
      "Mean Squared Error: 31846834.73044648\n",
      "Root Mean Squared Error: 5643.299985863456\n"
     ]
    }
   ],
   "source": [
    "print(Ridge.score(x_test, y_test))\n",
    "print('Mean Absolute Error:', metrics.mean_absolute_error(y_test, y_test_pred2))\n",
    "print('Mean Squared Error:', metrics.mean_squared_error(y_test, y_test_pred2))\n",
    "print('Root Mean Squared Error:', np.sqrt(metrics.mean_squared_error(y_test, y_test_pred2)))"
   ]
  },
  {
   "cell_type": "markdown",
   "metadata": {},
   "source": [
    "### Random Forest Regressor"
   ]
  },
  {
   "cell_type": "code",
   "execution_count": 45,
   "metadata": {},
   "outputs": [
    {
     "name": "stdout",
     "output_type": "stream",
     "text": [
      "MSE train data: 3635087.011, MSE test data: 19766481.085\n",
      "R2 train data: 0.971, R2 test data: 0.877\n",
      "Root Mean Squared Error Test:  5459.5554106791715\n",
      "Root Mean Squared Error Train: 2525.529114632888\n",
      "Mean Absolute Error Test: 3148.909848040579\n",
      "Mean Absolute Error Train: 1426.7860239588592\n"
     ]
    }
   ],
   "source": [
    "from sklearn.ensemble import RandomForestRegressor as rfr\n",
    "Rfr = rfr(n_estimators = 100, criterion = 'mse',\n",
    "                              random_state = 1,\n",
    "                              n_jobs = -1)\n",
    "Rfr.fit(x_train,y_train)\n",
    "y_train_pred3 = Rfr.predict(x_train)\n",
    "y_test_pred3 = Rfr.predict(x_test)\n",
    "RFSC = metrics.r2_score(y_test,y_test_pred3, y_test)\n",
    "\n",
    "print('MSE train data: %.3f, MSE test data: %.3f' % \n",
    "      (metrics.mean_squared_error(y_train_pred3, y_train),\n",
    "       metrics.mean_squared_error(y_test_pred3, y_test)))\n",
    "print('R2 train data: %.3f, R2 test data: %.3f' % \n",
    "      (metrics.r2_score(y_train,y_train_pred3, y_train),\n",
    "       metrics.r2_score(y_test,y_test_pred3, y_test)))\n",
    "print('Root Mean Squared Error Test: ', np.sqrt(metrics.mean_squared_error(y_test, y_test_pred3,y_test)))\n",
    "print('Root Mean Squared Error Train:', np.sqrt(metrics.mean_squared_error(y_train, y_train_pred3, y_train)))\n",
    "print('Mean Absolute Error Test:', metrics.mean_absolute_error(y_test, y_test_pred3,y_test))\n",
    "print('Mean Absolute Error Train:', metrics.mean_absolute_error(y_train, y_train_pred3,y_train))\n"
   ]
  },
  {
   "cell_type": "markdown",
   "metadata": {},
   "source": [
    "### Now I am going to test to see if by using polynomial features, we can get a better fit from the model"
   ]
  },
  {
   "cell_type": "code",
   "execution_count": 46,
   "metadata": {},
   "outputs": [],
   "source": [
    "poly_model_df = df.drop('region', axis=1)\n",
    "poly_model_df = pd.get_dummies(data=poly_model_df, columns=['sex', 'smoker'], drop_first=True)\n",
    "X = poly_model_df.drop('charges', axis=1)\n",
    "y = poly_model_df['charges']\n",
    "poly = PolynomialFeatures(degree=2)\n",
    "X = poly.fit_transform(X)\n",
    "X_train, X_test, y_train, y_test = train_test_split(X, y, test_size=0.3)\n"
   ]
  },
  {
   "cell_type": "code",
   "execution_count": 47,
   "metadata": {},
   "outputs": [
    {
     "data": {
      "text/plain": [
       "<matplotlib.collections.PathCollection at 0x1a39158b1c0>"
      ]
     },
     "execution_count": 47,
     "metadata": {},
     "output_type": "execute_result"
    },
    {
     "data": {
      "image/png": "[encoded data removed]",
      "text/plain": [
       "<Figure size 432x288 with 1 Axes>"
      ]
     },
     "metadata": {
      "needs_background": "light"
     },
     "output_type": "display_data"
    }
   ],
   "source": [
    "poly_lm = LinearRegression()\n",
    "poly_lm.fit(X_train, y_train)\n",
    "predictions = poly_lm.predict(X_test)\n",
    "plt.scatter(y_test, predictions)"
   ]
  },
  {
   "cell_type": "code",
   "execution_count": 48,
   "metadata": {},
   "outputs": [
    {
     "name": "stdout",
     "output_type": "stream",
     "text": [
      "Root Mean Squared Error : 4769.309492241802\n",
      "Mean Absoutle Error: 2880.551559899739\n",
      "Mean Squared Error: 22746313.03278776\n",
      "R-Squared: 0.8560717362109009\n"
     ]
    }
   ],
   "source": [
    "print('Root Mean Squared Error :', np.sqrt(metrics.mean_squared_error(y_test, predictions)))\n",
    "print('Mean Absoutle Error:', metrics.mean_absolute_error(y_test, predictions))\n",
    "print('Mean Squared Error:', metrics.mean_squared_error(y_test, predictions))\n",
    "print('R-Squared: ' + str(poly_lm.score(X_test, y_test)))\n",
    "PLSC = poly_lm.score(X_test,y_test)\n"
   ]
  },
  {
   "cell_type": "markdown",
   "metadata": {},
   "source": [
    "### Following the machine learning tests on the test and train set conducted, below is a table which ranks to best performing to least performing"
   ]
  },
  {
   "cell_type": "code",
   "execution_count": 49,
   "metadata": {},
   "outputs": [
    {
     "data": {
      "text/html": [
       "<div>\n",
       "<style scoped>\n",
       "    .dataframe tbody tr th:only-of-type {\n",
       "        vertical-align: middle;\n",
       "    }\n",
       "\n",
       "    .dataframe tbody tr th {\n",
       "        vertical-align: top;\n",
       "    }\n",
       "\n",
       "    .dataframe thead th {\n",
       "        text-align: right;\n",
       "    }\n",
       "</style>\n",
       "<table border=\"1\" class=\"dataframe\">\n",
       "  <thead>\n",
       "    <tr style=\"text-align: right;\">\n",
       "      <th></th>\n",
       "      <th>Models</th>\n",
       "      <th>R-Squared Test Score</th>\n",
       "    </tr>\n",
       "  </thead>\n",
       "  <tbody>\n",
       "    <tr>\n",
       "      <th>3</th>\n",
       "      <td>Random Forest Regressor</td>\n",
       "      <td>0.877009</td>\n",
       "    </tr>\n",
       "    <tr>\n",
       "      <th>4</th>\n",
       "      <td>Polynomial</td>\n",
       "      <td>0.856072</td>\n",
       "    </tr>\n",
       "    <tr>\n",
       "      <th>0</th>\n",
       "      <td>Linear Regression</td>\n",
       "      <td>0.799875</td>\n",
       "    </tr>\n",
       "    <tr>\n",
       "      <th>2</th>\n",
       "      <td>Lasso Regression</td>\n",
       "      <td>0.799869</td>\n",
       "    </tr>\n",
       "    <tr>\n",
       "      <th>1</th>\n",
       "      <td>Ridge Regression</td>\n",
       "      <td>0.799699</td>\n",
       "    </tr>\n",
       "  </tbody>\n",
       "</table>\n",
       "</div>"
      ],
      "text/plain": [
       "                    Models  R-Squared Test Score\n",
       "3  Random Forest Regressor              0.877009\n",
       "4               Polynomial              0.856072\n",
       "0        Linear Regression              0.799875\n",
       "2         Lasso Regression              0.799869\n",
       "1         Ridge Regression              0.799699"
      ]
     },
     "execution_count": 49,
     "metadata": {},
     "output_type": "execute_result"
    }
   ],
   "source": [
    "models = pd.DataFrame({\n",
    "                'Models': ['Linear Regression', 'Ridge Regression', 'Lasso Regression','Random Forest Regressor','Polynomial'],\n",
    "                'R-Squared Test Score':  [LRSC, RRSC, LASC, RFSC, PLSC]})\n",
    "\n",
    "models.sort_values(by='R-Squared Test Score', ascending=False)"
   ]
  },
  {
   "cell_type": "code",
   "execution_count": 50,
   "metadata": {},
   "outputs": [
    {
     "name": "stdout",
     "output_type": "stream",
     "text": [
      "Feature importance ranking\n",
      "\n",
      "\n",
      "1.smoker(0.601678)\n",
      "2.bmi(0.218724)\n",
      "3.age(0.136971)\n",
      "4.children(0.021047)\n",
      "5.region(0.015208)\n",
      "6.sex(0.006371)\n"
     ]
    },
    {
     "data": {
      "text/plain": [
       "<BarContainer object of 6 artists>"
      ]
     },
     "execution_count": 50,
     "metadata": {},
     "output_type": "execute_result"
    },
    {
     "data": {
      "image/png": "[encoded data removed]",
      "text/plain": [
       "<Figure size 432x288 with 1 Axes>"
      ]
     },
     "metadata": {
      "needs_background": "light"
     },
     "output_type": "display_data"
    }
   ],
   "source": [
    "print('Feature importance ranking\\n\\n')\n",
    "importances = Rfr.feature_importances_\n",
    "std = np.std([tree.feature_importances_ for tree in Rfr.estimators_],axis=0)\n",
    "indices = np.argsort(importances)[::-1]\n",
    "variables = ['age', 'sex', 'bmi', 'children','smoker', 'region']\n",
    "importance_list = []\n",
    "for f in range(x.shape[1]):\n",
    "    variable = variables[indices[f]]\n",
    "    importance_list.append(variable)\n",
    "    print(\"%d.%s(%f)\" % (f + 1, variable, importances[indices[f]]))\n",
    "\n",
    "# Plot the feature importances of the forest\n",
    "plt.figure()\n",
    "plt.title(\"Feature importances\")\n",
    "plt.bar(importance_list, importances[indices],\n",
    "       color=\"b\", yerr=std[indices], align=\"center\")"
   ]
  },
  {
   "cell_type": "code",
   "execution_count": 51,
   "metadata": {},
   "outputs": [
    {
     "name": "stdout",
     "output_type": "stream",
     "text": [
      "(1070, 6)\n",
      "(268, 6)\n"
     ]
    }
   ],
   "source": [
    "X = df.drop(['charges'],axis=1)\n",
    "y = df.charges\n",
    "\n",
    "X_train, X_test, y_train, y_test = train_test_split(X,y, test_size=0.2, random_state=0)\n",
    "print(X_train.shape)\n",
    "print(X_test.shape)"
   ]
  },
  {
   "cell_type": "code",
   "execution_count": 52,
   "metadata": {},
   "outputs": [
    {
     "data": {
      "text/plain": [
       "<matplotlib.collections.LineCollection at 0x1a3909e6610>"
      ]
     },
     "execution_count": 52,
     "metadata": {},
     "output_type": "execute_result"
    },
    {
     "data": {
      "image/png": "[encoded data removed]",
      "text/plain": [
       "<Figure size 576x432 with 1 Axes>"
      ]
     },
     "metadata": {
      "needs_background": "light"
     },
     "output_type": "display_data"
    }
   ],
   "source": [
    "plt.figure(figsize=(8,6))\n",
    "\n",
    "plt.scatter(y_train_pred3, y_train_pred3 - y_train,\n",
    "          c = 'gray', marker = 'o', s = 35, alpha = 0.5,\n",
    "          label = 'Train data')\n",
    "plt.scatter(y_test_pred3, y_test_pred3 - y_test,\n",
    "          c = 'blue', marker = 'o', s = 35, alpha = 0.7,\n",
    "          label = 'Test data')\n",
    "plt.xlabel('Predicted values')\n",
    "plt.ylabel('Actual values')\n",
    "plt.legend(loc = 'upper right')\n",
    "plt.hlines(y = 0, xmin = 0, xmax = 60000, lw = 2, color = 'red')"
   ]
  },
  {
   "cell_type": "code",
   "execution_count": null,
   "metadata": {},
   "outputs": [],
   "source": []
  }
 ],
 "metadata": {
  "kernelspec": {
   "display_name": "Python 3",
   "language": "python",
   "name": "python3"
  },
  "language_info": {
   "codemirror_mode": {
    "name": "ipython",
    "version": 3
   },
   "file_extension": ".py",
   "mimetype": "text/x-python",
   "name": "python",
   "nbconvert_exporter": "python",
   "pygments_lexer": "ipython3",
   "version": "3.8.3"
  }
 },
 "nbformat": 4,
 "nbformat_minor": 4
}
